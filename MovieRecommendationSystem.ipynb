{
  "nbformat": 4,
  "nbformat_minor": 0,
  "metadata": {
    "colab": {
      "provenance": []
    },
    "kernelspec": {
      "name": "python3",
      "display_name": "Python 3"
    },
    "language_info": {
      "name": "python"
    }
  },
  "cells": [
    {
      "cell_type": "code",
      "execution_count": 1,
      "metadata": {
        "id": "Pcq6xhp3WZ0s"
      },
      "outputs": [],
      "source": [
        "import pandas as pd\n",
        "import numpy as np"
      ]
    },
    {
      "cell_type": "code",
      "source": [
        "df = pd.read_csv('https://github.com/YBI-Foundation/Dataset/raw/main/Movies%20Recommendation.csv')"
      ],
      "metadata": {
        "id": "SrPr7p7tWgAz"
      },
      "execution_count": 2,
      "outputs": []
    },
    {
      "cell_type": "code",
      "source": [
        "df.head()"
      ],
      "metadata": {
        "colab": {
          "base_uri": "https://localhost:8080/",
          "height": 716
        },
        "id": "TssAoE6mWtX9",
        "outputId": "d0858721-1d9c-4995-d3ae-bb3fe3f13830"
      },
      "execution_count": 3,
      "outputs": [
        {
          "output_type": "execute_result",
          "data": {
            "text/plain": [
              "   Movie_ID      Movie_Title                       Movie_Genre Movie_Language  \\\n",
              "0         1       Four Rooms                      Crime Comedy             en   \n",
              "1         2        Star Wars  Adventure Action Science Fiction             en   \n",
              "2         3     Finding Nemo                  Animation Family             en   \n",
              "3         4     Forrest Gump              Comedy Drama Romance             en   \n",
              "4         5  American Beauty                             Drama             en   \n",
              "\n",
              "   Movie_Budget  Movie_Popularity Movie_Release_Date  Movie_Revenue  \\\n",
              "0       4000000         22.876230         09-12-1995        4300000   \n",
              "1      11000000        126.393695         25-05-1977      775398007   \n",
              "2      94000000         85.688789         30-05-2003      940335536   \n",
              "3      55000000        138.133331         06-07-1994      677945399   \n",
              "4      15000000         80.878605         15-09-1999      356296601   \n",
              "\n",
              "   Movie_Runtime  Movie_Vote  ...  \\\n",
              "0           98.0         6.5  ...   \n",
              "1          121.0         8.1  ...   \n",
              "2          100.0         7.6  ...   \n",
              "3          142.0         8.2  ...   \n",
              "4          122.0         7.9  ...   \n",
              "\n",
              "                                      Movie_Homepage  \\\n",
              "0                                                NaN   \n",
              "1  http://www.starwars.com/films/star-wars-episod...   \n",
              "2              http://movies.disney.com/finding-nemo   \n",
              "3                                                NaN   \n",
              "4                      http://www.dreamworks.com/ab/   \n",
              "\n",
              "                                      Movie_Keywords  \\\n",
              "0          hotel new year's eve witch bet hotel room   \n",
              "1        android galaxy hermit death star lightsaber   \n",
              "2  father son relationship harbor underwater fish...   \n",
              "3  vietnam veteran hippie mentally disabled runni...   \n",
              "4  male nudity female nudity adultery midlife cri...   \n",
              "\n",
              "                                      Movie_Overview  \\\n",
              "0  It's Ted the Bellhop's first night on the job....   \n",
              "1  Princess Leia is captured and held hostage by ...   \n",
              "2  Nemo, an adventurous young clownfish, is unexp...   \n",
              "3  A man with a low IQ has accomplished great thi...   \n",
              "4  Lester Burnham, a depressed suburban father in...   \n",
              "\n",
              "                              Movie_Production_House  \\\n",
              "0  [{\"name\": \"Miramax Films\", \"id\": 14}, {\"name\":...   \n",
              "1  [{\"name\": \"Lucasfilm\", \"id\": 1}, {\"name\": \"Twe...   \n",
              "2     [{\"name\": \"Pixar Animation Studios\", \"id\": 3}]   \n",
              "3          [{\"name\": \"Paramount Pictures\", \"id\": 4}]   \n",
              "4  [{\"name\": \"DreamWorks SKG\", \"id\": 27}, {\"name\"...   \n",
              "\n",
              "                            Movie_Production_Country  \\\n",
              "0  [{\"iso_3166_1\": \"US\", \"name\": \"United States o...   \n",
              "1  [{\"iso_3166_1\": \"US\", \"name\": \"United States o...   \n",
              "2  [{\"iso_3166_1\": \"US\", \"name\": \"United States o...   \n",
              "3  [{\"iso_3166_1\": \"US\", \"name\": \"United States o...   \n",
              "4  [{\"iso_3166_1\": \"US\", \"name\": \"United States o...   \n",
              "\n",
              "                      Movie_Spoken_Language  \\\n",
              "0  [{\"iso_639_1\": \"en\", \"name\": \"English\"}]   \n",
              "1  [{\"iso_639_1\": \"en\", \"name\": \"English\"}]   \n",
              "2  [{\"iso_639_1\": \"en\", \"name\": \"English\"}]   \n",
              "3  [{\"iso_639_1\": \"en\", \"name\": \"English\"}]   \n",
              "4  [{\"iso_639_1\": \"en\", \"name\": \"English\"}]   \n",
              "\n",
              "                                       Movie_Tagline  \\\n",
              "0  Twelve outrageous guests. Four scandalous requ...   \n",
              "1       A long time ago in a galaxy far, far away...   \n",
              "2  There are 3.7 trillion fish in the ocean, they...   \n",
              "3  The world will never be the same, once you've ...   \n",
              "4                                       Look closer.   \n",
              "\n",
              "                                          Movie_Cast  \\\n",
              "0  Tim Roth Antonio Banderas Jennifer Beals Madon...   \n",
              "1  Mark Hamill Harrison Ford Carrie Fisher Peter ...   \n",
              "2  Albert Brooks Ellen DeGeneres Alexander Gould ...   \n",
              "3  Tom Hanks Robin Wright Gary Sinise Mykelti Wil...   \n",
              "4  Kevin Spacey Annette Bening Thora Birch Wes Be...   \n",
              "\n",
              "                                          Movie_Crew   Movie_Director  \n",
              "0  [{'name': 'Allison Anders', 'gender': 1, 'depa...   Allison Anders  \n",
              "1  [{'name': 'George Lucas', 'gender': 2, 'depart...     George Lucas  \n",
              "2  [{'name': 'Andrew Stanton', 'gender': 2, 'depa...   Andrew Stanton  \n",
              "3  [{'name': 'Alan Silvestri', 'gender': 2, 'depa...  Robert Zemeckis  \n",
              "4  [{'name': 'Thomas Newman', 'gender': 2, 'depar...       Sam Mendes  \n",
              "\n",
              "[5 rows x 21 columns]"
            ],
            "text/html": [
              "\n",
              "\n",
              "  <div id=\"df-aff1ec86-e530-4203-99ac-58db5264785b\">\n",
              "    <div class=\"colab-df-container\">\n",
              "      <div>\n",
              "<style scoped>\n",
              "    .dataframe tbody tr th:only-of-type {\n",
              "        vertical-align: middle;\n",
              "    }\n",
              "\n",
              "    .dataframe tbody tr th {\n",
              "        vertical-align: top;\n",
              "    }\n",
              "\n",
              "    .dataframe thead th {\n",
              "        text-align: right;\n",
              "    }\n",
              "</style>\n",
              "<table border=\"1\" class=\"dataframe\">\n",
              "  <thead>\n",
              "    <tr style=\"text-align: right;\">\n",
              "      <th></th>\n",
              "      <th>Movie_ID</th>\n",
              "      <th>Movie_Title</th>\n",
              "      <th>Movie_Genre</th>\n",
              "      <th>Movie_Language</th>\n",
              "      <th>Movie_Budget</th>\n",
              "      <th>Movie_Popularity</th>\n",
              "      <th>Movie_Release_Date</th>\n",
              "      <th>Movie_Revenue</th>\n",
              "      <th>Movie_Runtime</th>\n",
              "      <th>Movie_Vote</th>\n",
              "      <th>...</th>\n",
              "      <th>Movie_Homepage</th>\n",
              "      <th>Movie_Keywords</th>\n",
              "      <th>Movie_Overview</th>\n",
              "      <th>Movie_Production_House</th>\n",
              "      <th>Movie_Production_Country</th>\n",
              "      <th>Movie_Spoken_Language</th>\n",
              "      <th>Movie_Tagline</th>\n",
              "      <th>Movie_Cast</th>\n",
              "      <th>Movie_Crew</th>\n",
              "      <th>Movie_Director</th>\n",
              "    </tr>\n",
              "  </thead>\n",
              "  <tbody>\n",
              "    <tr>\n",
              "      <th>0</th>\n",
              "      <td>1</td>\n",
              "      <td>Four Rooms</td>\n",
              "      <td>Crime Comedy</td>\n",
              "      <td>en</td>\n",
              "      <td>4000000</td>\n",
              "      <td>22.876230</td>\n",
              "      <td>09-12-1995</td>\n",
              "      <td>4300000</td>\n",
              "      <td>98.0</td>\n",
              "      <td>6.5</td>\n",
              "      <td>...</td>\n",
              "      <td>NaN</td>\n",
              "      <td>hotel new year's eve witch bet hotel room</td>\n",
              "      <td>It's Ted the Bellhop's first night on the job....</td>\n",
              "      <td>[{\"name\": \"Miramax Films\", \"id\": 14}, {\"name\":...</td>\n",
              "      <td>[{\"iso_3166_1\": \"US\", \"name\": \"United States o...</td>\n",
              "      <td>[{\"iso_639_1\": \"en\", \"name\": \"English\"}]</td>\n",
              "      <td>Twelve outrageous guests. Four scandalous requ...</td>\n",
              "      <td>Tim Roth Antonio Banderas Jennifer Beals Madon...</td>\n",
              "      <td>[{'name': 'Allison Anders', 'gender': 1, 'depa...</td>\n",
              "      <td>Allison Anders</td>\n",
              "    </tr>\n",
              "    <tr>\n",
              "      <th>1</th>\n",
              "      <td>2</td>\n",
              "      <td>Star Wars</td>\n",
              "      <td>Adventure Action Science Fiction</td>\n",
              "      <td>en</td>\n",
              "      <td>11000000</td>\n",
              "      <td>126.393695</td>\n",
              "      <td>25-05-1977</td>\n",
              "      <td>775398007</td>\n",
              "      <td>121.0</td>\n",
              "      <td>8.1</td>\n",
              "      <td>...</td>\n",
              "      <td>http://www.starwars.com/films/star-wars-episod...</td>\n",
              "      <td>android galaxy hermit death star lightsaber</td>\n",
              "      <td>Princess Leia is captured and held hostage by ...</td>\n",
              "      <td>[{\"name\": \"Lucasfilm\", \"id\": 1}, {\"name\": \"Twe...</td>\n",
              "      <td>[{\"iso_3166_1\": \"US\", \"name\": \"United States o...</td>\n",
              "      <td>[{\"iso_639_1\": \"en\", \"name\": \"English\"}]</td>\n",
              "      <td>A long time ago in a galaxy far, far away...</td>\n",
              "      <td>Mark Hamill Harrison Ford Carrie Fisher Peter ...</td>\n",
              "      <td>[{'name': 'George Lucas', 'gender': 2, 'depart...</td>\n",
              "      <td>George Lucas</td>\n",
              "    </tr>\n",
              "    <tr>\n",
              "      <th>2</th>\n",
              "      <td>3</td>\n",
              "      <td>Finding Nemo</td>\n",
              "      <td>Animation Family</td>\n",
              "      <td>en</td>\n",
              "      <td>94000000</td>\n",
              "      <td>85.688789</td>\n",
              "      <td>30-05-2003</td>\n",
              "      <td>940335536</td>\n",
              "      <td>100.0</td>\n",
              "      <td>7.6</td>\n",
              "      <td>...</td>\n",
              "      <td>http://movies.disney.com/finding-nemo</td>\n",
              "      <td>father son relationship harbor underwater fish...</td>\n",
              "      <td>Nemo, an adventurous young clownfish, is unexp...</td>\n",
              "      <td>[{\"name\": \"Pixar Animation Studios\", \"id\": 3}]</td>\n",
              "      <td>[{\"iso_3166_1\": \"US\", \"name\": \"United States o...</td>\n",
              "      <td>[{\"iso_639_1\": \"en\", \"name\": \"English\"}]</td>\n",
              "      <td>There are 3.7 trillion fish in the ocean, they...</td>\n",
              "      <td>Albert Brooks Ellen DeGeneres Alexander Gould ...</td>\n",
              "      <td>[{'name': 'Andrew Stanton', 'gender': 2, 'depa...</td>\n",
              "      <td>Andrew Stanton</td>\n",
              "    </tr>\n",
              "    <tr>\n",
              "      <th>3</th>\n",
              "      <td>4</td>\n",
              "      <td>Forrest Gump</td>\n",
              "      <td>Comedy Drama Romance</td>\n",
              "      <td>en</td>\n",
              "      <td>55000000</td>\n",
              "      <td>138.133331</td>\n",
              "      <td>06-07-1994</td>\n",
              "      <td>677945399</td>\n",
              "      <td>142.0</td>\n",
              "      <td>8.2</td>\n",
              "      <td>...</td>\n",
              "      <td>NaN</td>\n",
              "      <td>vietnam veteran hippie mentally disabled runni...</td>\n",
              "      <td>A man with a low IQ has accomplished great thi...</td>\n",
              "      <td>[{\"name\": \"Paramount Pictures\", \"id\": 4}]</td>\n",
              "      <td>[{\"iso_3166_1\": \"US\", \"name\": \"United States o...</td>\n",
              "      <td>[{\"iso_639_1\": \"en\", \"name\": \"English\"}]</td>\n",
              "      <td>The world will never be the same, once you've ...</td>\n",
              "      <td>Tom Hanks Robin Wright Gary Sinise Mykelti Wil...</td>\n",
              "      <td>[{'name': 'Alan Silvestri', 'gender': 2, 'depa...</td>\n",
              "      <td>Robert Zemeckis</td>\n",
              "    </tr>\n",
              "    <tr>\n",
              "      <th>4</th>\n",
              "      <td>5</td>\n",
              "      <td>American Beauty</td>\n",
              "      <td>Drama</td>\n",
              "      <td>en</td>\n",
              "      <td>15000000</td>\n",
              "      <td>80.878605</td>\n",
              "      <td>15-09-1999</td>\n",
              "      <td>356296601</td>\n",
              "      <td>122.0</td>\n",
              "      <td>7.9</td>\n",
              "      <td>...</td>\n",
              "      <td>http://www.dreamworks.com/ab/</td>\n",
              "      <td>male nudity female nudity adultery midlife cri...</td>\n",
              "      <td>Lester Burnham, a depressed suburban father in...</td>\n",
              "      <td>[{\"name\": \"DreamWorks SKG\", \"id\": 27}, {\"name\"...</td>\n",
              "      <td>[{\"iso_3166_1\": \"US\", \"name\": \"United States o...</td>\n",
              "      <td>[{\"iso_639_1\": \"en\", \"name\": \"English\"}]</td>\n",
              "      <td>Look closer.</td>\n",
              "      <td>Kevin Spacey Annette Bening Thora Birch Wes Be...</td>\n",
              "      <td>[{'name': 'Thomas Newman', 'gender': 2, 'depar...</td>\n",
              "      <td>Sam Mendes</td>\n",
              "    </tr>\n",
              "  </tbody>\n",
              "</table>\n",
              "<p>5 rows × 21 columns</p>\n",
              "</div>\n",
              "      <button class=\"colab-df-convert\" onclick=\"convertToInteractive('df-aff1ec86-e530-4203-99ac-58db5264785b')\"\n",
              "              title=\"Convert this dataframe to an interactive table.\"\n",
              "              style=\"display:none;\">\n",
              "\n",
              "  <svg xmlns=\"http://www.w3.org/2000/svg\" height=\"24px\"viewBox=\"0 0 24 24\"\n",
              "       width=\"24px\">\n",
              "    <path d=\"M0 0h24v24H0V0z\" fill=\"none\"/>\n",
              "    <path d=\"M18.56 5.44l.94 2.06.94-2.06 2.06-.94-2.06-.94-.94-2.06-.94 2.06-2.06.94zm-11 1L8.5 8.5l.94-2.06 2.06-.94-2.06-.94L8.5 2.5l-.94 2.06-2.06.94zm10 10l.94 2.06.94-2.06 2.06-.94-2.06-.94-.94-2.06-.94 2.06-2.06.94z\"/><path d=\"M17.41 7.96l-1.37-1.37c-.4-.4-.92-.59-1.43-.59-.52 0-1.04.2-1.43.59L10.3 9.45l-7.72 7.72c-.78.78-.78 2.05 0 2.83L4 21.41c.39.39.9.59 1.41.59.51 0 1.02-.2 1.41-.59l7.78-7.78 2.81-2.81c.8-.78.8-2.07 0-2.86zM5.41 20L4 18.59l7.72-7.72 1.47 1.35L5.41 20z\"/>\n",
              "  </svg>\n",
              "      </button>\n",
              "\n",
              "\n",
              "\n",
              "    <div id=\"df-1f66ddeb-8a6f-4a50-8b93-1c2a65351c53\">\n",
              "      <button class=\"colab-df-quickchart\" onclick=\"quickchart('df-1f66ddeb-8a6f-4a50-8b93-1c2a65351c53')\"\n",
              "              title=\"Suggest charts.\"\n",
              "              style=\"display:none;\">\n",
              "\n",
              "<svg xmlns=\"http://www.w3.org/2000/svg\" height=\"24px\"viewBox=\"0 0 24 24\"\n",
              "     width=\"24px\">\n",
              "    <g>\n",
              "        <path d=\"M19 3H5c-1.1 0-2 .9-2 2v14c0 1.1.9 2 2 2h14c1.1 0 2-.9 2-2V5c0-1.1-.9-2-2-2zM9 17H7v-7h2v7zm4 0h-2V7h2v10zm4 0h-2v-4h2v4z\"/>\n",
              "    </g>\n",
              "</svg>\n",
              "      </button>\n",
              "    </div>\n",
              "\n",
              "<style>\n",
              "  .colab-df-quickchart {\n",
              "    background-color: #E8F0FE;\n",
              "    border: none;\n",
              "    border-radius: 50%;\n",
              "    cursor: pointer;\n",
              "    display: none;\n",
              "    fill: #1967D2;\n",
              "    height: 32px;\n",
              "    padding: 0 0 0 0;\n",
              "    width: 32px;\n",
              "  }\n",
              "\n",
              "  .colab-df-quickchart:hover {\n",
              "    background-color: #E2EBFA;\n",
              "    box-shadow: 0px 1px 2px rgba(60, 64, 67, 0.3), 0px 1px 3px 1px rgba(60, 64, 67, 0.15);\n",
              "    fill: #174EA6;\n",
              "  }\n",
              "\n",
              "  [theme=dark] .colab-df-quickchart {\n",
              "    background-color: #3B4455;\n",
              "    fill: #D2E3FC;\n",
              "  }\n",
              "\n",
              "  [theme=dark] .colab-df-quickchart:hover {\n",
              "    background-color: #434B5C;\n",
              "    box-shadow: 0px 1px 3px 1px rgba(0, 0, 0, 0.15);\n",
              "    filter: drop-shadow(0px 1px 2px rgba(0, 0, 0, 0.3));\n",
              "    fill: #FFFFFF;\n",
              "  }\n",
              "</style>\n",
              "\n",
              "    <script>\n",
              "      async function quickchart(key) {\n",
              "        const containerElement = document.querySelector('#' + key);\n",
              "        const charts = await google.colab.kernel.invokeFunction(\n",
              "            'suggestCharts', [key], {});\n",
              "      }\n",
              "    </script>\n",
              "\n",
              "      <script>\n",
              "\n",
              "function displayQuickchartButton(domScope) {\n",
              "  let quickchartButtonEl =\n",
              "    domScope.querySelector('#df-1f66ddeb-8a6f-4a50-8b93-1c2a65351c53 button.colab-df-quickchart');\n",
              "  quickchartButtonEl.style.display =\n",
              "    google.colab.kernel.accessAllowed ? 'block' : 'none';\n",
              "}\n",
              "\n",
              "        displayQuickchartButton(document);\n",
              "      </script>\n",
              "      <style>\n",
              "    .colab-df-container {\n",
              "      display:flex;\n",
              "      flex-wrap:wrap;\n",
              "      gap: 12px;\n",
              "    }\n",
              "\n",
              "    .colab-df-convert {\n",
              "      background-color: #E8F0FE;\n",
              "      border: none;\n",
              "      border-radius: 50%;\n",
              "      cursor: pointer;\n",
              "      display: none;\n",
              "      fill: #1967D2;\n",
              "      height: 32px;\n",
              "      padding: 0 0 0 0;\n",
              "      width: 32px;\n",
              "    }\n",
              "\n",
              "    .colab-df-convert:hover {\n",
              "      background-color: #E2EBFA;\n",
              "      box-shadow: 0px 1px 2px rgba(60, 64, 67, 0.3), 0px 1px 3px 1px rgba(60, 64, 67, 0.15);\n",
              "      fill: #174EA6;\n",
              "    }\n",
              "\n",
              "    [theme=dark] .colab-df-convert {\n",
              "      background-color: #3B4455;\n",
              "      fill: #D2E3FC;\n",
              "    }\n",
              "\n",
              "    [theme=dark] .colab-df-convert:hover {\n",
              "      background-color: #434B5C;\n",
              "      box-shadow: 0px 1px 3px 1px rgba(0, 0, 0, 0.15);\n",
              "      filter: drop-shadow(0px 1px 2px rgba(0, 0, 0, 0.3));\n",
              "      fill: #FFFFFF;\n",
              "    }\n",
              "  </style>\n",
              "\n",
              "      <script>\n",
              "        const buttonEl =\n",
              "          document.querySelector('#df-aff1ec86-e530-4203-99ac-58db5264785b button.colab-df-convert');\n",
              "        buttonEl.style.display =\n",
              "          google.colab.kernel.accessAllowed ? 'block' : 'none';\n",
              "\n",
              "        async function convertToInteractive(key) {\n",
              "          const element = document.querySelector('#df-aff1ec86-e530-4203-99ac-58db5264785b');\n",
              "          const dataTable =\n",
              "            await google.colab.kernel.invokeFunction('convertToInteractive',\n",
              "                                                     [key], {});\n",
              "          if (!dataTable) return;\n",
              "\n",
              "          const docLinkHtml = 'Like what you see? Visit the ' +\n",
              "            '<a target=\"_blank\" href=https://colab.research.google.com/notebooks/data_table.ipynb>data table notebook</a>'\n",
              "            + ' to learn more about interactive tables.';\n",
              "          element.innerHTML = '';\n",
              "          dataTable['output_type'] = 'display_data';\n",
              "          await google.colab.output.renderOutput(dataTable, element);\n",
              "          const docLink = document.createElement('div');\n",
              "          docLink.innerHTML = docLinkHtml;\n",
              "          element.appendChild(docLink);\n",
              "        }\n",
              "      </script>\n",
              "    </div>\n",
              "  </div>\n"
            ]
          },
          "metadata": {},
          "execution_count": 3
        }
      ]
    },
    {
      "cell_type": "code",
      "source": [
        "df.info()"
      ],
      "metadata": {
        "colab": {
          "base_uri": "https://localhost:8080/"
        },
        "id": "Vf0vTl3MWyqx",
        "outputId": "921cccfe-3d5b-4685-ad56-1b664c525a2c"
      },
      "execution_count": 4,
      "outputs": [
        {
          "output_type": "stream",
          "name": "stdout",
          "text": [
            "<class 'pandas.core.frame.DataFrame'>\n",
            "RangeIndex: 4760 entries, 0 to 4759\n",
            "Data columns (total 21 columns):\n",
            " #   Column                    Non-Null Count  Dtype  \n",
            "---  ------                    --------------  -----  \n",
            " 0   Movie_ID                  4760 non-null   int64  \n",
            " 1   Movie_Title               4760 non-null   object \n",
            " 2   Movie_Genre               4760 non-null   object \n",
            " 3   Movie_Language            4760 non-null   object \n",
            " 4   Movie_Budget              4760 non-null   int64  \n",
            " 5   Movie_Popularity          4760 non-null   float64\n",
            " 6   Movie_Release_Date        4760 non-null   object \n",
            " 7   Movie_Revenue             4760 non-null   int64  \n",
            " 8   Movie_Runtime             4758 non-null   float64\n",
            " 9   Movie_Vote                4760 non-null   float64\n",
            " 10  Movie_Vote_Count          4760 non-null   int64  \n",
            " 11  Movie_Homepage            1699 non-null   object \n",
            " 12  Movie_Keywords            4373 non-null   object \n",
            " 13  Movie_Overview            4757 non-null   object \n",
            " 14  Movie_Production_House    4760 non-null   object \n",
            " 15  Movie_Production_Country  4760 non-null   object \n",
            " 16  Movie_Spoken_Language     4760 non-null   object \n",
            " 17  Movie_Tagline             3942 non-null   object \n",
            " 18  Movie_Cast                4733 non-null   object \n",
            " 19  Movie_Crew                4760 non-null   object \n",
            " 20  Movie_Director            4738 non-null   object \n",
            "dtypes: float64(3), int64(4), object(14)\n",
            "memory usage: 781.1+ KB\n"
          ]
        }
      ]
    },
    {
      "cell_type": "code",
      "source": [
        "df.shape"
      ],
      "metadata": {
        "colab": {
          "base_uri": "https://localhost:8080/"
        },
        "id": "2WTIemjFW33z",
        "outputId": "8be75402-302f-4325-8d7a-73985a9fbc2e"
      },
      "execution_count": 6,
      "outputs": [
        {
          "output_type": "execute_result",
          "data": {
            "text/plain": [
              "(4760, 21)"
            ]
          },
          "metadata": {},
          "execution_count": 6
        }
      ]
    },
    {
      "cell_type": "code",
      "source": [
        "df.columns"
      ],
      "metadata": {
        "colab": {
          "base_uri": "https://localhost:8080/"
        },
        "id": "sx0A0ItKW8DB",
        "outputId": "6c8365d2-72c3-4b04-efc9-b8c14589b522"
      },
      "execution_count": 7,
      "outputs": [
        {
          "output_type": "execute_result",
          "data": {
            "text/plain": [
              "Index(['Movie_ID', 'Movie_Title', 'Movie_Genre', 'Movie_Language',\n",
              "       'Movie_Budget', 'Movie_Popularity', 'Movie_Release_Date',\n",
              "       'Movie_Revenue', 'Movie_Runtime', 'Movie_Vote', 'Movie_Vote_Count',\n",
              "       'Movie_Homepage', 'Movie_Keywords', 'Movie_Overview',\n",
              "       'Movie_Production_House', 'Movie_Production_Country',\n",
              "       'Movie_Spoken_Language', 'Movie_Tagline', 'Movie_Cast', 'Movie_Crew',\n",
              "       'Movie_Director'],\n",
              "      dtype='object')"
            ]
          },
          "metadata": {},
          "execution_count": 7
        }
      ]
    },
    {
      "cell_type": "code",
      "source": [
        "df_features = df[['Movie_Genre', 'Movie_Keywords', 'Movie_Tagline','Movie_Cast','Movie_Director']].fillna('')"
      ],
      "metadata": {
        "id": "4Jdn9LOIW-j6"
      },
      "execution_count": 9,
      "outputs": []
    },
    {
      "cell_type": "code",
      "source": [
        "df_features.shape"
      ],
      "metadata": {
        "colab": {
          "base_uri": "https://localhost:8080/"
        },
        "id": "3azAjjaQXZYe",
        "outputId": "d7b86807-98d7-4079-9a77-abfc37f46f4b"
      },
      "execution_count": 10,
      "outputs": [
        {
          "output_type": "execute_result",
          "data": {
            "text/plain": [
              "(4760, 5)"
            ]
          },
          "metadata": {},
          "execution_count": 10
        }
      ]
    },
    {
      "cell_type": "code",
      "source": [
        "df_features"
      ],
      "metadata": {
        "colab": {
          "base_uri": "https://localhost:8080/",
          "height": 1000
        },
        "id": "CH4KIMVzXjAv",
        "outputId": "2e09b82f-9fc8-4830-bb0b-73603b7327e8"
      },
      "execution_count": 11,
      "outputs": [
        {
          "output_type": "execute_result",
          "data": {
            "text/plain": [
              "                           Movie_Genre  \\\n",
              "0                         Crime Comedy   \n",
              "1     Adventure Action Science Fiction   \n",
              "2                     Animation Family   \n",
              "3                 Comedy Drama Romance   \n",
              "4                                Drama   \n",
              "...                                ...   \n",
              "4755                            Horror   \n",
              "4756               Comedy Family Drama   \n",
              "4757                    Thriller Drama   \n",
              "4758                            Family   \n",
              "4759                       Documentary   \n",
              "\n",
              "                                         Movie_Keywords  \\\n",
              "0             hotel new year's eve witch bet hotel room   \n",
              "1           android galaxy hermit death star lightsaber   \n",
              "2     father son relationship harbor underwater fish...   \n",
              "3     vietnam veteran hippie mentally disabled runni...   \n",
              "4     male nudity female nudity adultery midlife cri...   \n",
              "...                                                 ...   \n",
              "4755                                                      \n",
              "4756                                                      \n",
              "4757                     christian film sex trafficking   \n",
              "4758                                                      \n",
              "4759  music actors legendary perfomer classic hollyw...   \n",
              "\n",
              "                                          Movie_Tagline  \\\n",
              "0     Twelve outrageous guests. Four scandalous requ...   \n",
              "1          A long time ago in a galaxy far, far away...   \n",
              "2     There are 3.7 trillion fish in the ocean, they...   \n",
              "3     The world will never be the same, once you've ...   \n",
              "4                                          Look closer.   \n",
              "...                                                 ...   \n",
              "4755                The hot spot where Satan's waitin'.   \n",
              "4756           It’s better to stand out than to fit in.   \n",
              "4757           She never knew it could happen to her...   \n",
              "4758                                                      \n",
              "4759                                                      \n",
              "\n",
              "                                             Movie_Cast     Movie_Director  \n",
              "0     Tim Roth Antonio Banderas Jennifer Beals Madon...     Allison Anders  \n",
              "1     Mark Hamill Harrison Ford Carrie Fisher Peter ...       George Lucas  \n",
              "2     Albert Brooks Ellen DeGeneres Alexander Gould ...     Andrew Stanton  \n",
              "3     Tom Hanks Robin Wright Gary Sinise Mykelti Wil...    Robert Zemeckis  \n",
              "4     Kevin Spacey Annette Bening Thora Birch Wes Be...         Sam Mendes  \n",
              "...                                                 ...                ...  \n",
              "4755  Lisa Hart Carroll Michael Des Barres Paul Drak...         Pece Dingo  \n",
              "4756  Roni Akurati Brighton Sharbino Jason Lee Anjul...       Frank Lotito  \n",
              "4757  Nicole Smolen Kim Baldwin Ariana Stephens Brys...       Jaco Booyens  \n",
              "4758                                                                        \n",
              "4759                                    Tony Oppedisano  Simon Napier-Bell  \n",
              "\n",
              "[4760 rows x 5 columns]"
            ],
            "text/html": [
              "\n",
              "\n",
              "  <div id=\"df-4970013c-9648-4cf8-8004-8c5db3fa08ad\">\n",
              "    <div class=\"colab-df-container\">\n",
              "      <div>\n",
              "<style scoped>\n",
              "    .dataframe tbody tr th:only-of-type {\n",
              "        vertical-align: middle;\n",
              "    }\n",
              "\n",
              "    .dataframe tbody tr th {\n",
              "        vertical-align: top;\n",
              "    }\n",
              "\n",
              "    .dataframe thead th {\n",
              "        text-align: right;\n",
              "    }\n",
              "</style>\n",
              "<table border=\"1\" class=\"dataframe\">\n",
              "  <thead>\n",
              "    <tr style=\"text-align: right;\">\n",
              "      <th></th>\n",
              "      <th>Movie_Genre</th>\n",
              "      <th>Movie_Keywords</th>\n",
              "      <th>Movie_Tagline</th>\n",
              "      <th>Movie_Cast</th>\n",
              "      <th>Movie_Director</th>\n",
              "    </tr>\n",
              "  </thead>\n",
              "  <tbody>\n",
              "    <tr>\n",
              "      <th>0</th>\n",
              "      <td>Crime Comedy</td>\n",
              "      <td>hotel new year's eve witch bet hotel room</td>\n",
              "      <td>Twelve outrageous guests. Four scandalous requ...</td>\n",
              "      <td>Tim Roth Antonio Banderas Jennifer Beals Madon...</td>\n",
              "      <td>Allison Anders</td>\n",
              "    </tr>\n",
              "    <tr>\n",
              "      <th>1</th>\n",
              "      <td>Adventure Action Science Fiction</td>\n",
              "      <td>android galaxy hermit death star lightsaber</td>\n",
              "      <td>A long time ago in a galaxy far, far away...</td>\n",
              "      <td>Mark Hamill Harrison Ford Carrie Fisher Peter ...</td>\n",
              "      <td>George Lucas</td>\n",
              "    </tr>\n",
              "    <tr>\n",
              "      <th>2</th>\n",
              "      <td>Animation Family</td>\n",
              "      <td>father son relationship harbor underwater fish...</td>\n",
              "      <td>There are 3.7 trillion fish in the ocean, they...</td>\n",
              "      <td>Albert Brooks Ellen DeGeneres Alexander Gould ...</td>\n",
              "      <td>Andrew Stanton</td>\n",
              "    </tr>\n",
              "    <tr>\n",
              "      <th>3</th>\n",
              "      <td>Comedy Drama Romance</td>\n",
              "      <td>vietnam veteran hippie mentally disabled runni...</td>\n",
              "      <td>The world will never be the same, once you've ...</td>\n",
              "      <td>Tom Hanks Robin Wright Gary Sinise Mykelti Wil...</td>\n",
              "      <td>Robert Zemeckis</td>\n",
              "    </tr>\n",
              "    <tr>\n",
              "      <th>4</th>\n",
              "      <td>Drama</td>\n",
              "      <td>male nudity female nudity adultery midlife cri...</td>\n",
              "      <td>Look closer.</td>\n",
              "      <td>Kevin Spacey Annette Bening Thora Birch Wes Be...</td>\n",
              "      <td>Sam Mendes</td>\n",
              "    </tr>\n",
              "    <tr>\n",
              "      <th>...</th>\n",
              "      <td>...</td>\n",
              "      <td>...</td>\n",
              "      <td>...</td>\n",
              "      <td>...</td>\n",
              "      <td>...</td>\n",
              "    </tr>\n",
              "    <tr>\n",
              "      <th>4755</th>\n",
              "      <td>Horror</td>\n",
              "      <td></td>\n",
              "      <td>The hot spot where Satan's waitin'.</td>\n",
              "      <td>Lisa Hart Carroll Michael Des Barres Paul Drak...</td>\n",
              "      <td>Pece Dingo</td>\n",
              "    </tr>\n",
              "    <tr>\n",
              "      <th>4756</th>\n",
              "      <td>Comedy Family Drama</td>\n",
              "      <td></td>\n",
              "      <td>It’s better to stand out than to fit in.</td>\n",
              "      <td>Roni Akurati Brighton Sharbino Jason Lee Anjul...</td>\n",
              "      <td>Frank Lotito</td>\n",
              "    </tr>\n",
              "    <tr>\n",
              "      <th>4757</th>\n",
              "      <td>Thriller Drama</td>\n",
              "      <td>christian film sex trafficking</td>\n",
              "      <td>She never knew it could happen to her...</td>\n",
              "      <td>Nicole Smolen Kim Baldwin Ariana Stephens Brys...</td>\n",
              "      <td>Jaco Booyens</td>\n",
              "    </tr>\n",
              "    <tr>\n",
              "      <th>4758</th>\n",
              "      <td>Family</td>\n",
              "      <td></td>\n",
              "      <td></td>\n",
              "      <td></td>\n",
              "      <td></td>\n",
              "    </tr>\n",
              "    <tr>\n",
              "      <th>4759</th>\n",
              "      <td>Documentary</td>\n",
              "      <td>music actors legendary perfomer classic hollyw...</td>\n",
              "      <td></td>\n",
              "      <td>Tony Oppedisano</td>\n",
              "      <td>Simon Napier-Bell</td>\n",
              "    </tr>\n",
              "  </tbody>\n",
              "</table>\n",
              "<p>4760 rows × 5 columns</p>\n",
              "</div>\n",
              "      <button class=\"colab-df-convert\" onclick=\"convertToInteractive('df-4970013c-9648-4cf8-8004-8c5db3fa08ad')\"\n",
              "              title=\"Convert this dataframe to an interactive table.\"\n",
              "              style=\"display:none;\">\n",
              "\n",
              "  <svg xmlns=\"http://www.w3.org/2000/svg\" height=\"24px\"viewBox=\"0 0 24 24\"\n",
              "       width=\"24px\">\n",
              "    <path d=\"M0 0h24v24H0V0z\" fill=\"none\"/>\n",
              "    <path d=\"M18.56 5.44l.94 2.06.94-2.06 2.06-.94-2.06-.94-.94-2.06-.94 2.06-2.06.94zm-11 1L8.5 8.5l.94-2.06 2.06-.94-2.06-.94L8.5 2.5l-.94 2.06-2.06.94zm10 10l.94 2.06.94-2.06 2.06-.94-2.06-.94-.94-2.06-.94 2.06-2.06.94z\"/><path d=\"M17.41 7.96l-1.37-1.37c-.4-.4-.92-.59-1.43-.59-.52 0-1.04.2-1.43.59L10.3 9.45l-7.72 7.72c-.78.78-.78 2.05 0 2.83L4 21.41c.39.39.9.59 1.41.59.51 0 1.02-.2 1.41-.59l7.78-7.78 2.81-2.81c.8-.78.8-2.07 0-2.86zM5.41 20L4 18.59l7.72-7.72 1.47 1.35L5.41 20z\"/>\n",
              "  </svg>\n",
              "      </button>\n",
              "\n",
              "\n",
              "\n",
              "    <div id=\"df-af917feb-75c3-46b7-9c89-4ac144c3c87b\">\n",
              "      <button class=\"colab-df-quickchart\" onclick=\"quickchart('df-af917feb-75c3-46b7-9c89-4ac144c3c87b')\"\n",
              "              title=\"Suggest charts.\"\n",
              "              style=\"display:none;\">\n",
              "\n",
              "<svg xmlns=\"http://www.w3.org/2000/svg\" height=\"24px\"viewBox=\"0 0 24 24\"\n",
              "     width=\"24px\">\n",
              "    <g>\n",
              "        <path d=\"M19 3H5c-1.1 0-2 .9-2 2v14c0 1.1.9 2 2 2h14c1.1 0 2-.9 2-2V5c0-1.1-.9-2-2-2zM9 17H7v-7h2v7zm4 0h-2V7h2v10zm4 0h-2v-4h2v4z\"/>\n",
              "    </g>\n",
              "</svg>\n",
              "      </button>\n",
              "    </div>\n",
              "\n",
              "<style>\n",
              "  .colab-df-quickchart {\n",
              "    background-color: #E8F0FE;\n",
              "    border: none;\n",
              "    border-radius: 50%;\n",
              "    cursor: pointer;\n",
              "    display: none;\n",
              "    fill: #1967D2;\n",
              "    height: 32px;\n",
              "    padding: 0 0 0 0;\n",
              "    width: 32px;\n",
              "  }\n",
              "\n",
              "  .colab-df-quickchart:hover {\n",
              "    background-color: #E2EBFA;\n",
              "    box-shadow: 0px 1px 2px rgba(60, 64, 67, 0.3), 0px 1px 3px 1px rgba(60, 64, 67, 0.15);\n",
              "    fill: #174EA6;\n",
              "  }\n",
              "\n",
              "  [theme=dark] .colab-df-quickchart {\n",
              "    background-color: #3B4455;\n",
              "    fill: #D2E3FC;\n",
              "  }\n",
              "\n",
              "  [theme=dark] .colab-df-quickchart:hover {\n",
              "    background-color: #434B5C;\n",
              "    box-shadow: 0px 1px 3px 1px rgba(0, 0, 0, 0.15);\n",
              "    filter: drop-shadow(0px 1px 2px rgba(0, 0, 0, 0.3));\n",
              "    fill: #FFFFFF;\n",
              "  }\n",
              "</style>\n",
              "\n",
              "    <script>\n",
              "      async function quickchart(key) {\n",
              "        const containerElement = document.querySelector('#' + key);\n",
              "        const charts = await google.colab.kernel.invokeFunction(\n",
              "            'suggestCharts', [key], {});\n",
              "      }\n",
              "    </script>\n",
              "\n",
              "      <script>\n",
              "\n",
              "function displayQuickchartButton(domScope) {\n",
              "  let quickchartButtonEl =\n",
              "    domScope.querySelector('#df-af917feb-75c3-46b7-9c89-4ac144c3c87b button.colab-df-quickchart');\n",
              "  quickchartButtonEl.style.display =\n",
              "    google.colab.kernel.accessAllowed ? 'block' : 'none';\n",
              "}\n",
              "\n",
              "        displayQuickchartButton(document);\n",
              "      </script>\n",
              "      <style>\n",
              "    .colab-df-container {\n",
              "      display:flex;\n",
              "      flex-wrap:wrap;\n",
              "      gap: 12px;\n",
              "    }\n",
              "\n",
              "    .colab-df-convert {\n",
              "      background-color: #E8F0FE;\n",
              "      border: none;\n",
              "      border-radius: 50%;\n",
              "      cursor: pointer;\n",
              "      display: none;\n",
              "      fill: #1967D2;\n",
              "      height: 32px;\n",
              "      padding: 0 0 0 0;\n",
              "      width: 32px;\n",
              "    }\n",
              "\n",
              "    .colab-df-convert:hover {\n",
              "      background-color: #E2EBFA;\n",
              "      box-shadow: 0px 1px 2px rgba(60, 64, 67, 0.3), 0px 1px 3px 1px rgba(60, 64, 67, 0.15);\n",
              "      fill: #174EA6;\n",
              "    }\n",
              "\n",
              "    [theme=dark] .colab-df-convert {\n",
              "      background-color: #3B4455;\n",
              "      fill: #D2E3FC;\n",
              "    }\n",
              "\n",
              "    [theme=dark] .colab-df-convert:hover {\n",
              "      background-color: #434B5C;\n",
              "      box-shadow: 0px 1px 3px 1px rgba(0, 0, 0, 0.15);\n",
              "      filter: drop-shadow(0px 1px 2px rgba(0, 0, 0, 0.3));\n",
              "      fill: #FFFFFF;\n",
              "    }\n",
              "  </style>\n",
              "\n",
              "      <script>\n",
              "        const buttonEl =\n",
              "          document.querySelector('#df-4970013c-9648-4cf8-8004-8c5db3fa08ad button.colab-df-convert');\n",
              "        buttonEl.style.display =\n",
              "          google.colab.kernel.accessAllowed ? 'block' : 'none';\n",
              "\n",
              "        async function convertToInteractive(key) {\n",
              "          const element = document.querySelector('#df-4970013c-9648-4cf8-8004-8c5db3fa08ad');\n",
              "          const dataTable =\n",
              "            await google.colab.kernel.invokeFunction('convertToInteractive',\n",
              "                                                     [key], {});\n",
              "          if (!dataTable) return;\n",
              "\n",
              "          const docLinkHtml = 'Like what you see? Visit the ' +\n",
              "            '<a target=\"_blank\" href=https://colab.research.google.com/notebooks/data_table.ipynb>data table notebook</a>'\n",
              "            + ' to learn more about interactive tables.';\n",
              "          element.innerHTML = '';\n",
              "          dataTable['output_type'] = 'display_data';\n",
              "          await google.colab.output.renderOutput(dataTable, element);\n",
              "          const docLink = document.createElement('div');\n",
              "          docLink.innerHTML = docLinkHtml;\n",
              "          element.appendChild(docLink);\n",
              "        }\n",
              "      </script>\n",
              "    </div>\n",
              "  </div>\n"
            ]
          },
          "metadata": {},
          "execution_count": 11
        }
      ]
    },
    {
      "cell_type": "code",
      "source": [
        "X = df_features['Movie_Genre'] + ' ' + df_features['Movie_Keywords'] + ' ' + df_features['Movie_Tagline'] + ' ' + df_features['Movie_Cast'] + ' ' + df_features['Movie_Director']"
      ],
      "metadata": {
        "id": "nviAE9iQXlkC"
      },
      "execution_count": 12,
      "outputs": []
    },
    {
      "cell_type": "code",
      "source": [
        "X.shape"
      ],
      "metadata": {
        "colab": {
          "base_uri": "https://localhost:8080/"
        },
        "id": "d4aYtGSFYFZR",
        "outputId": "9fdb6b9b-9c36-4a1a-e193-8f43993551d9"
      },
      "execution_count": 13,
      "outputs": [
        {
          "output_type": "execute_result",
          "data": {
            "text/plain": [
              "(4760,)"
            ]
          },
          "metadata": {},
          "execution_count": 13
        }
      ]
    },
    {
      "cell_type": "code",
      "source": [
        "from sklearn.feature_extraction.text import TfidfVectorizer"
      ],
      "metadata": {
        "id": "3o0ZOpHkYHWW"
      },
      "execution_count": 14,
      "outputs": []
    },
    {
      "cell_type": "code",
      "source": [
        "tfidf = TfidfVectorizer()"
      ],
      "metadata": {
        "id": "BbbNdssEYUWG"
      },
      "execution_count": 15,
      "outputs": []
    },
    {
      "cell_type": "code",
      "source": [
        "X = tfidf.fit_transform(X)"
      ],
      "metadata": {
        "id": "oAdJWdk5YZQc"
      },
      "execution_count": 16,
      "outputs": []
    },
    {
      "cell_type": "code",
      "source": [
        "X.shape"
      ],
      "metadata": {
        "colab": {
          "base_uri": "https://localhost:8080/"
        },
        "id": "OpH4xf7IYgOC",
        "outputId": "6efcbb58-f9a3-482a-bf7e-5ce7417f5b06"
      },
      "execution_count": 17,
      "outputs": [
        {
          "output_type": "execute_result",
          "data": {
            "text/plain": [
              "(4760, 17258)"
            ]
          },
          "metadata": {},
          "execution_count": 17
        }
      ]
    },
    {
      "cell_type": "code",
      "source": [
        "print(X)"
      ],
      "metadata": {
        "colab": {
          "base_uri": "https://localhost:8080/"
        },
        "id": "d4JjILeUYh28",
        "outputId": "7833bd28-2285-49a1-e51a-e14d5bd33177"
      },
      "execution_count": 19,
      "outputs": [
        {
          "output_type": "stream",
          "name": "stdout",
          "text": [
            "  (0, 617)\t0.1633382144407513\n",
            "  (0, 492)\t0.1432591540388685\n",
            "  (0, 15413)\t0.1465525095337543\n",
            "  (0, 9675)\t0.14226057295252661\n",
            "  (0, 9465)\t0.1659841367820977\n",
            "  (0, 1390)\t0.16898383612799558\n",
            "  (0, 7825)\t0.09799561597509843\n",
            "  (0, 1214)\t0.13865857545144072\n",
            "  (0, 729)\t0.13415063359531618\n",
            "  (0, 13093)\t0.1432591540388685\n",
            "  (0, 15355)\t0.10477815972666779\n",
            "  (0, 9048)\t0.0866842116160778\n",
            "  (0, 11161)\t0.06250380151644369\n",
            "  (0, 16773)\t0.17654247479915475\n",
            "  (0, 5612)\t0.08603537588547631\n",
            "  (0, 16735)\t0.10690083751525419\n",
            "  (0, 7904)\t0.13348000542112332\n",
            "  (0, 15219)\t0.09800472886453934\n",
            "  (0, 11242)\t0.07277788238484746\n",
            "  (0, 3878)\t0.11998399582562203\n",
            "  (0, 5499)\t0.11454057510303811\n",
            "  (0, 7071)\t0.19822417598406614\n",
            "  (0, 7454)\t0.14745635785412262\n",
            "  (0, 1495)\t0.19712637387361423\n",
            "  (0, 9206)\t0.15186283580984414\n",
            "  :\t:\n",
            "  (4757, 5455)\t0.12491480594769522\n",
            "  (4757, 2967)\t0.16273475835631626\n",
            "  (4757, 8464)\t0.23522565554066333\n",
            "  (4757, 6938)\t0.17088173678136628\n",
            "  (4757, 8379)\t0.17480603856721913\n",
            "  (4757, 15303)\t0.07654356007668191\n",
            "  (4757, 15384)\t0.09754322497537371\n",
            "  (4757, 7649)\t0.11479421494340192\n",
            "  (4757, 10896)\t0.14546473055066447\n",
            "  (4757, 4494)\t0.05675298448720501\n",
            "  (4758, 5238)\t1.0\n",
            "  (4759, 11264)\t0.33947721804318337\n",
            "  (4759, 11708)\t0.33947721804318337\n",
            "  (4759, 205)\t0.3237911628497312\n",
            "  (4759, 8902)\t0.3040290704566037\n",
            "  (4759, 14062)\t0.3237911628497312\n",
            "  (4759, 3058)\t0.2812896191863103\n",
            "  (4759, 7130)\t0.26419662449963793\n",
            "  (4759, 10761)\t0.3126617295732147\n",
            "  (4759, 4358)\t0.18306542312175342\n",
            "  (4759, 14051)\t0.20084315377640435\n",
            "  (4759, 5690)\t0.19534291014627303\n",
            "  (4759, 15431)\t0.19628653185946862\n",
            "  (4759, 1490)\t0.21197258705292082\n",
            "  (4759, 10666)\t0.15888268987343043\n"
          ]
        }
      ]
    },
    {
      "cell_type": "code",
      "source": [
        "from sklearn.metrics.pairwise import cosine_similarity"
      ],
      "metadata": {
        "id": "jDl1SAR6Yjn2"
      },
      "execution_count": 20,
      "outputs": []
    },
    {
      "cell_type": "code",
      "source": [
        "Similarity_Score = cosine_similarity(X)"
      ],
      "metadata": {
        "id": "7rgkGNdhYx8L"
      },
      "execution_count": 21,
      "outputs": []
    },
    {
      "cell_type": "code",
      "source": [
        "Similarity_Score"
      ],
      "metadata": {
        "colab": {
          "base_uri": "https://localhost:8080/"
        },
        "id": "C0mRvscwY3pH",
        "outputId": "c1bafcb5-cb97-49ad-a408-cc69c973eac3"
      },
      "execution_count": 22,
      "outputs": [
        {
          "output_type": "execute_result",
          "data": {
            "text/plain": [
              "array([[1.        , 0.01351235, 0.03570468, ..., 0.        , 0.        ,\n",
              "        0.        ],\n",
              "       [0.01351235, 1.        , 0.00806674, ..., 0.        , 0.        ,\n",
              "        0.        ],\n",
              "       [0.03570468, 0.00806674, 1.        , ..., 0.        , 0.08014876,\n",
              "        0.        ],\n",
              "       ...,\n",
              "       [0.        , 0.        , 0.        , ..., 1.        , 0.        ,\n",
              "        0.        ],\n",
              "       [0.        , 0.        , 0.08014876, ..., 0.        , 1.        ,\n",
              "        0.        ],\n",
              "       [0.        , 0.        , 0.        , ..., 0.        , 0.        ,\n",
              "        1.        ]])"
            ]
          },
          "metadata": {},
          "execution_count": 22
        }
      ]
    },
    {
      "cell_type": "code",
      "source": [
        "Similarity_Score.shape"
      ],
      "metadata": {
        "colab": {
          "base_uri": "https://localhost:8080/"
        },
        "id": "kXzM9h-GY6Js",
        "outputId": "13dbdc35-b1c9-47e3-ce42-c3615621d1bb"
      },
      "execution_count": 23,
      "outputs": [
        {
          "output_type": "execute_result",
          "data": {
            "text/plain": [
              "(4760, 4760)"
            ]
          },
          "metadata": {},
          "execution_count": 23
        }
      ]
    },
    {
      "cell_type": "code",
      "source": [
        "Favourite_Movie_Name = input('Enter you favourite movie name: ')"
      ],
      "metadata": {
        "colab": {
          "base_uri": "https://localhost:8080/"
        },
        "id": "6R8sysEAY9-m",
        "outputId": "670c9359-d43a-4488-d6cf-7c8b0edcc823"
      },
      "execution_count": 31,
      "outputs": [
        {
          "name": "stdout",
          "output_type": "stream",
          "text": [
            "Enter you favourite movie name: Jurassic Park\n"
          ]
        }
      ]
    },
    {
      "cell_type": "code",
      "source": [
        "All_Movies_Title_List = df['Movie_Title'].tolist()"
      ],
      "metadata": {
        "id": "BzR-OX7uZJDH"
      },
      "execution_count": 32,
      "outputs": []
    },
    {
      "cell_type": "code",
      "source": [
        "import difflib"
      ],
      "metadata": {
        "id": "wHlFy0tdZSyJ"
      },
      "execution_count": 33,
      "outputs": []
    },
    {
      "cell_type": "code",
      "source": [
        "Movie_Recommendation = difflib.get_close_matches(Favourite_Movie_Name, All_Movies_Title_List)\n",
        "print(Movie_Recommendation)"
      ],
      "metadata": {
        "colab": {
          "base_uri": "https://localhost:8080/"
        },
        "id": "I7rsAzv8ZVmH",
        "outputId": "605ff0e0-deee-4cd3-ca45-9462081df0b4"
      },
      "execution_count": 34,
      "outputs": [
        {
          "output_type": "stream",
          "name": "stdout",
          "text": [
            "['Jurassic Park', 'Jurassic Park III', 'Jurassic World']\n"
          ]
        }
      ]
    },
    {
      "cell_type": "code",
      "source": [
        "Close_Match = Movie_Recommendation[0]\n",
        "print(Close_Match)"
      ],
      "metadata": {
        "colab": {
          "base_uri": "https://localhost:8080/"
        },
        "id": "saXaFp2oZfJC",
        "outputId": "7f56d414-d1b8-46a1-abe2-0bd8ce62cd23"
      },
      "execution_count": 35,
      "outputs": [
        {
          "output_type": "stream",
          "name": "stdout",
          "text": [
            "Jurassic Park\n"
          ]
        }
      ]
    },
    {
      "cell_type": "code",
      "source": [
        "Index_of_Close_Match_Movie = df[df.Movie_Title == Close_Match]['Movie_ID'].values[0]\n",
        "print(Index_of_Close_Match_Movie)"
      ],
      "metadata": {
        "colab": {
          "base_uri": "https://localhost:8080/"
        },
        "id": "5T0SxaQ9Z8SX",
        "outputId": "10a29681-13e7-4395-c26f-09dc73eaf56b"
      },
      "execution_count": 38,
      "outputs": [
        {
          "output_type": "stream",
          "name": "stdout",
          "text": [
            "151\n"
          ]
        }
      ]
    },
    {
      "cell_type": "code",
      "source": [
        "#Gettign a list of similar movies\n",
        "Recommendation_Score = list(enumerate(Similarity_Score[Index_of_Close_Match_Movie]))\n",
        "print(Recommendation_Score)"
      ],
      "metadata": {
        "colab": {
          "base_uri": "https://localhost:8080/"
        },
        "id": "IrjxZx_NaLZo",
        "outputId": "945b87d9-620d-4cab-d7a8-a9c86d3891ad"
      },
      "execution_count": 40,
      "outputs": [
        {
          "output_type": "stream",
          "name": "stdout",
          "text": [
            "[(0, 0.0), (1, 0.03052069059354419), (2, 0.0), (3, 0.0), (4, 0.0), (5, 0.0), (6, 0.036764539111503965), (7, 0.014737421942981782), (8, 0.0), (9, 0.08355950236047355), (10, 0.006276216686962748), (11, 0.0), (12, 0.0), (13, 0.013607233492318497), (14, 0.0), (15, 0.018922626109418705), (16, 0.0), (17, 0.09591718555259787), (18, 0.0), (19, 0.034778215269621264), (20, 0.0), (21, 0.0), (22, 0.020370062426916), (23, 0.0), (24, 0.0), (25, 0.0), (26, 0.0), (27, 0.09464737190244296), (28, 0.0208293607532813), (29, 0.01541344926662464), (30, 0.0), (31, 0.03793471044886047), (32, 0.0119744732617472), (33, 0.014304048955204193), (34, 0.0), (35, 0.07057806765156327), (36, 0.0951072814920941), (37, 0.06982523392392306), (38, 0.006730471242199678), (39, 0.0343103969018659), (40, 0.006606470322129493), (41, 0.03320420319573639), (42, 0.0), (43, 0.0), (44, 0.004902517780110793), (45, 0.026840474064922234), (46, 0.03175932330373949), (47, 0.0), (48, 0.03334971889767861), (49, 0.01568865170459158), (50, 0.08557691457262315), (51, 0.0), (52, 0.0), (53, 0.007358433875193563), (54, 0.013867119925659706), (55, 0.014267853185125506), (56, 0.0139025524778739), (57, 0.006404366350466821), (58, 0.006511206665390654), (59, 0.014068472652781109), (60, 0.0), (61, 0.01597986548351808), (62, 0.0), (63, 0.010867428994717765), (64, 0.017182391103167632), (65, 0.03574547281342581), (66, 0.0), (67, 0.030985222799940378), (68, 0.006246030518836838), (69, 0.03751890974241548), (70, 0.026663132880752134), (71, 0.0), (72, 0.023642144540255892), (73, 0.024484134055181652), (74, 0.04868173887594656), (75, 0.023753348232696835), (76, 0.021544828463336947), (77, 0.01546180245126597), (78, 0.035250408007389336), (79, 0.04432779164920071), (80, 0.049470038829700885), (81, 0.0), (82, 0.0191672309612296), (83, 0.0), (84, 0.08737528299132014), (85, 0.02345153831998617), (86, 0.0), (87, 0.0), (88, 0.00485754578140436), (89, 0.0), (90, 0.0334139787145038), (91, 0.02503683188826702), (92, 0.005182917259279309), (93, 0.032727804450555), (94, 0.0495809386002923), (95, 0.03514945373712896), (96, 0.014980284051753435), (97, 0.0), (98, 0.0), (99, 0.0), (100, 0.0), (101, 0.0934187061159242), (102, 0.028847508258686174), (103, 0.0), (104, 0.0), (105, 0.0), (106, 0.0), (107, 0.0), (108, 0.0), (109, 0.016136681017897416), (110, 0.0), (111, 0.0), (112, 0.0), (113, 0.0), (114, 0.0), (115, 0.0), (116, 0.023622607728260525), (117, 0.0), (118, 0.0653737944062121), (119, 0.013396631949706049), (120, 0.0), (121, 0.014876044043267181), (122, 0.00542521622908139), (123, 0.00644347587054606), (124, 0.0), (125, 0.006742273084230782), (126, 0.0), (127, 0.0), (128, 0.029292612224617674), (129, 0.013840685486627393), (130, 0.08902310765677997), (131, 0.0), (132, 0.0), (133, 0.024927273220934777), (134, 0.0), (135, 0.026382015808498978), (136, 0.0), (137, 0.025098059584704308), (138, 0.0), (139, 0.006607793482680662), (140, 0.0), (141, 0.0), (142, 0.0), (143, 0.0061781144104069135), (144, 0.005596802992960511), (145, 0.0), (146, 0.0), (147, 0.0), (148, 0.0053444362975552), (149, 0.0), (150, 0.533194210393244), (151, 1.0), (152, 0.3913608624479806), (153, 0.01604875606896191), (154, 0.05763122116719764), (155, 0.0), (156, 0.0), (157, 0.0), (158, 0.0), (159, 0.004609354024050382), (160, 0.024202444557739445), (161, 0.0), (162, 0.006468568158755781), (163, 0.0), (164, 0.0), (165, 0.01180407881293102), (166, 0.0), (167, 0.0), (168, 0.0), (169, 0.0), (170, 0.005336158591540791), (171, 0.03243549372984345), (172, 0.0), (173, 0.0), (174, 0.0), (175, 0.0), (176, 0.01663149838152236), (177, 0.0), (178, 0.0), (179, 0.02651568007556325), (180, 0.006293447315849843), (181, 0.005850215065847327), (182, 0.007827339245204824), (183, 0.0), (184, 0.05533038056787462), (185, 0.00734142549381972), (186, 0.0), (187, 0.017994954319335264), (188, 0.0), (189, 0.0353845916347816), (190, 0.0), (191, 0.045309212044084154), (192, 0.043872043168155926), (193, 0.03805856417520339), (194, 0.07723610781021088), (195, 0.0), (196, 0.02047573645960835), (197, 0.0), (198, 0.0), (199, 0.0), (200, 0.0), (201, 0.014246517126224626), (202, 0.0), (203, 0.0), (204, 0.0), (205, 0.0), (206, 0.0), (207, 0.0223876300361486), (208, 0.03168061405388232), (209, 0.0), (210, 0.006347313805078701), (211, 0.01691812534528427), (212, 0.0), (213, 0.0), (214, 0.0), (215, 0.0), (216, 0.0), (217, 0.005740329501840507), (218, 0.021866282039973664), (219, 0.04452559856865437), (220, 0.027915688428010378), (221, 0.0), (222, 0.0), (223, 0.005671213915550548), (224, 0.0), (225, 0.0), (226, 0.0), (227, 0.0), (228, 0.0), (229, 0.0), (230, 0.0057354047003760926), (231, 0.014318810411652248), (232, 0.014701824011223781), (233, 0.005812650039481733), (234, 0.02940849833131961), (235, 0.0), (236, 0.0), (237, 0.0062999164421496156), (238, 0.0), (239, 0.09205251917014169), (240, 0.02824115749969777), (241, 0.007746341003791534), (242, 0.006723328526977977), (243, 0.0), (244, 0.005761431661856989), (245, 0.0), (246, 0.0), (247, 0.015356114024654111), (248, 0.0), (249, 0.05384519441734383), (250, 0.0), (251, 0.0), (252, 0.025050608238522544), (253, 0.06869751486983061), (254, 0.0), (255, 0.0), (256, 0.0), (257, 0.07955122083860604), (258, 0.10826476499568848), (259, 0.02625353570926698), (260, 0.032410074887482106), (261, 0.07121371759800285), (262, 0.0), (263, 0.03233608666990244), (264, 0.03421717287807642), (265, 0.0), (266, 0.052877836802283903), (267, 0.0), (268, 0.0), (269, 0.005053519201956834), (270, 0.0), (271, 0.00451352887278622), (272, 0.025250598787722296), (273, 0.019234041828891667), (274, 0.0), (275, 0.0), (276, 0.09076761669829975), (277, 0.006825940214524421), (278, 0.0), (279, 0.022821302297820808), (280, 0.06266947814562676), (281, 0.0), (282, 0.0), (283, 0.08118251184537878), (284, 0.022804853007923023), (285, 0.0), (286, 0.006663651939057581), (287, 0.0), (288, 0.011596221422737418), (289, 0.010959368911137104), (290, 0.011142571288626137), (291, 0.0), (292, 0.013248132879709499), (293, 0.0), (294, 0.010872281175719879), (295, 0.01113570047436712), (296, 0.004413993313905336), (297, 0.02533911619457735), (298, 0.025019586113713396), (299, 0.04375466481071669), (300, 0.007398133157789768), (301, 0.008214342807015532), (302, 0.0), (303, 0.028652786586864733), (304, 0.0), (305, 0.013641583979240058), (306, 0.10625477324617634), (307, 0.01924325214371843), (308, 0.0), (309, 0.0), (310, 0.0527178040932825), (311, 0.0), (312, 0.0), (313, 0.0), (314, 0.06319318827907487), (315, 0.03880295898831482), (316, 0.03585213458555375), (317, 0.0), (318, 0.0), (319, 0.018087663124660276), (320, 0.06133349147609451), (321, 0.013253487373561513), (322, 0.013446092256822105), (323, 0.012214323490595012), (324, 0.0), (325, 0.0), (326, 0.0), (327, 0.012249171021012402), (328, 0.005719886924231645), (329, 0.0), (330, 0.0), (331, 0.0), (332, 0.004409800328007411), (333, 0.02348649038676185), (334, 0.005299436605730822), (335, 0.0), (336, 0.005569257435751974), (337, 0.01469046783402997), (338, 0.0), (339, 0.0156631235156389), (340, 0.008343448281363184), (341, 0.0), (342, 0.0), (343, 0.0), (344, 0.0), (345, 0.007526165322855744), (346, 0.0), (347, 0.07587822851626896), (348, 0.06884830875638384), (349, 0.0), (350, 0.09339689198758261), (351, 0.0), (352, 0.0327163423624799), (353, 0.005981447541246133), (354, 0.014812033517776314), (355, 0.0), (356, 0.0), (357, 0.0), (358, 0.0), (359, 0.0), (360, 0.0), (361, 0.008243118778800988), (362, 0.008573684104563294), (363, 0.04182570939869406), (364, 0.04530222977734363), (365, 0.008623414963846547), (366, 0.0), (367, 0.019653188426907515), (368, 0.03394646800073312), (369, 0.015700874086971343), (370, 0.0), (371, 0.0), (372, 0.015080953945432504), (373, 0.01533955700572576), (374, 0.0), (375, 0.026095240023454692), (376, 0.017820961221425742), (377, 0.016676828623166384), (378, 0.09996107945705332), (379, 0.03146819955396117), (380, 0.023568077514658066), (381, 0.006342442904584537), (382, 0.012559261823748539), (383, 0.0), (384, 0.0), (385, 0.0), (386, 0.006132540473210511), (387, 0.0592596457169932), (388, 0.0), (389, 0.020424155763924406), (390, 0.032887837769859866), (391, 0.0), (392, 0.0), (393, 0.0), (394, 0.053336573507307), (395, 0.0), (396, 0.0), (397, 0.031242558189500964), (398, 0.0), (399, 0.05822206153794514), (400, 0.0), (401, 0.07155329500302739), (402, 0.030512042664154807), (403, 0.0), (404, 0.0), (405, 0.021993381556254153), (406, 0.0), (407, 0.0), (408, 0.018739409249961664), (409, 0.007149326564326192), (410, 0.0), (411, 0.0054057080163200065), (412, 0.042631361064046955), (413, 0.021906771113074493), (414, 0.0), (415, 0.0), (416, 0.0), (417, 0.027718010253277116), (418, 0.03779350193697387), (419, 0.008745904314276933), (420, 0.0), (421, 0.0060056812039001005), (422, 0.015292854732197807), (423, 0.0), (424, 0.015504160665728042), (425, 0.03385257646544659), (426, 0.012771899676583685), (427, 0.01967792553504742), (428, 0.007010887575563655), (429, 0.0), (430, 0.022081188359163093), (431, 0.0), (432, 0.0), (433, 0.0), (434, 0.0), (435, 0.004775565071374016), (436, 0.02825953426144982), (437, 0.0), (438, 0.016771424022391776), (439, 0.036485037529288986), (440, 0.02139199548104329), (441, 0.0), (442, 0.0048833463904864784), (443, 0.0), (444, 0.0), (445, 0.0), (446, 0.0), (447, 0.0), (448, 0.0), (449, 0.0), (450, 0.0), (451, 0.030397756138881148), (452, 0.010284391674877751), (453, 0.015687383003555776), (454, 0.02322933538198243), (455, 0.01148541984418053), (456, 0.0), (457, 0.007127178883462247), (458, 0.006571446854569638), (459, 0.019417964092027708), (460, 0.02041994818500787), (461, 0.009195928838042414), (462, 0.0), (463, 0.0), (464, 0.0), (465, 0.0), (466, 0.0), (467, 0.029415517700917892), (468, 0.050735377727431315), (469, 0.024660639774280558), (470, 0.006211475472467623), (471, 0.0), (472, 0.02911509055761924), (473, 0.0), (474, 0.025614751929756974), (475, 0.048503418077449435), (476, 0.0), (477, 0.0940307034845923), (478, 0.027589211738755108), (479, 0.0), (480, 0.0), (481, 0.0), (482, 0.0), (483, 0.01708943167682903), (484, 0.034273810367923645), (485, 0.0), (486, 0.04807205341438518), (487, 0.0), (488, 0.0), (489, 0.0), (490, 0.0), (491, 0.03994707406950775), (492, 0.024652492443722227), (493, 0.0), (494, 0.005916453240049582), (495, 0.005208967568962928), (496, 0.011657812754355954), (497, 0.03040764643377543), (498, 0.01301778761933739), (499, 0.0), (500, 0.005742531868952013), (501, 0.012261691889061965), (502, 0.0), (503, 0.0), (504, 0.0), (505, 0.0), (506, 0.0), (507, 0.0), (508, 0.0), (509, 0.021038852895335924), (510, 0.0), (511, 0.01868406871539554), (512, 0.006999900741626862), (513, 0.0064021462302508055), (514, 0.006386822466701493), (515, 0.01989825143951765), (516, 0.02752330904847001), (517, 0.02743990117314011), (518, 0.0), (519, 0.012056497341044772), (520, 0.0), (521, 0.015583620789884005), (522, 0.0), (523, 0.0), (524, 0.0), (525, 0.0), (526, 0.0), (527, 0.0), (528, 0.013903667163659022), (529, 0.0), (530, 0.0), (531, 0.0), (532, 0.0054688129297988395), (533, 0.006624115072435154), (534, 0.005816762456360369), (535, 0.0), (536, 0.0), (537, 0.03889543554391284), (538, 0.0), (539, 0.03807831931810505), (540, 0.012602512470747545), (541, 0.0), (542, 0.004129932201642808), (543, 0.0), (544, 0.0164251227228477), (545, 0.024843601121996274), (546, 0.02728643640304942), (547, 0.06461613894544188), (548, 0.012804745379346024), (549, 0.0), (550, 0.015082429014352432), (551, 0.0), (552, 0.0), (553, 0.0201119181431899), (554, 0.04484024362553455), (555, 0.03859224368089814), (556, 0.0), (557, 0.01577258069047422), (558, 0.0), (559, 0.0), (560, 0.005907229488566506), (561, 0.019470947214056365), (562, 0.0), (563, 0.021981793207848686), (564, 0.03196494999498264), (565, 0.0319151516906645), (566, 0.01357918785228309), (567, 0.057952110653738675), (568, 0.012664456062985953), (569, 0.012511491976213778), (570, 0.018650576993842215), (571, 0.0), (572, 0.03502956718989545), (573, 0.04641697792156122), (574, 0.0582071019674978), (575, 0.0), (576, 0.0), (577, 0.0), (578, 0.0), (579, 0.0), (580, 0.020711677518226456), (581, 0.0), (582, 0.0), (583, 0.0), (584, 0.0), (585, 0.0), (586, 0.00808903105482001), (587, 0.0), (588, 0.0), (589, 0.0), (590, 0.03317648825138092), (591, 0.037525432408055615), (592, 0.013868790113082216), (593, 0.0), (594, 0.006940863268031169), (595, 0.006477131541513043), (596, 0.0), (597, 0.0), (598, 0.0), (599, 0.04411793831542976), (600, 0.05298648625573511), (601, 0.07987555320181669), (602, 0.027898758383659607), (603, 0.03634411831650389), (604, 0.022419858268224784), (605, 0.0), (606, 0.021184587665358176), (607, 0.0), (608, 0.07651139849481313), (609, 0.0), (610, 0.013576375496099882), (611, 0.0), (612, 0.0), (613, 0.049634522289201746), (614, 0.03029556895725566), (615, 0.014144818763186233), (616, 0.0), (617, 0.0), (618, 0.0), (619, 0.026282348279169098), (620, 0.0), (621, 0.004982959807040716), (622, 0.0), (623, 0.0), (624, 0.0), (625, 0.01765462041542196), (626, 0.0), (627, 0.0105150202212254), (628, 0.01998352587566794), (629, 0.0), (630, 0.0), (631, 0.014039750147298892), (632, 0.005322792000464255), (633, 0.0), (634, 0.0), (635, 0.014908047562146417), (636, 0.0), (637, 0.0), (638, 0.0), (639, 0.01153038975167089), (640, 0.01143120680882159), (641, 0.005560801189981745), (642, 0.0), (643, 0.0), (644, 0.005594695361123798), (645, 0.0), (646, 0.0), (647, 0.0), (648, 0.0), (649, 0.023103404090035813), (650, 0.007270622127973347), (651, 0.005685946632816996), (652, 0.0), (653, 0.0051241086184009845), (654, 0.006207257237979233), (655, 0.0), (656, 0.027740429226142872), (657, 0.014373253070746498), (658, 0.0), (659, 0.0), (660, 0.0), (661, 0.038687600294819685), (662, 0.0), (663, 0.022801174475798557), (664, 0.017766960059336187), (665, 0.02508501730852446), (666, 0.03845103766836775), (667, 0.0), (668, 0.004659345144519493), (669, 0.005418927900633579), (670, 0.007258039664352294), (671, 0.0), (672, 0.010503201016626886), (673, 0.006426896411338461), (674, 0.03387207574465029), (675, 0.0), (676, 0.0), (677, 0.00851027217608136), (678, 0.0), (679, 0.0186536705375799), (680, 0.0), (681, 0.047477378747888536), (682, 0.006623662352376266), (683, 0.006648720684686362), (684, 0.016198430919607106), (685, 0.0), (686, 0.03125613249439417), (687, 0.013068193134032579), (688, 0.006524122289310573), (689, 0.0), (690, 0.005479552564402506), (691, 0.0), (692, 0.025791040849676025), (693, 0.0), (694, 0.015220600839883115), (695, 0.0), (696, 0.0), (697, 0.0), (698, 0.0), (699, 0.006983325693824406), (700, 0.05177034758742726), (701, 0.0), (702, 0.019193981284789153), (703, 0.0), (704, 0.0), (705, 0.0), (706, 0.0), (707, 0.0), (708, 0.02605964356062525), (709, 0.0), (710, 0.02346487437152325), (711, 0.029668700058764864), (712, 0.0), (713, 0.014786211851429303), (714, 0.013816356915536279), (715, 0.01506800080681072), (716, 0.0398822130479617), (717, 0.0), (718, 0.049453603716778614), (719, 0.004731433026758966), (720, 0.007468559447316777), (721, 0.0), (722, 0.0), (723, 0.004985669389357409), (724, 0.02739574607084684), (725, 0.011615885597383274), (726, 0.006493092134656285), (727, 0.005786241395600063), (728, 0.006352124114278693), (729, 0.0065673652961009375), (730, 0.02040868134823607), (731, 0.0), (732, 0.0), (733, 0.01775040011987834), (734, 0.0), (735, 0.0), (736, 0.0), (737, 0.0), (738, 0.004851695786615973), (739, 0.018469371282988954), (740, 0.013296435024504902), (741, 0.0), (742, 0.0186312707212671), (743, 0.0), (744, 0.0), (745, 0.0261477581890348), (746, 0.0), (747, 0.04091797259699109), (748, 0.0), (749, 0.08257931241574229), (750, 0.020900489624641038), (751, 0.03412668841027864), (752, 0.0), (753, 0.006827029044388742), (754, 0.0), (755, 0.0), (756, 0.036824211959159706), (757, 0.0), (758, 0.0), (759, 0.0), (760, 0.0), (761, 0.0), (762, 0.02288706051598798), (763, 0.02492780100289824), (764, 0.0), (765, 0.0), (766, 0.0), (767, 0.0), (768, 0.0), (769, 0.0202467406534061), (770, 0.0), (771, 0.0), (772, 0.02401146519437031), (773, 0.0), (774, 0.0), (775, 0.005940814401564235), (776, 0.018724503969375937), (777, 0.0), (778, 0.021112735855587577), (779, 0.0050343249302510175), (780, 0.0), (781, 0.017045690626483024), (782, 0.0), (783, 0.0), (784, 0.0), (785, 0.0), (786, 0.0), (787, 0.0), (788, 0.0), (789, 0.0), (790, 0.0), (791, 0.0), (792, 0.0), (793, 0.014181035763446436), (794, 0.0), (795, 0.006960929908497151), (796, 0.0), (797, 0.04301357999111109), (798, 0.024103865472877854), (799, 0.01932201631420827), (800, 0.005293601662593386), (801, 0.018156045856371494), (802, 0.040157762100811845), (803, 0.027051811983919816), (804, 0.005297072232464513), (805, 0.0), (806, 0.0), (807, 0.0), (808, 0.0), (809, 0.006046264760529455), (810, 0.0), (811, 0.030932973608562567), (812, 0.01939796238627784), (813, 0.0), (814, 0.0), (815, 0.0), (816, 0.0), (817, 0.0), (818, 0.05800250638938206), (819, 0.0), (820, 0.01750825963380145), (821, 0.012505604046574862), (822, 0.0), (823, 0.0), (824, 0.01127120636875192), (825, 0.005711950161741038), (826, 0.014562763191630263), (827, 0.005587127374864792), (828, 0.0), (829, 0.0), (830, 0.0), (831, 0.0), (832, 0.0), (833, 0.018549570943779157), (834, 0.01965917910314038), (835, 0.018740309738274775), (836, 0.0), (837, 0.0), (838, 0.0), (839, 0.054347223082131225), (840, 0.0), (841, 0.05281841935066882), (842, 0.02389773642537158), (843, 0.0), (844, 0.0), (845, 0.006165676418567713), (846, 0.0), (847, 0.018560692220004504), (848, 0.031181441650697826), (849, 0.013645829160389183), (850, 0.025713704355102805), (851, 0.005159343971636128), (852, 0.007428209184136812), (853, 0.0), (854, 0.005620585966061786), (855, 0.0), (856, 0.04957636882783965), (857, 0.0), (858, 0.0469597887434477), (859, 0.0), (860, 0.0), (861, 0.0), (862, 0.06960834428137241), (863, 0.0), (864, 0.0), (865, 0.0), (866, 0.005475053691034121), (867, 0.0), (868, 0.0054680957518334706), (869, 0.006038387886385181), (870, 0.0), (871, 0.007978822334642297), (872, 0.08070399038358875), (873, 0.01733233963952094), (874, 0.0), (875, 0.054505399697729925), (876, 0.04499581740970715), (877, 0.01640615835719077), (878, 0.00556263147297418), (879, 0.0), (880, 0.0), (881, 0.0), (882, 0.006883537121131983), (883, 0.0), (884, 0.0), (885, 0.0), (886, 0.0), (887, 0.0), (888, 0.0), (889, 0.0), (890, 0.0), (891, 0.027813930319396794), (892, 0.03118433218843029), (893, 0.0), (894, 0.0), (895, 0.05720142451079994), (896, 0.0), (897, 0.0), (898, 0.0), (899, 0.0), (900, 0.0), (901, 0.0), (902, 0.035051836345778825), (903, 0.026509447193632185), (904, 0.006932733620106727), (905, 0.006812790139678845), (906, 0.0), (907, 0.0), (908, 0.006016570968618803), (909, 0.00784855715783268), (910, 0.0), (911, 0.04360454193563792), (912, 0.018039823477620752), (913, 0.028008325315264072), (914, 0.00961484672555756), (915, 0.07221941108823224), (916, 0.0), (917, 0.0), (918, 0.03536173057907745), (919, 0.013876481456789491), (920, 0.00712877988331814), (921, 0.00722714789619235), (922, 0.0), (923, 0.019087633802081814), (924, 0.0), (925, 0.0), (926, 0.0060566677620702706), (927, 0.0), (928, 0.006145915057347192), (929, 0.004248418424628853), (930, 0.0), (931, 0.0), (932, 0.018339176505856314), (933, 0.0), (934, 0.06338614094922576), (935, 0.007222819687809871), (936, 0.0695657235651629), (937, 0.0), (938, 0.0), (939, 0.023607822843326826), (940, 0.0), (941, 0.0), (942, 0.0), (943, 0.0), (944, 0.015079912540275832), (945, 0.013826369812495408), (946, 0.013588296460696802), (947, 0.007944415998956983), (948, 0.007415496116523393), (949, 0.0), (950, 0.018910487509351512), (951, 0.006555472514067215), (952, 0.022176807330911742), (953, 0.05796527220792733), (954, 0.012203895591044494), (955, 0.0), (956, 0.014960543348364306), (957, 0.0), (958, 0.022877096843671216), (959, 0.15313853571295422), (960, 0.0), (961, 0.0), (962, 0.0), (963, 0.02468198124176189), (964, 0.02105635184057825), (965, 0.013624975793161732), (966, 0.02817476129186028), (967, 0.027886408910938104), (968, 0.0), (969, 0.0), (970, 0.0), (971, 0.0), (972, 0.0), (973, 0.0), (974, 0.005513246027973621), (975, 0.0), (976, 0.0), (977, 0.04778888619969711), (978, 0.0), (979, 0.0), (980, 0.0), (981, 0.023771566412173206), (982, 0.0), (983, 0.0), (984, 0.0), (985, 0.0), (986, 0.005884922691396143), (987, 0.0), (988, 0.0), (989, 0.0), (990, 0.023530547781803097), (991, 0.0), (992, 0.04945277690318774), (993, 0.0), (994, 0.005985070624878636), (995, 0.0), (996, 0.008310525021173706), (997, 0.023747516220332405), (998, 0.0), (999, 0.0), (1000, 0.005297176185300555), (1001, 0.07585149020610835), (1002, 0.0), (1003, 0.02096962795966042), (1004, 0.0), (1005, 0.004501561458028632), (1006, 0.0), (1007, 0.04341631059782783), (1008, 0.0), (1009, 0.0), (1010, 0.004981214304335829), (1011, 0.0473597702370853), (1012, 0.013526945414585283), (1013, 0.029882388431267046), (1014, 0.030591580758397425), (1015, 0.0544012675147418), (1016, 0.006975221340803203), (1017, 0.005724398041161838), (1018, 0.0), (1019, 0.0), (1020, 0.0), (1021, 0.0), (1022, 0.028151377028326305), (1023, 0.006620110666823044), (1024, 0.00613401838333263), (1025, 0.0), (1026, 0.0), (1027, 0.0), (1028, 0.015974446151986087), (1029, 0.0), (1030, 0.03484410223532653), (1031, 0.02807409700992563), (1032, 0.02385649068490458), (1033, 0.0), (1034, 0.0), (1035, 0.005721423998387473), (1036, 0.0), (1037, 0.0), (1038, 0.0), (1039, 0.0), (1040, 0.0), (1041, 0.0), (1042, 0.0), (1043, 0.0), (1044, 0.029951470772429642), (1045, 0.014001697605389971), (1046, 0.022427182390121064), (1047, 0.0), (1048, 0.0), (1049, 0.0), (1050, 0.006615551965601402), (1051, 0.009497046084406038), (1052, 0.0), (1053, 0.0), (1054, 0.005561175374382154), (1055, 0.018732619027233516), (1056, 0.13346666245178543), (1057, 0.028332437596932575), (1058, 0.0), (1059, 0.0196198670749979), (1060, 0.08115097589544175), (1061, 0.0), (1062, 0.0), (1063, 0.01319331074071275), (1064, 0.0), (1065, 0.005382901606331782), (1066, 0.024318833150091642), (1067, 0.007406364278943744), (1068, 0.0), (1069, 0.03164161697533728), (1070, 0.0), (1071, 0.0), (1072, 0.0), (1073, 0.0), (1074, 0.026485830839884244), (1075, 0.0), (1076, 0.0056770567789450775), (1077, 0.0), (1078, 0.0), (1079, 0.007141028117693972), (1080, 0.0), (1081, 0.0), (1082, 0.025932724573093778), (1083, 0.08522674557179255), (1084, 0.0), (1085, 0.007916494086095969), (1086, 0.0), (1087, 0.0858112307814923), (1088, 0.0), (1089, 0.0), (1090, 0.006812660493659925), (1091, 0.03740864599034255), (1092, 0.004908849446382167), (1093, 0.0), (1094, 0.0), (1095, 0.03604703640165348), (1096, 0.00572959598556753), (1097, 0.03599299970377263), (1098, 0.0), (1099, 0.01447924354031448), (1100, 0.0), (1101, 0.02085251639296985), (1102, 0.05058484177438287), (1103, 0.026268827621626883), (1104, 0.0), (1105, 0.02563318735807409), (1106, 0.0), (1107, 0.0), (1108, 0.03486510195460482), (1109, 0.0), (1110, 0.0), (1111, 0.05145790779098237), (1112, 0.0), (1113, 0.01318185916019578), (1114, 0.007152438525109043), (1115, 0.01097193253734394), (1116, 0.0), (1117, 0.0), (1118, 0.007461232475506227), (1119, 0.0), (1120, 0.01749066686250489), (1121, 0.0), (1122, 0.005995957760358693), (1123, 0.01883726534385512), (1124, 0.0), (1125, 0.0), (1126, 0.007668023931090437), (1127, 0.005796638240814403), (1128, 0.0), (1129, 0.026414694090005044), (1130, 0.0), (1131, 0.0), (1132, 0.0), (1133, 0.0), (1134, 0.03080072052773613), (1135, 0.012671273047527834), (1136, 0.0), (1137, 0.03852283713179208), (1138, 0.022330545394399992), (1139, 0.0), (1140, 0.02196624101226123), (1141, 0.006293857180143298), (1142, 0.0), (1143, 0.11089922296297379), (1144, 0.0), (1145, 0.0), (1146, 0.09709289206275559), (1147, 0.0), (1148, 0.028259563070264546), (1149, 0.0), (1150, 0.03685550271056416), (1151, 0.05049272256981579), (1152, 0.0), (1153, 0.004129301571221384), (1154, 0.03267827448796545), (1155, 0.0), (1156, 0.0), (1157, 0.0), (1158, 0.0), (1159, 0.016018165020061523), (1160, 0.0), (1161, 0.0), (1162, 0.006425281417625135), (1163, 0.0), (1164, 0.021470337233640165), (1165, 0.028574964862835568), (1166, 0.0), (1167, 0.0), (1168, 0.0), (1169, 0.0), (1170, 0.0), (1171, 0.018583490670839205), (1172, 0.005896575736888131), (1173, 0.012357135104585996), (1174, 0.0060207547734652455), (1175, 0.007836858230579155), (1176, 0.0), (1177, 0.0), (1178, 0.0), (1179, 0.013652942412858958), (1180, 0.0), (1181, 0.0), (1182, 0.0), (1183, 0.005466553803145195), (1184, 0.028553994613141887), (1185, 0.014386020485838941), (1186, 0.0), (1187, 0.0), (1188, 0.0), (1189, 0.0), (1190, 0.0), (1191, 0.0), (1192, 0.10085983653936037), (1193, 0.02646731516086922), (1194, 0.006784661247383572), (1195, 0.029315053840459918), (1196, 0.0), (1197, 0.0), (1198, 0.032688926345540124), (1199, 0.0), (1200, 0.0), (1201, 0.0), (1202, 0.0), (1203, 0.0), (1204, 0.0), (1205, 0.04291804550092897), (1206, 0.01451844387101053), (1207, 0.013045081710972958), (1208, 0.0), (1209, 0.0), (1210, 0.009929235832002031), (1211, 0.0), (1212, 0.022779071162268398), (1213, 0.0), (1214, 0.004938387189066912), (1215, 0.0), (1216, 0.0), (1217, 0.0), (1218, 0.0), (1219, 0.0069663895905563026), (1220, 0.0), (1221, 0.006455983304171422), (1222, 0.0), (1223, 0.0), (1224, 0.0), (1225, 0.014405070664317302), (1226, 0.0058301233845285075), (1227, 0.0), (1228, 0.008333105384616502), (1229, 0.006148522406745963), (1230, 0.025344213630043723), (1231, 0.007441227723525427), (1232, 0.0), (1233, 0.02149530074362569), (1234, 0.0), (1235, 0.0), (1236, 0.0), (1237, 0.0), (1238, 0.007712481854281369), (1239, 0.0), (1240, 0.015133307321043479), (1241, 0.018147475112237552), (1242, 0.007103875240012598), (1243, 0.0), (1244, 0.03077998037939602), (1245, 0.0198862163521882), (1246, 0.0), (1247, 0.0), (1248, 0.0), (1249, 0.017786000276571515), (1250, 0.0520075851109579), (1251, 0.022148173477055125), (1252, 0.02187123250763925), (1253, 0.055436502027479254), (1254, 0.013994631906559519), (1255, 0.0), (1256, 0.0193702213731368), (1257, 0.005803484190540983), (1258, 0.0460091283859553), (1259, 0.005382938108315614), (1260, 0.0), (1261, 0.0), (1262, 0.053846784686013255), (1263, 0.033011243125101696), (1264, 0.0), (1265, 0.08859089502445913), (1266, 0.07092864073627796), (1267, 0.024417041135035872), (1268, 0.0), (1269, 0.03411503876365027), (1270, 0.0), (1271, 0.0), (1272, 0.007651254559170363), (1273, 0.012995554705777661), (1274, 0.005593086005792961), (1275, 0.0), (1276, 0.004392798443642747), (1277, 0.0), (1278, 0.0), (1279, 0.0), (1280, 0.03638593677703726), (1281, 0.03346267914366909), (1282, 0.08542075633492227), (1283, 0.012008256817841564), (1284, 0.0), (1285, 0.025279592449810498), (1286, 0.0), (1287, 0.00748164211681101), (1288, 0.007065461619370677), (1289, 0.0), (1290, 0.0052176141377403), (1291, 0.023396592375763352), (1292, 0.02170811175275526), (1293, 0.013124658086611429), (1294, 0.04537250461625225), (1295, 0.05052624172667988), (1296, 0.037992619122610524), (1297, 0.0), (1298, 0.0), (1299, 0.0), (1300, 0.0), (1301, 0.01192953595311341), (1302, 0.005973281824799104), (1303, 0.0), (1304, 0.0), (1305, 0.0), (1306, 0.0262407771306104), (1307, 0.007307731829216929), (1308, 0.007124464785530392), (1309, 0.011686522191357905), (1310, 0.012324182322111712), (1311, 0.0), (1312, 0.0), (1313, 0.0), (1314, 0.005793522908036283), (1315, 0.03323685471178714), (1316, 0.0), (1317, 0.0), (1318, 0.0), (1319, 0.0), (1320, 0.0046232031426834495), (1321, 0.015715281113343936), (1322, 0.08133716314512868), (1323, 0.0), (1324, 0.014565687178342054), (1325, 0.0), (1326, 0.011146891208376263), (1327, 0.00738433776984369), (1328, 0.04657466932141764), (1329, 0.0), (1330, 0.0), (1331, 0.0), (1332, 0.006561814990969078), (1333, 0.008280972880844556), (1334, 0.0), (1335, 0.005948060121188632), (1336, 0.02081156309419944), (1337, 0.022527813151021682), (1338, 0.005792512720844702), (1339, 0.0), (1340, 0.0), (1341, 0.05461365246786734), (1342, 0.0), (1343, 0.0), (1344, 0.0), (1345, 0.0), (1346, 0.013732845043133768), (1347, 0.0), (1348, 0.005129969401523649), (1349, 0.0), (1350, 0.013301002123297968), (1351, 0.041163375270920254), (1352, 0.011598935769801432), (1353, 0.0), (1354, 0.04645280604389057), (1355, 0.0), (1356, 0.016775881113212814), (1357, 0.005427376789679566), (1358, 0.033676629951549464), (1359, 0.017392384860682987), (1360, 0.0229879393391951), (1361, 0.020839349775968928), (1362, 0.0), (1363, 0.0), (1364, 0.0), (1365, 0.016737318626848956), (1366, 0.01231726144767671), (1367, 0.0), (1368, 0.013174725888168332), (1369, 0.004820313874707601), (1370, 0.0), (1371, 0.0), (1372, 0.0), (1373, 0.007523124766055082), (1374, 0.03763315779360407), (1375, 0.0), (1376, 0.0), (1377, 0.004750813507336708), (1378, 0.01980371887900925), (1379, 0.01183539246217251), (1380, 0.014400840625259991), (1381, 0.03921223191212266), (1382, 0.0), (1383, 0.028253614841092036), (1384, 0.04863431503254656), (1385, 0.03808026674610895), (1386, 0.03033766210875223), (1387, 0.01232680006273501), (1388, 0.007799230547920592), (1389, 0.008177221588411415), (1390, 0.0), (1391, 0.0), (1392, 0.014390713891063368), (1393, 0.006183947359211825), (1394, 0.0), (1395, 0.0), (1396, 0.03573440600465318), (1397, 0.006715259796448356), (1398, 0.0158070709768696), (1399, 0.0), (1400, 0.02089305770559731), (1401, 0.00819989928207772), (1402, 0.0), (1403, 0.0), (1404, 0.0), (1405, 0.021431543225257747), (1406, 0.005755954030191966), (1407, 0.0), (1408, 0.01512593778655149), (1409, 0.07848317798202274), (1410, 0.0), (1411, 0.0), (1412, 0.08684178429724532), (1413, 0.08910855179662934), (1414, 0.0), (1415, 0.013261096937888078), (1416, 0.0), (1417, 0.004597249650351503), (1418, 0.010495962628615824), (1419, 0.005896435975473807), (1420, 0.0), (1421, 0.0), (1422, 0.07142816551286851), (1423, 0.0), (1424, 0.0), (1425, 0.0), (1426, 0.0), (1427, 0.0), (1428, 0.0), (1429, 0.0), (1430, 0.0), (1431, 0.016573920406999464), (1432, 0.006134718544538827), (1433, 0.019086222147792733), (1434, 0.0), (1435, 0.016547717031786424), (1436, 0.014447763182157803), (1437, 0.015472783173112056), (1438, 0.0), (1439, 0.02075290420881356), (1440, 0.013865635019823349), (1441, 0.08613494090063759), (1442, 0.005830604304439007), (1443, 0.0060762594572567035), (1444, 0.0), (1445, 0.0), (1446, 0.0), (1447, 0.0), (1448, 0.0), (1449, 0.0), (1450, 0.0), (1451, 0.0), (1452, 0.026697555241898804), (1453, 0.0), (1454, 0.006468757850873092), (1455, 0.005882261816379864), (1456, 0.0), (1457, 0.0), (1458, 0.028332683897343364), (1459, 0.013440760185659824), (1460, 0.04889406188648385), (1461, 0.0), (1462, 0.0), (1463, 0.0), (1464, 0.0), (1465, 0.0), (1466, 0.01591834083152003), (1467, 0.020772396323634593), (1468, 0.030288000951618765), (1469, 0.02733529001900322), (1470, 0.014133808331068221), (1471, 0.004367362134708174), (1472, 0.0), (1473, 0.0), (1474, 0.008660084815135971), (1475, 0.008095307792735179), (1476, 0.0), (1477, 0.060501228808451796), (1478, 0.00563968591432382), (1479, 0.0), (1480, 0.0), (1481, 0.02422478391969886), (1482, 0.0), (1483, 0.005843738028001746), (1484, 0.0062298242565573345), (1485, 0.0), (1486, 0.029079183522722256), (1487, 0.0), (1488, 0.0), (1489, 0.08243306306719059), (1490, 0.007419527755856973), (1491, 0.0), (1492, 0.02165998486770821), (1493, 0.0), (1494, 0.016674380735295556), (1495, 0.00790038469869013), (1496, 0.0), (1497, 0.0), (1498, 0.0), (1499, 0.0), (1500, 0.0), (1501, 0.0), (1502, 0.027883754621149347), (1503, 0.007040652752797817), (1504, 0.005833012385513604), (1505, 0.020574691133038683), (1506, 0.013573372665602221), (1507, 0.0), (1508, 0.0), (1509, 0.01354038946805845), (1510, 0.0059455822542688105), (1511, 0.006395220429735103), (1512, 0.005927780838984732), (1513, 0.022995733057698066), (1514, 0.007186643855383546), (1515, 0.05892923217318787), (1516, 0.006065288559283316), (1517, 0.0), (1518, 0.0), (1519, 0.0), (1520, 0.0), (1521, 0.006706725468248511), (1522, 0.013788786612980292), (1523, 0.0), (1524, 0.0), (1525, 0.03690704669291669), (1526, 0.0), (1527, 0.021604321251584898), (1528, 0.0), (1529, 0.014179715358261997), (1530, 0.027983415312258453), (1531, 0.0), (1532, 0.0), (1533, 0.0), (1534, 0.0), (1535, 0.022203239606664402), (1536, 0.027457709560923606), (1537, 0.006305393260517779), (1538, 0.0), (1539, 0.0), (1540, 0.006879845053165572), (1541, 0.0), (1542, 0.0), (1543, 0.018260963430711263), (1544, 0.00565350932277405), (1545, 0.005647571030317799), (1546, 0.022715394518832865), (1547, 0.01590366926145111), (1548, 0.027942875175190496), (1549, 0.0), (1550, 0.0), (1551, 0.0), (1552, 0.013055390321579045), (1553, 0.0), (1554, 0.03762141489856334), (1555, 0.046855108835491224), (1556, 0.0), (1557, 0.0), (1558, 0.0), (1559, 0.0), (1560, 0.006636656418421209), (1561, 0.0), (1562, 0.0), (1563, 0.0), (1564, 0.006031750815227267), (1565, 0.0), (1566, 0.034197579267763525), (1567, 0.012369234742967264), (1568, 0.02304955075243331), (1569, 0.0), (1570, 0.014360414670309182), (1571, 0.020882507766852708), (1572, 0.014529352302773153), (1573, 0.0), (1574, 0.0), (1575, 0.02196604035661276), (1576, 0.004717270249470427), (1577, 0.013774037980924077), (1578, 0.0), (1579, 0.03211887155625802), (1580, 0.0), (1581, 0.005872280553758219), (1582, 0.0), (1583, 0.0), (1584, 0.018735489825300315), (1585, 0.0), (1586, 0.0), (1587, 0.013899456220618195), (1588, 0.0), (1589, 0.0), (1590, 0.048852112029367414), (1591, 0.03505369827741123), (1592, 0.03313996206021517), (1593, 0.0), (1594, 0.0), (1595, 0.0), (1596, 0.0), (1597, 0.0), (1598, 0.007665591279829202), (1599, 0.005962910359177612), (1600, 0.0496817812219327), (1601, 0.0068928036787355386), (1602, 0.0), (1603, 0.0143297026197097), (1604, 0.013538426781840406), (1605, 0.0), (1606, 0.0), (1607, 0.007562221519014891), (1608, 0.018108516352391444), (1609, 0.0), (1610, 0.018350997945513616), (1611, 0.013799486044808641), (1612, 0.0), (1613, 0.021339121267088455), (1614, 0.0), (1615, 0.03806425360153058), (1616, 0.0), (1617, 0.0), (1618, 0.07736735343305659), (1619, 0.0), (1620, 0.0), (1621, 0.0), (1622, 0.0), (1623, 0.0), (1624, 0.020367408817303236), (1625, 0.0), (1626, 0.0), (1627, 0.005034321185076643), (1628, 0.022305385538929867), (1629, 0.0), (1630, 0.023130675744286986), (1631, 0.0), (1632, 0.0), (1633, 0.06552537361182106), (1634, 0.0), (1635, 0.0), (1636, 0.0), (1637, 0.0), (1638, 0.025160185468077793), (1639, 0.0), (1640, 0.008387159914803849), (1641, 0.0), (1642, 0.0), (1643, 0.0), (1644, 0.0), (1645, 0.033010385974123375), (1646, 0.0), (1647, 0.0), (1648, 0.0), (1649, 0.03184529733282086), (1650, 0.029410173552095013), (1651, 0.02930502510764193), (1652, 0.0), (1653, 0.02574907557147776), (1654, 0.0), (1655, 0.0), (1656, 0.053537494079946124), (1657, 0.023847585019547885), (1658, 0.0), (1659, 0.006277436106213403), (1660, 0.0), (1661, 0.0), (1662, 0.07114288953567455), (1663, 0.01867240316040534), (1664, 0.026784482875404574), (1665, 0.028339273065410488), (1666, 0.0), (1667, 0.0), (1668, 0.0), (1669, 0.0), (1670, 0.0), (1671, 0.0), (1672, 0.0), (1673, 0.0), (1674, 0.0), (1675, 0.012439514899158977), (1676, 0.0), (1677, 0.016140185458769718), (1678, 0.025563081554751142), (1679, 0.0), (1680, 0.00534874882166004), (1681, 0.006465836910254204), (1682, 0.0), (1683, 0.0), (1684, 0.0), (1685, 0.07358464317688018), (1686, 0.03913200174340575), (1687, 0.006244358615585223), (1688, 0.0), (1689, 0.0), (1690, 0.0), (1691, 0.0), (1692, 0.005827140202066627), (1693, 0.0), (1694, 0.0), (1695, 0.0), (1696, 0.02589243890544029), (1697, 0.09487476513154328), (1698, 0.0), (1699, 0.0), (1700, 0.014801375769135485), (1701, 0.016199822122593563), (1702, 0.0), (1703, 0.0), (1704, 0.0), (1705, 0.014622073410214844), (1706, 0.007836143463198135), (1707, 0.0213844879596545), (1708, 0.03345403508146295), (1709, 0.01104222246990385), (1710, 0.0), (1711, 0.03138711696482457), (1712, 0.017300899585546738), (1713, 0.015505448253626715), (1714, 0.005384557809879331), (1715, 0.0), (1716, 0.02300775209108748), (1717, 0.0), (1718, 0.0), (1719, 0.0), (1720, 0.0), (1721, 0.005511007919390043), (1722, 0.0), (1723, 0.018606685082208873), (1724, 0.0), (1725, 0.008584883555205241), (1726, 0.0), (1727, 0.006123383942245131), (1728, 0.004549494278047878), (1729, 0.0), (1730, 0.0), (1731, 0.0256783941439722), (1732, 0.00629455674495039), (1733, 0.0), (1734, 0.04747699677952011), (1735, 0.022765346485647795), (1736, 0.006165392696473871), (1737, 0.0), (1738, 0.007371916089992904), (1739, 0.0), (1740, 0.00600780413449075), (1741, 0.0), (1742, 0.0), (1743, 0.013777118890363255), (1744, 0.0), (1745, 0.02924698209654642), (1746, 0.0), (1747, 0.03589892205748236), (1748, 0.02957209797292227), (1749, 0.020704585419512873), (1750, 0.018334361383037043), (1751, 0.005958634106456564), (1752, 0.0), (1753, 0.0), (1754, 0.021834132559381113), (1755, 0.007389466043013847), (1756, 0.019346053703273813), (1757, 0.0), (1758, 0.038186995443670116), (1759, 0.0), (1760, 0.0), (1761, 0.0), (1762, 0.0), (1763, 0.0), (1764, 0.011836173159203319), (1765, 0.026123585885923895), (1766, 0.0278725117817832), (1767, 0.0), (1768, 0.0631251376981668), (1769, 0.02002941671726388), (1770, 0.006332693741078117), (1771, 0.0), (1772, 0.029651615271707753), (1773, 0.0), (1774, 0.0), (1775, 0.0), (1776, 0.04432618558055145), (1777, 0.0), (1778, 0.0), (1779, 0.0), (1780, 0.0), (1781, 0.005011095381332916), (1782, 0.0), (1783, 0.019303152005301565), (1784, 0.0), (1785, 0.0), (1786, 0.0), (1787, 0.0), (1788, 0.04306572279746238), (1789, 0.012609060722657417), (1790, 0.0), (1791, 0.034380192511197886), (1792, 0.0), (1793, 0.01857711780918863), (1794, 0.0), (1795, 0.0), (1796, 0.00537354738388783), (1797, 0.01197113107360444), (1798, 0.07512328096680068), (1799, 0.028919601782793708), (1800, 0.0), (1801, 0.0), (1802, 0.04288976319103886), (1803, 0.0), (1804, 0.0251051149860253), (1805, 0.07806948098019778), (1806, 0.0), (1807, 0.0), (1808, 0.0), (1809, 0.012340534819187456), (1810, 0.027037883531757977), (1811, 0.0), (1812, 0.014586655430797364), (1813, 0.0), (1814, 0.0), (1815, 0.03503674484932236), (1816, 0.0), (1817, 0.0), (1818, 0.005580954321093451), (1819, 0.0), (1820, 0.01843221675815885), (1821, 0.0), (1822, 0.0062169952053933), (1823, 0.005449033868783897), (1824, 0.0), (1825, 0.0), (1826, 0.0), (1827, 0.0), (1828, 0.005081757462445716), (1829, 0.0), (1830, 0.0), (1831, 0.016003632982695803), (1832, 0.0), (1833, 0.006649433165883789), (1834, 0.0), (1835, 0.0), (1836, 0.022778300428489846), (1837, 0.0), (1838, 0.0), (1839, 0.0), (1840, 0.0), (1841, 0.014202069582489063), (1842, 0.07177805273618507), (1843, 0.0), (1844, 0.008525562257506739), (1845, 0.0), (1846, 0.013301909848568712), (1847, 0.006080628536130514), (1848, 0.0), (1849, 0.0), (1850, 0.006697893420504177), (1851, 0.025379143463545552), (1852, 0.0), (1853, 0.0062338697409483265), (1854, 0.0), (1855, 0.007263314370249096), (1856, 0.0), (1857, 0.0), (1858, 0.0), (1859, 0.0), (1860, 0.0), (1861, 0.0), (1862, 0.0), (1863, 0.0), (1864, 0.01973201591748768), (1865, 0.0), (1866, 0.0), (1867, 0.0), (1868, 0.0), (1869, 0.0), (1870, 0.005263840186000238), (1871, 0.0), (1872, 0.0), (1873, 0.0), (1874, 0.01749210148236166), (1875, 0.0441727192155431), (1876, 0.0059232511647408885), (1877, 0.018913602115792006), (1878, 0.0), (1879, 0.0), (1880, 0.0), (1881, 0.0911089416040119), (1882, 0.01941990789097113), (1883, 0.0064021550868058425), (1884, 0.0), (1885, 0.0), (1886, 0.023717920636447683), (1887, 0.0), (1888, 0.0), (1889, 0.024316308397089873), (1890, 0.0), (1891, 0.0), (1892, 0.0), (1893, 0.0), (1894, 0.03233634037086916), (1895, 0.012863114639651067), (1896, 0.0), (1897, 0.0), (1898, 0.01276805459345786), (1899, 0.028443846967923854), (1900, 0.0), (1901, 0.01399431269236431), (1902, 0.0), (1903, 0.01919103692894915), (1904, 0.03613645509294073), (1905, 0.0), (1906, 0.0), (1907, 0.0), (1908, 0.028431022615816176), (1909, 0.0), (1910, 0.0), (1911, 0.02936871128090631), (1912, 0.007434690582720193), (1913, 0.0), (1914, 0.0), (1915, 0.0), (1916, 0.0), (1917, 0.0), (1918, 0.0), (1919, 0.0), (1920, 0.014965534911386054), (1921, 0.0), (1922, 0.0), (1923, 0.027073626028812883), (1924, 0.03485720564880412), (1925, 0.05251424305514248), (1926, 0.04651158441060498), (1927, 0.0), (1928, 0.0), (1929, 0.0), (1930, 0.020036583957073386), (1931, 0.013951382208440978), (1932, 0.024870365121067675), (1933, 0.0), (1934, 0.033578375255152774), (1935, 0.0), (1936, 0.013955828649677985), (1937, 0.005784928178254992), (1938, 0.0), (1939, 0.018121529761226107), (1940, 0.0), (1941, 0.007048921205658526), (1942, 0.0), (1943, 0.0), (1944, 0.0), (1945, 0.013758490199410424), (1946, 0.0), (1947, 0.0), (1948, 0.023414028266614893), (1949, 0.006105680663699093), (1950, 0.0), (1951, 0.0), (1952, 0.0), (1953, 0.0), (1954, 0.0), (1955, 0.008156795762920332), (1956, 0.0), (1957, 0.0), (1958, 0.08155688819919604), (1959, 0.0), (1960, 0.0), (1961, 0.007999803638892413), (1962, 0.0), (1963, 0.0), (1964, 0.0), (1965, 0.008111125660265405), (1966, 0.039193928012633945), (1967, 0.0), (1968, 0.006916342914088201), (1969, 0.015620047065678848), (1970, 0.0), (1971, 0.004991860068901337), (1972, 0.0), (1973, 0.0055402624931822336), (1974, 0.0), (1975, 0.0), (1976, 0.029496806244786573), (1977, 0.0052436534305724735), (1978, 0.0), (1979, 0.0), (1980, 0.0), (1981, 0.0), (1982, 0.0312980184233218), (1983, 0.0), (1984, 0.018855799431914396), (1985, 0.0059510887902755934), (1986, 0.0), (1987, 0.012534206970819181), (1988, 0.015338182477958547), (1989, 0.006237080953455666), (1990, 0.0147461137080403), (1991, 0.020811687329326443), (1992, 0.0), (1993, 0.0), (1994, 0.0), (1995, 0.0), (1996, 0.0), (1997, 0.0), (1998, 0.0), (1999, 0.008771819517403944), (2000, 0.0), (2001, 0.0), (2002, 0.0), (2003, 0.0), (2004, 0.0), (2005, 0.0718462914373661), (2006, 0.0066224981850492425), (2007, 0.0), (2008, 0.019275375219711403), (2009, 0.0), (2010, 0.010783421353527889), (2011, 0.0), (2012, 0.006772958088124996), (2013, 0.030302184554762655), (2014, 0.013581058389397969), (2015, 0.014258298807324625), (2016, 0.014175433848686626), (2017, 0.0), (2018, 0.016733480594446664), (2019, 0.007712155253089953), (2020, 0.005023636033639996), (2021, 0.05641076912802173), (2022, 0.0), (2023, 0.0), (2024, 0.005639678844373816), (2025, 0.004858264795974088), (2026, 0.016172853957150908), (2027, 0.0), (2028, 0.006307383998671097), (2029, 0.0), (2030, 0.02577644515278586), (2031, 0.017885704001665115), (2032, 0.0), (2033, 0.005357069185180424), (2034, 0.011249851909324413), (2035, 0.0), (2036, 0.014733981399825822), (2037, 0.0), (2038, 0.03819554364438739), (2039, 0.05285367332674733), (2040, 0.006506418855604113), (2041, 0.0), (2042, 0.0), (2043, 0.0), (2044, 0.023448332058068407), (2045, 0.03931371884648192), (2046, 0.0), (2047, 0.01751472453156542), (2048, 0.007992595939322973), (2049, 0.0), (2050, 0.007404529306583382), (2051, 0.01838958224631041), (2052, 0.005492455985946653), (2053, 0.0), (2054, 0.0), (2055, 0.02645173335777722), (2056, 0.024119040107891045), (2057, 0.0), (2058, 0.02382809052509011), (2059, 0.0), (2060, 0.0), (2061, 0.026744029068073633), (2062, 0.019864714673578535), (2063, 0.0), (2064, 0.0), (2065, 0.012267784800452586), (2066, 0.037658172052355054), (2067, 0.013736932759562193), (2068, 0.015380221511582963), (2069, 0.023951400668341977), (2070, 0.01695343223070781), (2071, 0.0), (2072, 0.0), (2073, 0.0), (2074, 0.0), (2075, 0.017891931775275816), (2076, 0.0), (2077, 0.00718249827553643), (2078, 0.020999860474241863), (2079, 0.0), (2080, 0.0), (2081, 0.03118051488157395), (2082, 0.006389168518112498), (2083, 0.00616336367969855), (2084, 0.0), (2085, 0.006136040451548237), (2086, 0.03908863910142562), (2087, 0.043462342449475444), (2088, 0.006170382246969866), (2089, 0.0), (2090, 0.03830376490759894), (2091, 0.026772241023703278), (2092, 0.01662708784530197), (2093, 0.012628726378552486), (2094, 0.03444576663525839), (2095, 0.11661730955849049), (2096, 0.0), (2097, 0.0), (2098, 0.0), (2099, 0.0), (2100, 0.007467099758408009), (2101, 0.0), (2102, 0.0), (2103, 0.013296081130777737), (2104, 0.0), (2105, 0.0), (2106, 0.0), (2107, 0.018879687133361637), (2108, 0.0), (2109, 0.0), (2110, 0.0), (2111, 0.07826656016192271), (2112, 0.0), (2113, 0.004608668003407339), (2114, 0.022229624201502214), (2115, 0.0), (2116, 0.0), (2117, 0.013097900947018265), (2118, 0.012327071198614746), (2119, 0.0), (2120, 0.0), (2121, 0.024046147975451043), (2122, 0.0), (2123, 0.0), (2124, 0.012623264541130918), (2125, 0.031251562418059466), (2126, 0.02044068088132346), (2127, 0.011463150842153422), (2128, 0.0), (2129, 0.0), (2130, 0.007849644183673567), (2131, 0.01554864722040646), (2132, 0.0), (2133, 0.023057670940526145), (2134, 0.0), (2135, 0.0), (2136, 0.08493452503442343), (2137, 0.0), (2138, 0.0), (2139, 0.031417835825112796), (2140, 0.0), (2141, 0.0), (2142, 0.08111480366037423), (2143, 0.0), (2144, 0.0), (2145, 0.0), (2146, 0.0), (2147, 0.021038206458839876), (2148, 0.0167764025220046), (2149, 0.0), (2150, 0.013223104455098507), (2151, 0.0), (2152, 0.0), (2153, 0.013729470878548831), (2154, 0.0), (2155, 0.0), (2156, 0.0), (2157, 0.0), (2158, 0.0), (2159, 0.0), (2160, 0.0), (2161, 0.0), (2162, 0.0), (2163, 0.0), (2164, 0.015283789283776062), (2165, 0.0), (2166, 0.005546552093435059), (2167, 0.0), (2168, 0.07832771776859025), (2169, 0.0), (2170, 0.0), (2171, 0.008389081068195017), (2172, 0.007952361918703396), (2173, 0.0), (2174, 0.0), (2175, 0.0), (2176, 0.0), (2177, 0.04135283181845917), (2178, 0.04496233605516031), (2179, 0.0), (2180, 0.03018311746345087), (2181, 0.006684924294448617), (2182, 0.0792667171146169), (2183, 0.007201001951377399), (2184, 0.02415107793362936), (2185, 0.012232702956454115), (2186, 0.05725879909036272), (2187, 0.0), (2188, 0.007187559701619883), (2189, 0.0), (2190, 0.0), (2191, 0.0), (2192, 0.0), (2193, 0.0), (2194, 0.020556902750998557), (2195, 0.0), (2196, 0.0), (2197, 0.004981164625299581), (2198, 0.015560425518910933), (2199, 0.0), (2200, 0.0), (2201, 0.0), (2202, 0.023795285619703368), (2203, 0.0), (2204, 0.0), (2205, 0.024715970639171768), (2206, 0.00562934909094478), (2207, 0.0), (2208, 0.014472465593834902), (2209, 0.02786478577059233), (2210, 0.0059879415817415205), (2211, 0.0), (2212, 0.005876650958876561), (2213, 0.0), (2214, 0.0), (2215, 0.0), (2216, 0.0), (2217, 0.027642548921706426), (2218, 0.008633047262024206), (2219, 0.0), (2220, 0.0), (2221, 0.030511015427686264), (2222, 0.0), (2223, 0.0), (2224, 0.0055885124033145175), (2225, 0.0), (2226, 0.0), (2227, 0.004893803360138151), (2228, 0.0), (2229, 0.0), (2230, 0.0), (2231, 0.0), (2232, 0.045160612750948396), (2233, 0.03749846665296814), (2234, 0.0), (2235, 0.0), (2236, 0.0), (2237, 0.011981902622487748), (2238, 0.00609915099804745), (2239, 0.005744835497228705), (2240, 0.0), (2241, 0.00612425017669588), (2242, 0.0), (2243, 0.006317129128177004), (2244, 0.0), (2245, 0.0), (2246, 0.0), (2247, 0.05903671622092014), (2248, 0.014551306604576049), (2249, 0.008120926735594612), (2250, 0.0), (2251, 0.0), (2252, 0.0), (2253, 0.0), (2254, 0.0), (2255, 0.0), (2256, 0.0), (2257, 0.0), (2258, 0.0), (2259, 0.016145436094721917), (2260, 0.0), (2261, 0.0), (2262, 0.0), (2263, 0.038633553841746764), (2264, 0.0), (2265, 0.01862421349246569), (2266, 0.0), (2267, 0.0), (2268, 0.0), (2269, 0.023810354948570072), (2270, 0.03110145354429134), (2271, 0.0), (2272, 0.0), (2273, 0.0), (2274, 0.00541897425612219), (2275, 0.007975534756907255), (2276, 0.0060495327455687324), (2277, 0.03463784850516834), (2278, 0.020812763520239794), (2279, 0.0), (2280, 0.02032247158567078), (2281, 0.0), (2282, 0.0), (2283, 0.030138062562347856), (2284, 0.02450912732543772), (2285, 0.013974974817424997), (2286, 0.02621771081585485), (2287, 0.08932257032496091), (2288, 0.0), (2289, 0.0), (2290, 0.0), (2291, 0.0), (2292, 0.0), (2293, 0.0), (2294, 0.02221084823572946), (2295, 0.024765177315943597), (2296, 0.011470509516867983), (2297, 0.0), (2298, 0.013474545483881613), (2299, 0.0), (2300, 0.01625310097098373), (2301, 0.0), (2302, 0.0), (2303, 0.0), (2304, 0.0), (2305, 0.0), (2306, 0.0), (2307, 0.0), (2308, 0.031323194354176076), (2309, 0.0), (2310, 0.0), (2311, 0.023544497888322493), (2312, 0.04660518074548861), (2313, 0.0), (2314, 0.0), (2315, 0.005428405924695556), (2316, 0.02294367191094463), (2317, 0.0), (2318, 0.0), (2319, 0.0), (2320, 0.07137585168124781), (2321, 0.0), (2322, 0.0), (2323, 0.0), (2324, 0.010019186119847057), (2325, 0.0), (2326, 0.01610922922677667), (2327, 0.015090665162261289), (2328, 0.0), (2329, 0.05120286271950767), (2330, 0.036128012836566414), (2331, 0.0), (2332, 0.008002344280609081), (2333, 0.0), (2334, 0.0), (2335, 0.0), (2336, 0.0), (2337, 0.02994155172268695), (2338, 0.0), (2339, 0.0), (2340, 0.036085481577046344), (2341, 0.04462399345426119), (2342, 0.0), (2343, 0.0), (2344, 0.0), (2345, 0.0), (2346, 0.0), (2347, 0.0), (2348, 0.0), (2349, 0.0), (2350, 0.0), (2351, 0.0), (2352, 0.006636536721906626), (2353, 0.014058801530945651), (2354, 0.0), (2355, 0.017103518766768133), (2356, 0.015264584310603645), (2357, 0.02329009335915974), (2358, 0.0), (2359, 0.0), (2360, 0.0), (2361, 0.006246907761076653), (2362, 0.0), (2363, 0.00727810600658804), (2364, 0.006243548568456344), (2365, 0.010557129361540426), (2366, 0.0), (2367, 0.0), (2368, 0.0), (2369, 0.0), (2370, 0.0), (2371, 0.0), (2372, 0.0), (2373, 0.0), (2374, 0.0), (2375, 0.0), (2376, 0.0), (2377, 0.0), (2378, 0.006930956203203769), (2379, 0.0), (2380, 0.0), (2381, 0.015224223938479914), (2382, 0.0), (2383, 0.006548407046059625), (2384, 0.0), (2385, 0.017047631082266385), (2386, 0.0), (2387, 0.0), (2388, 0.0), (2389, 0.012180087509980082), (2390, 0.0), (2391, 0.0), (2392, 0.0), (2393, 0.0), (2394, 0.0), (2395, 0.0), (2396, 0.0), (2397, 0.0), (2398, 0.0), (2399, 0.005436392930096307), (2400, 0.0), (2401, 0.0), (2402, 0.0), (2403, 0.0), (2404, 0.0), (2405, 0.0), (2406, 0.023281648813313707), (2407, 0.0), (2408, 0.0), (2409, 0.023838315394420405), (2410, 0.0), (2411, 0.0), (2412, 0.005113805000164587), (2413, 0.03584256294177819), (2414, 0.007827652039878459), (2415, 0.007146396311496036), (2416, 0.0), (2417, 0.0), (2418, 0.0), (2419, 0.03782827096273309), (2420, 0.0), (2421, 0.03672673703035881), (2422, 0.0), (2423, 0.0), (2424, 0.005338185139624425), (2425, 0.0), (2426, 0.012307657795567308), (2427, 0.015861046171420826), (2428, 0.015069280658634842), (2429, 0.005459333722177234), (2430, 0.016421665733236133), (2431, 0.02599573572613807), (2432, 0.025451428983926702), (2433, 0.011957658126380942), (2434, 0.029142969039025676), (2435, 0.0), (2436, 0.0), (2437, 0.0), (2438, 0.0), (2439, 0.021678640725363865), (2440, 0.0), (2441, 0.0), (2442, 0.03177897592578449), (2443, 0.054738975252157096), (2444, 0.013928443346515166), (2445, 0.0), (2446, 0.0), (2447, 0.013882072287534663), (2448, 0.0), (2449, 0.0), (2450, 0.026290167938297), (2451, 0.03037394518741386), (2452, 0.0), (2453, 0.03183283422626708), (2454, 0.0), (2455, 0.0), (2456, 0.0), (2457, 0.0), (2458, 0.0), (2459, 0.007168383902242884), (2460, 0.0), (2461, 0.0), (2462, 0.0), (2463, 0.0), (2464, 0.0), (2465, 0.0), (2466, 0.041572473131476655), (2467, 0.0), (2468, 0.10023841992960944), (2469, 0.0), (2470, 0.006651643558623703), (2471, 0.020279813458357228), (2472, 0.015580117784489027), (2473, 0.007395540855515542), (2474, 0.005957760397513354), (2475, 0.0), (2476, 0.025101082970562665), (2477, 0.0), (2478, 0.0), (2479, 0.038156838263528475), (2480, 0.0), (2481, 0.0), (2482, 0.023281754589219217), (2483, 0.0), (2484, 0.027430367234353607), (2485, 0.0), (2486, 0.0), (2487, 0.0), (2488, 0.01978073056745777), (2489, 0.0), (2490, 0.0), (2491, 0.0), (2492, 0.025185796760215717), (2493, 0.017820861708631522), (2494, 0.0), (2495, 0.0), (2496, 0.01918540050848348), (2497, 0.0), (2498, 0.0), (2499, 0.03311699347265218), (2500, 0.028623325102807313), (2501, 0.03433448915492469), (2502, 0.0), (2503, 0.0), (2504, 0.007581796414125467), (2505, 0.0), (2506, 0.013699173795602353), (2507, 0.0), (2508, 0.0), (2509, 0.0), (2510, 0.018553998841801804), (2511, 0.0), (2512, 0.007709695669265142), (2513, 0.005462176344104681), (2514, 0.0), (2515, 0.0), (2516, 0.0), (2517, 0.0), (2518, 0.0), (2519, 0.0), (2520, 0.0), (2521, 0.03437653686314189), (2522, 0.014552949065761083), (2523, 0.0), (2524, 0.024585722394037657), (2525, 0.023568539897100768), (2526, 0.0), (2527, 0.01764472741277335), (2528, 0.01503092167451907), (2529, 0.0), (2530, 0.01735518504839697), (2531, 0.020656579299637486), (2532, 0.03728146966844272), (2533, 0.0), (2534, 0.0), (2535, 0.0), (2536, 0.0), (2537, 0.0), (2538, 0.0), (2539, 0.05579853378331602), (2540, 0.005613071115629618), (2541, 0.016819773530568547), (2542, 0.0), (2543, 0.0), (2544, 0.016889910926241924), (2545, 0.0), (2546, 0.0), (2547, 0.007755441590591537), (2548, 0.0), (2549, 0.021694950625669333), (2550, 0.01822907035050547), (2551, 0.007890198231882717), (2552, 0.0), (2553, 0.0), (2554, 0.013775105551390922), (2555, 0.015527777137468517), (2556, 0.0), (2557, 0.0), (2558, 0.0), (2559, 0.0179502045487342), (2560, 0.0), (2561, 0.0), (2562, 0.005846791569404951), (2563, 0.0), (2564, 0.0), (2565, 0.021025781836890346), (2566, 0.0), (2567, 0.016203767962390446), (2568, 0.0), (2569, 0.007673160661587002), (2570, 0.029458528162169095), (2571, 0.01982078082620589), (2572, 0.0), (2573, 0.02164421197353568), (2574, 0.07638911393225815), (2575, 0.008487478653293783), (2576, 0.006662700748330295), (2577, 0.0), (2578, 0.019176074189379243), (2579, 0.01814256485607077), (2580, 0.0), (2581, 0.007359536860797656), (2582, 0.0), (2583, 0.0), (2584, 0.019750755451401803), (2585, 0.0), (2586, 0.05287083926977078), (2587, 0.0), (2588, 0.0), (2589, 0.0), (2590, 0.007228837681353011), (2591, 0.02266044328320839), (2592, 0.0), (2593, 0.0), (2594, 0.02283332272177902), (2595, 0.0), (2596, 0.0), (2597, 0.0), (2598, 0.0), (2599, 0.022173210814810645), (2600, 0.007430267624406851), (2601, 0.0), (2602, 0.0), (2603, 0.03329370813913889), (2604, 0.0), (2605, 0.02952203514760708), (2606, 0.0), (2607, 0.0), (2608, 0.0), (2609, 0.008282763152741141), (2610, 0.0), (2611, 0.017004254829917534), (2612, 0.0), (2613, 0.0), (2614, 0.0), (2615, 0.007213538857150198), (2616, 0.013351052430969606), (2617, 0.0), (2618, 0.01953872729019413), (2619, 0.0), (2620, 0.015444891224245891), (2621, 0.0), (2622, 0.02240211301849485), (2623, 0.08305000479151003), (2624, 0.0), (2625, 0.006766404791822426), (2626, 0.006463656757833962), (2627, 0.04768740290185504), (2628, 0.0), (2629, 0.027672583071623652), (2630, 0.0), (2631, 0.0), (2632, 0.0), (2633, 0.0), (2634, 0.005502973354106653), (2635, 0.0), (2636, 0.022906633735440312), (2637, 0.008337299289941907), (2638, 0.0), (2639, 0.0), (2640, 0.014287200240144179), (2641, 0.01308482269619467), (2642, 0.013155846308388851), (2643, 0.0), (2644, 0.02928104464533359), (2645, 0.0075794012897647065), (2646, 0.0172112228708287), (2647, 0.013830005309170348), (2648, 0.0), (2649, 0.022862976496095668), (2650, 0.0), (2651, 0.0), (2652, 0.0), (2653, 0.015619002632829277), (2654, 0.0), (2655, 0.0), (2656, 0.0), (2657, 0.03233548272961762), (2658, 0.0), (2659, 0.008483386051756456), (2660, 0.0), (2661, 0.027114684859179738), (2662, 0.0), (2663, 0.0), (2664, 0.0), (2665, 0.0), (2666, 0.018859118489709507), (2667, 0.00802516268181221), (2668, 0.006059775080646035), (2669, 0.0), (2670, 0.0063038928366957155), (2671, 0.018383482524902038), (2672, 0.015304893777833242), (2673, 0.0), (2674, 0.033507615022378645), (2675, 0.0), (2676, 0.006753330840057944), (2677, 0.0), (2678, 0.0), (2679, 0.0), (2680, 0.025310445470863824), (2681, 0.10615007021771831), (2682, 0.024635327190842625), (2683, 0.0), (2684, 0.0), (2685, 0.0), (2686, 0.0), (2687, 0.0), (2688, 0.006662190888292602), (2689, 0.02799045486046492), (2690, 0.0), (2691, 0.035550044445919714), (2692, 0.0), (2693, 0.0), (2694, 0.08178471507911872), (2695, 0.0), (2696, 0.0), (2697, 0.0048214288852296335), (2698, 0.0), (2699, 0.0), (2700, 0.0), (2701, 0.026195812632225795), (2702, 0.028606539185935018), (2703, 0.0), (2704, 0.0), (2705, 0.0), (2706, 0.005599050832009785), (2707, 0.045670537137178696), (2708, 0.020911244364126176), (2709, 0.0), (2710, 0.015353133684378606), (2711, 0.025124578875107488), (2712, 0.0), (2713, 0.07763581571950887), (2714, 0.006232981342792313), (2715, 0.03723065456609751), (2716, 0.0), (2717, 0.0), (2718, 0.011916186817923296), (2719, 0.0), (2720, 0.006902536081080215), (2721, 0.0), (2722, 0.0), (2723, 0.017358823745364675), (2724, 0.018229852891083146), (2725, 0.008304848423704542), (2726, 0.0), (2727, 0.0), (2728, 0.0), (2729, 0.03645475311896968), (2730, 0.0), (2731, 0.0), (2732, 0.0), (2733, 0.0), (2734, 0.0), (2735, 0.0), (2736, 0.0), (2737, 0.0), (2738, 0.0), (2739, 0.0), (2740, 0.01748671864661417), (2741, 0.006991894121011802), (2742, 0.005468055714314662), (2743, 0.0), (2744, 0.0), (2745, 0.0), (2746, 0.0), (2747, 0.0), (2748, 0.0), (2749, 0.031098208515452204), (2750, 0.0), (2751, 0.005584916144564077), (2752, 0.0), (2753, 0.0), (2754, 0.006174464073248036), (2755, 0.008211250743087158), (2756, 0.024696898690308326), (2757, 0.0), (2758, 0.0), (2759, 0.0), (2760, 0.012423187936434226), (2761, 0.0), (2762, 0.042362131260995126), (2763, 0.032250779012848396), (2764, 0.0), (2765, 0.0), (2766, 0.0), (2767, 0.00459476292872042), (2768, 0.008371760625463985), (2769, 0.0), (2770, 0.016964814068178614), (2771, 0.0), (2772, 0.006976461598002434), (2773, 0.019788007619515505), (2774, 0.010911312119159182), (2775, 0.0), (2776, 0.0), (2777, 0.005449442700673807), (2778, 0.007121334336529176), (2779, 0.018921026719032404), (2780, 0.006098025474690589), (2781, 0.012361825756126031), (2782, 0.04919980891005142), (2783, 0.0), (2784, 0.0), (2785, 0.022693442960013206), (2786, 0.0), (2787, 0.00560014755315178), (2788, 0.0059957945087957725), (2789, 0.017052654430557302), (2790, 0.038588136090060884), (2791, 0.005401213456540778), (2792, 0.0), (2793, 0.0), (2794, 0.0), (2795, 0.007437568789977044), (2796, 0.0), (2797, 0.0), (2798, 0.0), (2799, 0.0), (2800, 0.0), (2801, 0.0), (2802, 0.015826766631188833), (2803, 0.012426462199465775), (2804, 0.02828937440697207), (2805, 0.014153686437837758), (2806, 0.00860002652550391), (2807, 0.0), (2808, 0.0), (2809, 0.0), (2810, 0.006600526109109263), (2811, 0.006449459474025178), (2812, 0.0), (2813, 0.0), (2814, 0.0), (2815, 0.04557793199960219), (2816, 0.0), (2817, 0.03838311155392848), (2818, 0.0), (2819, 0.0062389010112070134), (2820, 0.005151276837605416), (2821, 0.0), (2822, 0.011784478957090007), (2823, 0.0), (2824, 0.019986958441352155), (2825, 0.005818039879208996), (2826, 0.013727748717090303), (2827, 0.0), (2828, 0.019830218532934474), (2829, 0.0), (2830, 0.008642435828206407), (2831, 0.0), (2832, 0.0), (2833, 0.0), (2834, 0.0), (2835, 0.014791391011783811), (2836, 0.0), (2837, 0.02471521753600614), (2838, 0.07846445514193184), (2839, 0.0), (2840, 0.006568567890586234), (2841, 0.0), (2842, 0.005091911109095901), (2843, 0.046567978545761085), (2844, 0.004864128868085586), (2845, 0.023247894696800518), (2846, 0.0), (2847, 0.01348162344476608), (2848, 0.0), (2849, 0.0), (2850, 0.033961198061565834), (2851, 0.0), (2852, 0.0), (2853, 0.0), (2854, 0.024516566136441674), (2855, 0.0), (2856, 0.0), (2857, 0.031178332815813607), (2858, 0.0), (2859, 0.0), (2860, 0.0370732403071211), (2861, 0.0), (2862, 0.00548862733523043), (2863, 0.0), (2864, 0.006694486635741611), (2865, 0.029101070474427643), (2866, 0.0), (2867, 0.0060559433261994115), (2868, 0.0), (2869, 0.0), (2870, 0.0), (2871, 0.0), (2872, 0.0), (2873, 0.0), (2874, 0.0), (2875, 0.0), (2876, 0.02109520644236085), (2877, 0.0), (2878, 0.026625447649148218), (2879, 0.0), (2880, 0.0063475094924304015), (2881, 0.006670147348462451), (2882, 0.0), (2883, 0.0), (2884, 0.029157571690148463), (2885, 0.005521162854158114), (2886, 0.0), (2887, 0.00786839606342564), (2888, 0.014791398160425032), (2889, 0.0), (2890, 0.0), (2891, 0.0), (2892, 0.018814502732457935), (2893, 0.0), (2894, 0.0), (2895, 0.04657769902057302), (2896, 0.0), (2897, 0.0), (2898, 0.03723688904169026), (2899, 0.024821508820325612), (2900, 0.0), (2901, 0.0), (2902, 0.0), (2903, 0.028831984065217874), (2904, 0.0), (2905, 0.0), (2906, 0.0), (2907, 0.0), (2908, 0.004732766703394226), (2909, 0.0), (2910, 0.005762313132294607), (2911, 0.0), (2912, 0.0), (2913, 0.0048306433551038004), (2914, 0.0), (2915, 0.0), (2916, 0.0), (2917, 0.0), (2918, 0.021267679335070108), (2919, 0.016720698588263343), (2920, 0.007105065686755077), (2921, 0.0), (2922, 0.042380920615325265), (2923, 0.0), (2924, 0.0), (2925, 0.06415239031947174), (2926, 0.0), (2927, 0.05388518103799369), (2928, 0.0), (2929, 0.0), (2930, 0.0), (2931, 0.0), (2932, 0.042800255299527315), (2933, 0.0), (2934, 0.0), (2935, 0.005230563048164547), (2936, 0.018322364128752093), (2937, 0.01960777921620213), (2938, 0.023431153943670416), (2939, 0.0), (2940, 0.014594836815043293), (2941, 0.0), (2942, 0.0), (2943, 0.005868251619390069), (2944, 0.03536836764156706), (2945, 0.0), (2946, 0.0), (2947, 0.006036353632333908), (2948, 0.007669534938832909), (2949, 0.0), (2950, 0.032472039061163804), (2951, 0.0), (2952, 0.0), (2953, 0.0), (2954, 0.0), (2955, 0.03489374337189716), (2956, 0.026808135083635668), (2957, 0.0), (2958, 0.005486726109738099), (2959, 0.006199931845310681), (2960, 0.045046149542296354), (2961, 0.0), (2962, 0.005604391130106175), (2963, 0.027451176664850398), (2964, 0.0), (2965, 0.0), (2966, 0.0), (2967, 0.0), (2968, 0.0), (2969, 0.004884616308582473), (2970, 0.0), (2971, 0.005124439998461248), (2972, 0.0), (2973, 0.0), (2974, 0.0), (2975, 0.0), (2976, 0.021837580556266868), (2977, 0.0), (2978, 0.0), (2979, 0.0063984991850941815), (2980, 0.015874068759054373), (2981, 0.0524484294701579), (2982, 0.02334717361701595), (2983, 0.0), (2984, 0.0), (2985, 0.0), (2986, 0.0), (2987, 0.0), (2988, 0.0), (2989, 0.008206392591993177), (2990, 0.007928187730628413), (2991, 0.0), (2992, 0.023972173846270532), (2993, 0.0), (2994, 0.0), (2995, 0.019443391537620827), (2996, 0.0), (2997, 0.0), (2998, 0.020499467579743143), (2999, 0.024887220319737682), (3000, 0.0), (3001, 0.040671172596818246), (3002, 0.005951706070963302), (3003, 0.0), (3004, 0.0), (3005, 0.0), (3006, 0.0), (3007, 0.0), (3008, 0.018094747625910214), (3009, 0.022664040307456414), (3010, 0.03121578682266222), (3011, 0.0), (3012, 0.0), (3013, 0.0), (3014, 0.0), (3015, 0.0), (3016, 0.0), (3017, 0.0), (3018, 0.0), (3019, 0.0), (3020, 0.0), (3021, 0.019361884916129616), (3022, 0.030718364165859532), (3023, 0.0), (3024, 0.00487190638607615), (3025, 0.0), (3026, 0.061615924708793866), (3027, 0.0), (3028, 0.0), (3029, 0.016968594371227927), (3030, 0.0), (3031, 0.0), (3032, 0.0), (3033, 0.0), (3034, 0.0), (3035, 0.0), (3036, 0.015388445765723034), (3037, 0.0), (3038, 0.0), (3039, 0.0), (3040, 0.0), (3041, 0.0), (3042, 0.0), (3043, 0.0), (3044, 0.006419731081546035), (3045, 0.02180522770729988), (3046, 0.0), (3047, 0.03662830349579009), (3048, 0.03887718518275635), (3049, 0.0), (3050, 0.0), (3051, 0.029263783364895133), (3052, 0.0), (3053, 0.0), (3054, 0.03889741776313963), (3055, 0.0), (3056, 0.0), (3057, 0.0), (3058, 0.0076958486221007085), (3059, 0.028287312976960164), (3060, 0.02014747310142941), (3061, 0.0), (3062, 0.015138586287039827), (3063, 0.018142421021125718), (3064, 0.006408394794793522), (3065, 0.011598350243262117), (3066, 0.0), (3067, 0.0), (3068, 0.01822978137476059), (3069, 0.0), (3070, 0.005260876100760921), (3071, 0.0), (3072, 0.0), (3073, 0.0), (3074, 0.0), (3075, 0.0), (3076, 0.0), (3077, 0.0), (3078, 0.0), (3079, 0.018906992245010214), (3080, 0.022867012152531414), (3081, 0.0), (3082, 0.0), (3083, 0.0), (3084, 0.0), (3085, 0.005626238433707182), (3086, 0.0), (3087, 0.0), (3088, 0.0), (3089, 0.024925944507426367), (3090, 0.0), (3091, 0.006499766615506449), (3092, 0.0), (3093, 0.0), (3094, 0.07183999813194905), (3095, 0.0), (3096, 0.029099149731307346), (3097, 0.0064941204484648745), (3098, 0.0), (3099, 0.012145638705656409), (3100, 0.03191855082307159), (3101, 0.0), (3102, 0.0), (3103, 0.0), (3104, 0.0), (3105, 0.027005129438022225), (3106, 0.0), (3107, 0.0), (3108, 0.0), (3109, 0.0), (3110, 0.0), (3111, 0.0), (3112, 0.00633295538347758), (3113, 0.0), (3114, 0.031588771114794204), (3115, 0.00916836415220045), (3116, 0.0), (3117, 0.0), (3118, 0.0), (3119, 0.02218971287972998), (3120, 0.0), (3121, 0.00725211430880301), (3122, 0.0), (3123, 0.025023637655051216), (3124, 0.05533302106705075), (3125, 0.0), (3126, 0.005640104582391824), (3127, 0.0), (3128, 0.0), (3129, 0.011731635555732683), (3130, 0.005372808482046076), (3131, 0.03655754765476001), (3132, 0.036227823603357884), (3133, 0.05074780985473302), (3134, 0.035663825672302245), (3135, 0.012789319446942254), (3136, 0.012735510905462556), (3137, 0.0), (3138, 0.0), (3139, 0.0), (3140, 0.0), (3141, 0.02724654454376292), (3142, 0.0), (3143, 0.005469767095769952), (3144, 0.0), (3145, 0.0), (3146, 0.0), (3147, 0.0), (3148, 0.0), (3149, 0.0), (3150, 0.0), (3151, 0.0), (3152, 0.00605974817015858), (3153, 0.0), (3154, 0.0), (3155, 0.0), (3156, 0.013151665093039552), (3157, 0.0), (3158, 0.02299367241297113), (3159, 0.0), (3160, 0.0754361270355704), (3161, 0.02985892166726397), (3162, 0.026338161661490316), (3163, 0.014862400779571633), (3164, 0.0), (3165, 0.006764447471312714), (3166, 0.0), (3167, 0.0), (3168, 0.006631682091522906), (3169, 0.0060375986447695545), (3170, 0.0), (3171, 0.0), (3172, 0.015899727313743336), (3173, 0.0), (3174, 0.005873695130136831), (3175, 0.0), (3176, 0.0), (3177, 0.0), (3178, 0.0), (3179, 0.0), (3180, 0.022824064461997067), (3181, 0.028773156881303347), (3182, 0.0), (3183, 0.0), (3184, 0.0), (3185, 0.008936363794783192), (3186, 0.018352418302453655), (3187, 0.0), (3188, 0.0), (3189, 0.0), (3190, 0.0), (3191, 0.027183657454184537), (3192, 0.006506225583527637), (3193, 0.0320985813025232), (3194, 0.06924319369464284), (3195, 0.0), (3196, 0.0), (3197, 0.0), (3198, 0.0), (3199, 0.0), (3200, 0.0), (3201, 0.018286231514456196), (3202, 0.014846334253304101), (3203, 0.0), (3204, 0.0), (3205, 0.010157010771836172), (3206, 0.01652096252401289), (3207, 0.03955694406754241), (3208, 0.03447394372135627), (3209, 0.0), (3210, 0.005940590214827766), (3211, 0.0), (3212, 0.0), (3213, 0.030512763166667668), (3214, 0.0), (3215, 0.011419738044523987), (3216, 0.0), (3217, 0.0), (3218, 0.0), (3219, 0.0), (3220, 0.0), (3221, 0.006587069422648544), (3222, 0.0), (3223, 0.008945701900698568), (3224, 0.0), (3225, 0.027058175408331865), (3226, 0.0), (3227, 0.0059382246743970414), (3228, 0.024053699958051684), (3229, 0.0), (3230, 0.0), (3231, 0.025325138432801195), (3232, 0.01193868990067198), (3233, 0.04618398949184244), (3234, 0.04857194099144062), (3235, 0.0), (3236, 0.0), (3237, 0.015986759375290163), (3238, 0.05283752687379749), (3239, 0.0), (3240, 0.0), (3241, 0.023030076504674823), (3242, 0.0), (3243, 0.0), (3244, 0.023137878895605056), (3245, 0.0), (3246, 0.0155166702569274), (3247, 0.0238809940884044), (3248, 0.0), (3249, 0.0), (3250, 0.0), (3251, 0.0), (3252, 0.0), (3253, 0.006697337642100061), (3254, 0.0), (3255, 0.02061854219310188), (3256, 0.018867682501326487), (3257, 0.0), (3258, 0.0), (3259, 0.006211087853547031), (3260, 0.0), (3261, 0.0), (3262, 0.0), (3263, 0.006416009921316199), (3264, 0.0), (3265, 0.0), (3266, 0.02239010242664728), (3267, 0.005343908771694639), (3268, 0.0), (3269, 0.026369497267047584), (3270, 0.02623303605133459), (3271, 0.07926641294484613), (3272, 0.007903445373923087), (3273, 0.0), (3274, 0.0), (3275, 0.006883533725421362), (3276, 0.020612522574480624), (3277, 0.0), (3278, 0.014717416757559389), (3279, 0.0), (3280, 0.0), (3281, 0.0), (3282, 0.0), (3283, 0.025494038359997088), (3284, 0.0), (3285, 0.0), (3286, 0.007539287871975658), (3287, 0.00802778286689565), (3288, 0.01939293123030263), (3289, 0.0), (3290, 0.0), (3291, 0.0), (3292, 0.0), (3293, 0.0), (3294, 0.037203056573930166), (3295, 0.0), (3296, 0.0), (3297, 0.006257934729511383), (3298, 0.019817285085686257), (3299, 0.0), (3300, 0.03417695073146035), (3301, 0.01267477255260134), (3302, 0.0), (3303, 0.0), (3304, 0.0), (3305, 0.02161850607493607), (3306, 0.02023807914867494), (3307, 0.0), (3308, 0.0), (3309, 0.0), (3310, 0.00614391079474281), (3311, 0.005327470162834569), (3312, 0.006840436485423424), (3313, 0.0), (3314, 0.0), (3315, 0.0), (3316, 0.0), (3317, 0.0), (3318, 0.0), (3319, 0.0), (3320, 0.05670440766846746), (3321, 0.0231583403397502), (3322, 0.0), (3323, 0.15365720538574879), (3324, 0.0), (3325, 0.0), (3326, 0.0), (3327, 0.00696531044778204), (3328, 0.008975135509644658), (3329, 0.0), (3330, 0.01975305233754304), (3331, 0.017101369299240096), (3332, 0.02672092662152776), (3333, 0.0), (3334, 0.05222370421175352), (3335, 0.0), (3336, 0.0053009389532689966), (3337, 0.0), (3338, 0.0), (3339, 0.005068327951165161), (3340, 0.005838040211640097), (3341, 0.0), (3342, 0.014421669995415609), (3343, 0.005883461441510152), (3344, 0.0), (3345, 0.0), (3346, 0.032935781093218985), (3347, 0.0), (3348, 0.0), (3349, 0.0), (3350, 0.0), (3351, 0.0833914862250239), (3352, 0.0), (3353, 0.0), (3354, 0.0), (3355, 0.0351020340639745), (3356, 0.0), (3357, 0.0), (3358, 0.0), (3359, 0.0), (3360, 0.013795622499163433), (3361, 0.03234619433893962), (3362, 0.0), (3363, 0.024719388202237402), (3364, 0.0), (3365, 0.0041532399451073634), (3366, 0.007499694866538933), (3367, 0.03422388964287213), (3368, 0.02577942904481425), (3369, 0.0), (3370, 0.0), (3371, 0.0), (3372, 0.0), (3373, 0.006628662954953511), (3374, 0.00584478410057927), (3375, 0.0), (3376, 0.0), (3377, 0.0090868704981098), (3378, 0.0), (3379, 0.0), (3380, 0.0), (3381, 0.0), (3382, 0.0), (3383, 0.006668651552318099), (3384, 0.025880207949655735), (3385, 0.022993095994931805), (3386, 0.0), (3387, 0.008575231529822862), (3388, 0.0), (3389, 0.01886808773925617), (3390, 0.0), (3391, 0.0), (3392, 0.0), (3393, 0.03095877650210961), (3394, 0.006772216403685199), (3395, 0.0071336625525648244), (3396, 0.0), (3397, 0.006968993391323851), (3398, 0.0), (3399, 0.0), (3400, 0.0), (3401, 0.0), (3402, 0.0), (3403, 0.0), (3404, 0.01389275813184431), (3405, 0.029042448182843378), (3406, 0.0), (3407, 0.0), (3408, 0.02372440337351533), (3409, 0.0), (3410, 0.013024785858381287), (3411, 0.0), (3412, 0.02975704832582958), (3413, 0.019440985542590796), (3414, 0.0), (3415, 0.0), (3416, 0.005883906724928687), (3417, 0.01782668842501829), (3418, 0.0), (3419, 0.015758114431051226), (3420, 0.0), (3421, 0.0), (3422, 0.0), (3423, 0.0), (3424, 0.006452595880032506), (3425, 0.0), (3426, 0.007223705454404956), (3427, 0.10793723822353399), (3428, 0.0), (3429, 0.02102160819983161), (3430, 0.02996217952041922), (3431, 0.0), (3432, 0.00584627640181924), (3433, 0.0), (3434, 0.03245976692464971), (3435, 0.0), (3436, 0.0), (3437, 0.02074950832597864), (3438, 0.031856613111908225), (3439, 0.010072123426732804), (3440, 0.006842778418748651), (3441, 0.005841046129655737), (3442, 0.0), (3443, 0.005808998333771928), (3444, 0.00855981010774739), (3445, 0.026330307639740022), (3446, 0.0), (3447, 0.015816029915524325), (3448, 0.016564594876553113), (3449, 0.0), (3450, 0.006839958897873406), (3451, 0.006312488410521493), (3452, 0.019130104742245486), (3453, 0.0779191446161612), (3454, 0.029189834402251588), (3455, 0.0), (3456, 0.0), (3457, 0.0), (3458, 0.011088915819597634), (3459, 0.0233616082510245), (3460, 0.0), (3461, 0.008277428845126427), (3462, 0.0), (3463, 0.03524858813868642), (3464, 0.0330109063193835), (3465, 0.005594004665238219), (3466, 0.005544344835203722), (3467, 0.034606931546501345), (3468, 0.02845760021975528), (3469, 0.08241302478718501), (3470, 0.0), (3471, 0.0), (3472, 0.0074612975612782404), (3473, 0.0), (3474, 0.0), (3475, 0.0), (3476, 0.0), (3477, 0.0), (3478, 0.0), (3479, 0.0), (3480, 0.02523228810794933), (3481, 0.0), (3482, 0.007812960983014516), (3483, 0.0), (3484, 0.017061101077844365), (3485, 0.0), (3486, 0.0139419736681734), (3487, 0.023438259007987017), (3488, 0.0), (3489, 0.0), (3490, 0.0), (3491, 0.0), (3492, 0.007755862495638028), (3493, 0.06426206347054425), (3494, 0.0), (3495, 0.0), (3496, 0.0), (3497, 0.0), (3498, 0.0), (3499, 0.0), (3500, 0.0), (3501, 0.0), (3502, 0.024831459424466157), (3503, 0.0), (3504, 0.0), (3505, 0.0), (3506, 0.04151614515630682), (3507, 0.0061052396254724), (3508, 0.0), (3509, 0.0), (3510, 0.0), (3511, 0.0), (3512, 0.0248193932310363), (3513, 0.02766491955406896), (3514, 0.006148353002831359), (3515, 0.04880851437629474), (3516, 0.028716981094234238), (3517, 0.0), (3518, 0.0), (3519, 0.0), (3520, 0.04427206350902678), (3521, 0.03003204752644605), (3522, 0.006027571877719864), (3523, 0.0), (3524, 0.0), (3525, 0.00512011832328135), (3526, 0.010497583618373997), (3527, 0.0), (3528, 0.05748232116305065), (3529, 0.0), (3530, 0.0), (3531, 0.005712310723971118), (3532, 0.039341896713006884), (3533, 0.0), (3534, 0.0), (3535, 0.019166027423081957), (3536, 0.0), (3537, 0.0), (3538, 0.0), (3539, 0.0), (3540, 0.0), (3541, 0.0), (3542, 0.020990219577560483), (3543, 0.0), (3544, 0.0), (3545, 0.0), (3546, 0.005793596981939013), (3547, 0.0), (3548, 0.0), (3549, 0.0), (3550, 0.022644233136171227), (3551, 0.0), (3552, 0.0), (3553, 0.0), (3554, 0.00712928056388601), (3555, 0.013234215788179455), (3556, 0.005265911387500666), (3557, 0.0), (3558, 0.0), (3559, 0.01719555636863285), (3560, 0.03352862779306849), (3561, 0.0), (3562, 0.0), (3563, 0.0), (3564, 0.0), (3565, 0.0), (3566, 0.02249810555997679), (3567, 0.007439981104310876), (3568, 0.01309547263514501), (3569, 0.05387203927027909), (3570, 0.0), (3571, 0.0), (3572, 0.0), (3573, 0.0), (3574, 0.011928072498731205), (3575, 0.0), (3576, 0.020836225376921768), (3577, 0.0), (3578, 0.040032302880373793), (3579, 0.0), (3580, 0.0), (3581, 0.0), (3582, 0.013154385972772355), (3583, 0.0), (3584, 0.0), (3585, 0.0), (3586, 0.014695293279762715), (3587, 0.008747511253374219), (3588, 0.007235996098324062), (3589, 0.0), (3590, 0.0), (3591, 0.006146721797660905), (3592, 0.0), (3593, 0.0065743627549471875), (3594, 0.020434258332288808), (3595, 0.025263176009505603), (3596, 0.0), (3597, 0.03982480700605631), (3598, 0.0068741357235448065), (3599, 0.0), (3600, 0.012312860284818872), (3601, 0.0), (3602, 0.005790833227772938), (3603, 0.006001818180993504), (3604, 0.006468670806138196), (3605, 0.02524226466838626), (3606, 0.02020907761795711), (3607, 0.0), (3608, 0.0), (3609, 0.0055377626877552745), (3610, 0.0), (3611, 0.0), (3612, 0.0), (3613, 0.0), (3614, 0.0), (3615, 0.0), (3616, 0.03112475010534273), (3617, 0.0), (3618, 0.017156650439260908), (3619, 0.0), (3620, 0.0), (3621, 0.0), (3622, 0.0), (3623, 0.027238698047984573), (3624, 0.0), (3625, 0.019970614705472543), (3626, 0.0), (3627, 0.0), (3628, 0.014932029032367674), (3629, 0.013338093317869497), (3630, 0.018487854861580787), (3631, 0.0), (3632, 0.020259346819984873), (3633, 0.0), (3634, 0.01734558486104638), (3635, 0.018461449701100453), (3636, 0.0), (3637, 0.0051504020875775035), (3638, 0.00968171288532692), (3639, 0.0), (3640, 0.0), (3641, 0.027312930958651713), (3642, 0.006386423403302063), (3643, 0.0), (3644, 0.0), (3645, 0.019378723953415215), (3646, 0.0), (3647, 0.0), (3648, 0.0), (3649, 0.0), (3650, 0.0), (3651, 0.01851582160101868), (3652, 0.0), (3653, 0.0202044059852323), (3654, 0.0), (3655, 0.017249291559548498), (3656, 0.0), (3657, 0.011523111377065243), (3658, 0.00494892124963441), (3659, 0.0), (3660, 0.005679370636688034), (3661, 0.028806807198815565), (3662, 0.0), (3663, 0.0), (3664, 0.024058340513081557), (3665, 0.0), (3666, 0.0), (3667, 0.0), (3668, 0.00498492667576368), (3669, 0.0), (3670, 0.0), (3671, 0.0), (3672, 0.0), (3673, 0.0), (3674, 0.0), (3675, 0.029835822684693265), (3676, 0.005951573405851419), (3677, 0.0), (3678, 0.0), (3679, 0.0), (3680, 0.006659781748345357), (3681, 0.0), (3682, 0.0), (3683, 0.0), (3684, 0.005111184613053674), (3685, 0.027744483720925705), (3686, 0.0), (3687, 0.0), (3688, 0.022731873067635338), (3689, 0.0), (3690, 0.034920196343109125), (3691, 0.0), (3692, 0.028430118463677302), (3693, 0.0291545631487655), (3694, 0.0), (3695, 0.00849379235730264), (3696, 0.0), (3697, 0.015043093315183447), (3698, 0.0711228180267941), (3699, 0.0), (3700, 0.012970110271346872), (3701, 0.0), (3702, 0.0), (3703, 0.008790569916556636), (3704, 0.0), (3705, 0.0), (3706, 0.00574765520394656), (3707, 0.005994089491178056), (3708, 0.0067999461484467335), (3709, 0.02756453522412456), (3710, 0.03217732951053698), (3711, 0.0), (3712, 0.0), (3713, 0.0), (3714, 0.022423909514657527), (3715, 0.007599622109477663), (3716, 0.0), (3717, 0.0), (3718, 0.026224089803723396), (3719, 0.0), (3720, 0.025481217442513405), (3721, 0.0), (3722, 0.0), (3723, 0.00555806512018519), (3724, 0.027997668785958676), (3725, 0.0), (3726, 0.034525081611542545), (3727, 0.0), (3728, 0.0), (3729, 0.0), (3730, 0.0), (3731, 0.0), (3732, 0.0), (3733, 0.0), (3734, 0.024904251988925902), (3735, 0.008593005901214734), (3736, 0.0), (3737, 0.0), (3738, 0.005386868719129511), (3739, 0.02003845751804524), (3740, 0.0), (3741, 0.02986456976552344), (3742, 0.017852157144269104), (3743, 0.06692588202206975), (3744, 0.04158560004870149), (3745, 0.0), (3746, 0.0), (3747, 0.03609001573676414), (3748, 0.0), (3749, 0.0), (3750, 0.0), (3751, 0.05164460369066627), (3752, 0.0), (3753, 0.0), (3754, 0.0), (3755, 0.0), (3756, 0.0), (3757, 0.0), (3758, 0.019358360310995533), (3759, 0.04121229384977963), (3760, 0.0), (3761, 0.0), (3762, 0.0), (3763, 0.0), (3764, 0.0), (3765, 0.0), (3766, 0.0), (3767, 0.0), (3768, 0.0), (3769, 0.0), (3770, 0.0), (3771, 0.006378976039692254), (3772, 0.0), (3773, 0.03342016803374014), (3774, 0.0), (3775, 0.0), (3776, 0.005043931129638499), (3777, 0.03804304577165066), (3778, 0.0), (3779, 0.0), (3780, 0.0), (3781, 0.03856839520478133), (3782, 0.0146263581799366), (3783, 0.03222803998691777), (3784, 0.0), (3785, 0.0068633524616355185), (3786, 0.013101703250834481), (3787, 0.03740906008497013), (3788, 0.0), (3789, 0.0), (3790, 0.0), (3791, 0.0), (3792, 0.0), (3793, 0.0), (3794, 0.005578210646532644), (3795, 0.012214633250215984), (3796, 0.0), (3797, 0.022702136859986233), (3798, 0.03544374282137654), (3799, 0.0), (3800, 0.0), (3801, 0.0), (3802, 0.028912663455931437), (3803, 0.0067941757923112925), (3804, 0.0), (3805, 0.007742834094741939), (3806, 0.0), (3807, 0.005858538575012268), (3808, 0.0), (3809, 0.0), (3810, 0.0), (3811, 0.022981078461975824), (3812, 0.0), (3813, 0.0), (3814, 0.0057928162931215835), (3815, 0.0), (3816, 0.0), (3817, 0.017276628995166368), (3818, 0.0), (3819, 0.0), (3820, 0.0), (3821, 0.0), (3822, 0.0), (3823, 0.0), (3824, 0.0), (3825, 0.058044576477708644), (3826, 0.007465476985060294), (3827, 0.0), (3828, 0.0), (3829, 0.0), (3830, 0.0), (3831, 0.0), (3832, 0.0), (3833, 0.0), (3834, 0.036560796088679945), (3835, 0.0), (3836, 0.0), (3837, 0.1054718558910184), (3838, 0.0), (3839, 0.023086087739842352), (3840, 0.03502886310999528), (3841, 0.0), (3842, 0.0), (3843, 0.0), (3844, 0.0), (3845, 0.03793384241688775), (3846, 0.014551291634359314), (3847, 0.0), (3848, 0.0), (3849, 0.014182518772515845), (3850, 0.028218304072316944), (3851, 0.0), (3852, 0.0), (3853, 0.0), (3854, 0.0), (3855, 0.0), (3856, 0.0), (3857, 0.0), (3858, 0.0), (3859, 0.0), (3860, 0.0053397704676337795), (3861, 0.0), (3862, 0.006150880580453146), (3863, 0.0), (3864, 0.0), (3865, 0.02924652309061012), (3866, 0.0), (3867, 0.0), (3868, 0.0), (3869, 0.03745762113957425), (3870, 0.014275329747871272), (3871, 0.008104986858797148), (3872, 0.0), (3873, 0.021936652502874195), (3874, 0.0), (3875, 0.0), (3876, 0.0), (3877, 0.008645961463617948), (3878, 0.0), (3879, 0.0), (3880, 0.0), (3881, 0.05819305555263773), (3882, 0.0), (3883, 0.0), (3884, 0.0), (3885, 0.0), (3886, 0.06454844558083739), (3887, 0.0), (3888, 0.020298837201036875), (3889, 0.022249173977790592), (3890, 0.0), (3891, 0.0), (3892, 0.0), (3893, 0.0), (3894, 0.014195227045531496), (3895, 0.0), (3896, 0.0), (3897, 0.021751288701818337), (3898, 0.0), (3899, 0.0), (3900, 0.019727351593654727), (3901, 0.0), (3902, 0.0), (3903, 0.00889464474877606), (3904, 0.0), (3905, 0.0), (3906, 0.0), (3907, 0.03545134505013398), (3908, 0.026752157396225256), (3909, 0.0), (3910, 0.0), (3911, 0.0), (3912, 0.0), (3913, 0.0), (3914, 0.0), (3915, 0.0), (3916, 0.0), (3917, 0.013135266468970036), (3918, 0.0), (3919, 0.021445912204903227), (3920, 0.0), (3921, 0.0), (3922, 0.0), (3923, 0.031396976538899606), (3924, 0.0), (3925, 0.02409201396169644), (3926, 0.0), (3927, 0.0), (3928, 0.0), (3929, 0.0), (3930, 0.0), (3931, 0.0), (3932, 0.0), (3933, 0.0), (3934, 0.0), (3935, 0.0), (3936, 0.0), (3937, 0.03372345752345831), (3938, 0.0), (3939, 0.0), (3940, 0.0), (3941, 0.01516770058537278), (3942, 0.0), (3943, 0.0), (3944, 0.0), (3945, 0.0), (3946, 0.004567183003869027), (3947, 0.006805842880392092), (3948, 0.0), (3949, 0.0), (3950, 0.0), (3951, 0.0), (3952, 0.0), (3953, 0.038110104428789295), (3954, 0.0), (3955, 0.026350156576452205), (3956, 0.0), (3957, 0.0169097180292612), (3958, 0.0050505151625980255), (3959, 0.0), (3960, 0.0), (3961, 0.0), (3962, 0.0), (3963, 0.013552622653019722), (3964, 0.0), (3965, 0.03263394028066013), (3966, 0.019133342892117572), (3967, 0.0), (3968, 0.056697153180354926), (3969, 0.026534569937830745), (3970, 0.0), (3971, 0.0), (3972, 0.03913745741094353), (3973, 0.017232848438659316), (3974, 0.0), (3975, 0.0), (3976, 0.0), (3977, 0.03690487705137647), (3978, 0.005617449583947925), (3979, 0.014497392209553928), (3980, 0.010954285331265964), (3981, 0.0), (3982, 0.03416157567418605), (3983, 0.0), (3984, 0.0), (3985, 0.0), (3986, 0.0), (3987, 0.02690171005114254), (3988, 0.0), (3989, 0.020348071977201728), (3990, 0.0), (3991, 0.10655106663148887), (3992, 0.0), (3993, 0.005441406468574094), (3994, 0.019936575666214113), (3995, 0.0), (3996, 0.0), (3997, 0.028110278920687907), (3998, 0.02543846568181753), (3999, 0.0), (4000, 0.0), (4001, 0.005899332830721641), (4002, 0.0), (4003, 0.0), (4004, 0.024722236363410102), (4005, 0.006293022259604119), (4006, 0.0), (4007, 0.0), (4008, 0.0), (4009, 0.007175126746430086), (4010, 0.041534691436644955), (4011, 0.015200844638000928), (4012, 0.005558357080500138), (4013, 0.0), (4014, 0.02075737916455241), (4015, 0.021781361656268435), (4016, 0.007744038274891983), (4017, 0.0), (4018, 0.022538331556030265), (4019, 0.0), (4020, 0.005777786741188242), (4021, 0.0), (4022, 0.03447210332133138), (4023, 0.0), (4024, 0.01747893194126665), (4025, 0.0), (4026, 0.0), (4027, 0.026429371792142553), (4028, 0.0), (4029, 0.0), (4030, 0.0), (4031, 0.009077643984794815), (4032, 0.11232821538251621), (4033, 0.006213161568896876), (4034, 0.008615105556035146), (4035, 0.06952299823178401), (4036, 0.0075875121839219), (4037, 0.0055791575411764886), (4038, 0.023600179636379795), (4039, 0.005741066645779142), (4040, 0.0), (4041, 0.03456123102210932), (4042, 0.0), (4043, 0.02717164795363072), (4044, 0.005343710474558937), (4045, 0.006221940148231235), (4046, 0.02894671777581576), (4047, 0.020457796020792673), (4048, 0.0), (4049, 0.0), (4050, 0.0), (4051, 0.0), (4052, 0.0), (4053, 0.0), (4054, 0.03891594431120698), (4055, 0.026914978643351843), (4056, 0.013581050546675758), (4057, 0.0), (4058, 0.0), (4059, 0.0), (4060, 0.0), (4061, 0.10515025148727794), (4062, 0.0), (4063, 0.01893294330637739), (4064, 0.02704301514280219), (4065, 0.0), (4066, 0.0), (4067, 0.0), (4068, 0.005983219022909715), (4069, 0.0), (4070, 0.03417643221554939), (4071, 0.018753738156360326), (4072, 0.0), (4073, 0.0), (4074, 0.006988330681886546), (4075, 0.0), (4076, 0.030467055999402692), (4077, 0.03765074475390055), (4078, 0.0), (4079, 0.0), (4080, 0.01451256795204293), (4081, 0.0), (4082, 0.0), (4083, 0.0), (4084, 0.0), (4085, 0.05843646552313728), (4086, 0.08778766181718485), (4087, 0.02230164180492146), (4088, 0.006035464260181567), (4089, 0.0), (4090, 0.02135791857266938), (4091, 0.3196774484708393), (4092, 0.0), (4093, 0.006024428764491095), (4094, 0.012623407534960515), (4095, 0.004998096866751564), (4096, 0.0), (4097, 0.0), (4098, 0.0060369151296410664), (4099, 0.013651229479137508), (4100, 0.02758227278339477), (4101, 0.0), (4102, 0.0), (4103, 0.01372872703289908), (4104, 0.05442195328520513), (4105, 0.0), (4106, 0.027316223793540307), (4107, 0.0), (4108, 0.0), (4109, 0.0), (4110, 0.0), (4111, 0.0), (4112, 0.013328399108227166), (4113, 0.0), (4114, 0.005111352012140595), (4115, 0.0), (4116, 0.006420803872822362), (4117, 0.0), (4118, 0.008374048442633838), (4119, 0.006545769401129582), (4120, 0.0), (4121, 0.006698432048680614), (4122, 0.007314233613401725), (4123, 0.0), (4124, 0.0), (4125, 0.08298719249617717), (4126, 0.0), (4127, 0.0), (4128, 0.03404536369059821), (4129, 0.0), (4130, 0.014924649651970993), (4131, 0.006302428448221944), (4132, 0.0), (4133, 0.0), (4134, 0.0), (4135, 0.06148241392171916), (4136, 0.016861211981983062), (4137, 0.0), (4138, 0.0), (4139, 0.01981072941477472), (4140, 0.0), (4141, 0.0), (4142, 0.017457757462520585), (4143, 0.005293955995851806), (4144, 0.0065292995471350835), (4145, 0.0), (4146, 0.031240600943295206), (4147, 0.0), (4148, 0.005866373058482371), (4149, 0.0), (4150, 0.0), (4151, 0.0), (4152, 0.02698210197812117), (4153, 0.031138599005118003), (4154, 0.018537895069634575), (4155, 0.0), (4156, 0.0), (4157, 0.01942311809777896), (4158, 0.017018509120840505), (4159, 0.0), (4160, 0.008706499527752145), (4161, 0.0), (4162, 0.0), (4163, 0.0), (4164, 0.0), (4165, 0.0189188726871823), (4166, 0.0), (4167, 0.026849451929703724), (4168, 0.028923747110791112), (4169, 0.0), (4170, 0.0), (4171, 0.0), (4172, 0.0), (4173, 0.0), (4174, 0.0), (4175, 0.0), (4176, 0.0), (4177, 0.0), (4178, 0.0), (4179, 0.0), (4180, 0.0), (4181, 0.037664864448197166), (4182, 0.0), (4183, 0.0), (4184, 0.0), (4185, 0.006604352586862767), (4186, 0.005391144963430381), (4187, 0.0), (4188, 0.013567405353929066), (4189, 0.0), (4190, 0.0), (4191, 0.0), (4192, 0.0), (4193, 0.012417931731481794), (4194, 0.009511181875500034), (4195, 0.0077606989059577376), (4196, 0.01691083237792989), (4197, 0.0), (4198, 0.0), (4199, 0.01693974080225557), (4200, 0.0), (4201, 0.0), (4202, 0.008235088714642595), (4203, 0.0), (4204, 0.0), (4205, 0.0), (4206, 0.0), (4207, 0.0), (4208, 0.0), (4209, 0.0), (4210, 0.013850170084206123), (4211, 0.013403938987119633), (4212, 0.0), (4213, 0.0), (4214, 0.0), (4215, 0.0), (4216, 0.0), (4217, 0.0), (4218, 0.007595829599203675), (4219, 0.0), (4220, 0.0), (4221, 0.007874147705935893), (4222, 0.0), (4223, 0.0), (4224, 0.013354190152222337), (4225, 0.0), (4226, 0.0), (4227, 0.0), (4228, 0.0), (4229, 0.0), (4230, 0.0), (4231, 0.0), (4232, 0.0), (4233, 0.0062378228702652805), (4234, 0.0), (4235, 0.0), (4236, 0.030958724714872633), (4237, 0.0), (4238, 0.03987373726185985), (4239, 0.0), (4240, 0.0447913701473122), (4241, 0.005824592576446414), (4242, 0.0), (4243, 0.0), (4244, 0.006747033809437447), (4245, 0.0), (4246, 0.030650262178673074), (4247, 0.0), (4248, 0.005854541851756816), (4249, 0.006076651164316327), (4250, 0.021379676977295727), (4251, 0.01659422277238004), (4252, 0.0), (4253, 0.0), (4254, 0.0), (4255, 0.0059702334671662294), (4256, 0.0), (4257, 0.0), (4258, 0.0), (4259, 0.0), (4260, 0.03804593681260513), (4261, 0.019590210316887083), (4262, 0.0), (4263, 0.0), (4264, 0.026020431977284653), (4265, 0.0), (4266, 0.02070136448571285), (4267, 0.0), (4268, 0.0), (4269, 0.008329452390513513), (4270, 0.014488795498867906), (4271, 0.0), (4272, 0.012954180382927718), (4273, 0.0), (4274, 0.005400273502180967), (4275, 0.0), (4276, 0.030584276003869003), (4277, 0.0), (4278, 0.0), (4279, 0.0), (4280, 0.0), (4281, 0.0), (4282, 0.0), (4283, 0.013918976353775855), (4284, 0.0), (4285, 0.030986459252000192), (4286, 0.0), (4287, 0.01672186721387976), (4288, 0.007900500137645188), (4289, 0.014533461416680759), (4290, 0.017889086165625456), (4291, 0.02522274031858756), (4292, 0.007316416563089579), (4293, 0.00657187248346241), (4294, 0.013985219339183275), (4295, 0.0), (4296, 0.0), (4297, 0.0), (4298, 0.0), (4299, 0.0), (4300, 0.027801597484862623), (4301, 0.0), (4302, 0.025783923954443195), (4303, 0.007456863863476852), (4304, 0.0), (4305, 0.0), (4306, 0.0), (4307, 0.0), (4308, 0.0), (4309, 0.0), (4310, 0.046499798818620874), (4311, 0.0), (4312, 0.028368854788885275), (4313, 0.0), (4314, 0.0), (4315, 0.0), (4316, 0.0), (4317, 0.0), (4318, 0.0), (4319, 0.0), (4320, 0.0), (4321, 0.0), (4322, 0.0), (4323, 0.008179477819232287), (4324, 0.0), (4325, 0.005462633758480324), (4326, 0.0), (4327, 0.0), (4328, 0.06285859848106663), (4329, 0.0), (4330, 0.0), (4331, 0.0), (4332, 0.0), (4333, 0.0), (4334, 0.047309278257083115), (4335, 0.0), (4336, 0.0), (4337, 0.01797177015328438), (4338, 0.025445248365303416), (4339, 0.018740023627671805), (4340, 0.020499507158337482), (4341, 0.009211458715692851), (4342, 0.0), (4343, 0.0), (4344, 0.017536791937176582), (4345, 0.005586374910035972), (4346, 0.02380115128552891), (4347, 0.008309752559166333), (4348, 0.0), (4349, 0.0), (4350, 0.0), (4351, 0.00832760960375536), (4352, 0.0238201008648123), (4353, 0.0051145356240455625), (4354, 0.008123455163046606), (4355, 0.0), (4356, 0.0), (4357, 0.0), (4358, 0.0), (4359, 0.0), (4360, 0.019926292161195198), (4361, 0.0), (4362, 0.0), (4363, 0.0), (4364, 0.028307584248501765), (4365, 0.01806998036285534), (4366, 0.0), (4367, 0.0), (4368, 0.0), (4369, 0.0), (4370, 0.08533535519016408), (4371, 0.0), (4372, 0.0), (4373, 0.01987717051873332), (4374, 0.0), (4375, 0.0), (4376, 0.006038121138094979), (4377, 0.0), (4378, 0.0), (4379, 0.006101997647801628), (4380, 0.0), (4381, 0.0), (4382, 0.0), (4383, 0.020586960404445246), (4384, 0.006237889987595255), (4385, 0.0), (4386, 0.0), (4387, 0.0), (4388, 0.0), (4389, 0.0), (4390, 0.00612001004654183), (4391, 0.04536867453521716), (4392, 0.006201546165387071), (4393, 0.0066437750513992895), (4394, 0.0), (4395, 0.0), (4396, 0.0), (4397, 0.0), (4398, 0.0), (4399, 0.0), (4400, 0.0), (4401, 0.05981731151866662), (4402, 0.0), (4403, 0.0), (4404, 0.0), (4405, 0.02176754322965705), (4406, 0.021699888256974022), (4407, 0.0), (4408, 0.0), (4409, 0.0), (4410, 0.00619790252388411), (4411, 0.0), (4412, 0.0), (4413, 0.0), (4414, 0.0), (4415, 0.0), (4416, 0.0), (4417, 0.0), (4418, 0.010198769344705039), (4419, 0.014235182759790606), (4420, 0.0), (4421, 0.0), (4422, 0.0), (4423, 0.0), (4424, 0.0), (4425, 0.0), (4426, 0.0), (4427, 0.0), (4428, 0.0073736655815185926), (4429, 0.005113541219542989), (4430, 0.006166174173274955), (4431, 0.0), (4432, 0.06286256086181109), (4433, 0.0), (4434, 0.0), (4435, 0.005917514893798383), (4436, 0.006350651257025179), (4437, 0.0), (4438, 0.0), (4439, 0.012549998750468685), (4440, 0.007531743399795068), (4441, 0.0), (4442, 0.0), (4443, 0.007214667459567711), (4444, 0.007714813859739631), (4445, 0.0044212427900901284), (4446, 0.0), (4447, 0.023325373115173572), (4448, 0.0), (4449, 0.0), (4450, 0.0052206996451932795), (4451, 0.0), (4452, 0.0), (4453, 0.02948194083092539), (4454, 0.008958823703463674), (4455, 0.009344911595662189), (4456, 0.014062340383415473), (4457, 0.007736794987534881), (4458, 0.0), (4459, 0.0), (4460, 0.0), (4461, 0.0), (4462, 0.006655480639941449), (4463, 0.0), (4464, 0.0), (4465, 0.0), (4466, 0.029448447599838605), (4467, 0.02921260230144189), (4468, 0.01791228799006305), (4469, 0.020223018894388257), (4470, 0.0), (4471, 0.0), (4472, 0.01983116898523379), (4473, 0.0), (4474, 0.0), (4475, 0.0), (4476, 0.013850149826960027), (4477, 0.006880524823753557), (4478, 0.02949294225435959), (4479, 0.0), (4480, 0.0), (4481, 0.005627023337917599), (4482, 0.07002172723380813), (4483, 0.0), (4484, 0.021580147650711607), (4485, 0.0), (4486, 0.022881219671466137), (4487, 0.020211916051581666), (4488, 0.0), (4489, 0.0), (4490, 0.03131399062447648), (4491, 0.014857592521127522), (4492, 0.008341851324710943), (4493, 0.03700587957453278), (4494, 0.0), (4495, 0.02123002955662006), (4496, 0.0), (4497, 0.0), (4498, 0.0), (4499, 0.0), (4500, 0.0), (4501, 0.007845485840170108), (4502, 0.0), (4503, 0.005939648972922995), (4504, 0.0), (4505, 0.0), (4506, 0.0), (4507, 0.0), (4508, 0.0), (4509, 0.013516390295812163), (4510, 0.0), (4511, 0.0), (4512, 0.0), (4513, 0.0), (4514, 0.0294864163427082), (4515, 0.0), (4516, 0.008904605044781752), (4517, 0.0), (4518, 0.0), (4519, 0.006229900131334731), (4520, 0.0), (4521, 0.0), (4522, 0.0), (4523, 0.02638894679634597), (4524, 0.0), (4525, 0.0), (4526, 0.008857097082033003), (4527, 0.0), (4528, 0.0), (4529, 0.10402309466725489), (4530, 0.0), (4531, 0.0), (4532, 0.0), (4533, 0.007947479771832829), (4534, 0.005728002326497702), (4535, 0.05992444278977849), (4536, 0.0), (4537, 0.0), (4538, 0.0), (4539, 0.0), (4540, 0.0), (4541, 0.0), (4542, 0.0), (4543, 0.005672701379990564), (4544, 0.0), (4545, 0.0), (4546, 0.026518169175064537), (4547, 0.02366666951180122), (4548, 0.0), (4549, 0.006533333756548688), (4550, 0.013237540329187517), (4551, 0.0), (4552, 0.0), (4553, 0.0051497033848883576), (4554, 0.0), (4555, 0.0), (4556, 0.0), (4557, 0.014484451191303913), (4558, 0.031865533400376816), (4559, 0.016801046235484163), (4560, 0.0), (4561, 0.0), (4562, 0.0), (4563, 0.0), (4564, 0.013147709081660377), (4565, 0.0), (4566, 0.0), (4567, 0.0), (4568, 0.005504781261280893), (4569, 0.007289552636452789), (4570, 0.028630991678710586), (4571, 0.0), (4572, 0.0), (4573, 0.005709296416299758), (4574, 0.0), (4575, 0.0), (4576, 0.06102923238360168), (4577, 0.0), (4578, 0.0), (4579, 0.0), (4580, 0.0), (4581, 0.03448841523285181), (4582, 0.0), (4583, 0.0), (4584, 0.02969463080615269), (4585, 0.018546417080748532), (4586, 0.006132588829994486), (4587, 0.0), (4588, 0.027388946286640396), (4589, 0.01598241955891761), (4590, 0.0052736341853347616), (4591, 0.005477478765407513), (4592, 0.0), (4593, 0.0), (4594, 0.0), (4595, 0.0), (4596, 0.0), (4597, 0.006823717074949193), (4598, 0.0), (4599, 0.0), (4600, 0.00538964794052694), (4601, 0.0), (4602, 0.0), (4603, 0.0), (4604, 0.0), (4605, 0.06819913175559301), (4606, 0.007455988618915178), (4607, 0.0), (4608, 0.005226295006880464), (4609, 0.058490992690457044), (4610, 0.021006148341867054), (4611, 0.0), (4612, 0.02014969331472916), (4613, 0.043179676692692195), (4614, 0.0), (4615, 0.0), (4616, 0.0), (4617, 0.0), (4618, 0.0), (4619, 0.00649799888497858), (4620, 0.0), (4621, 0.0), (4622, 0.021776629968716515), (4623, 0.0), (4624, 0.0), (4625, 0.0), (4626, 0.02762627977381653), (4627, 0.0), (4628, 0.0), (4629, 0.006143786189540717), (4630, 0.006604571439589998), (4631, 0.007151876965621159), (4632, 0.0), (4633, 0.0), (4634, 0.0), (4635, 0.0), (4636, 0.0), (4637, 0.0), (4638, 0.01871409428677957), (4639, 0.0), (4640, 0.025304861574543588), (4641, 0.0), (4642, 0.006950260910089769), (4643, 0.007987754692947466), (4644, 0.0), (4645, 0.0), (4646, 0.00750900891750189), (4647, 0.005325566257879054), (4648, 0.0), (4649, 0.005408608583585307), (4650, 0.0), (4651, 0.0), (4652, 0.0), (4653, 0.007200598669306028), (4654, 0.0), (4655, 0.0), (4656, 0.006350714207129251), (4657, 0.0), (4658, 0.0), (4659, 0.006355376315365931), (4660, 0.02529787351453249), (4661, 0.005220468045670341), (4662, 0.0), (4663, 0.00794602281174826), (4664, 0.0), (4665, 0.0), (4666, 0.00797327647595322), (4667, 0.0), (4668, 0.0), (4669, 0.0), (4670, 0.019651669255526975), (4671, 0.0), (4672, 0.0), (4673, 0.005704176798331294), (4674, 0.02450558594269887), (4675, 0.0), (4676, 0.037089649042060586), (4677, 0.020735450468244727), (4678, 0.0), (4679, 0.0), (4680, 0.0), (4681, 0.0), (4682, 0.005714691458870401), (4683, 0.020584397099532473), (4684, 0.006010072687109733), (4685, 0.0), (4686, 0.0), (4687, 0.0), (4688, 0.0), (4689, 0.0), (4690, 0.005523108135033308), (4691, 0.0), (4692, 0.0), (4693, 0.0), (4694, 0.0), (4695, 0.0), (4696, 0.0), (4697, 0.01906975076210245), (4698, 0.00710558278923255), (4699, 0.0), (4700, 0.0), (4701, 0.019290716460827625), (4702, 0.0), (4703, 0.014635101909823641), (4704, 0.03419288314154461), (4705, 0.008420341400693998), (4706, 0.0), (4707, 0.0), (4708, 0.005844434398281437), (4709, 0.008005205525179734), (4710, 0.0), (4711, 0.0), (4712, 0.0), (4713, 0.0), (4714, 0.0234873270123977), (4715, 0.030589839111184403), (4716, 0.006103887564422126), (4717, 0.019111828578106393), (4718, 0.0), (4719, 0.0), (4720, 0.0), (4721, 0.0), (4722, 0.0), (4723, 0.007200799740586491), (4724, 0.0), (4725, 0.03223311816315185), (4726, 0.006333387875364125), (4727, 0.006326785583540409), (4728, 0.0), (4729, 0.0), (4730, 0.02443863898832744), (4731, 0.0), (4732, 0.0), (4733, 0.004914056321639793), (4734, 0.0), (4735, 0.0), (4736, 0.0), (4737, 0.0), (4738, 0.0), (4739, 0.012009756229366973), (4740, 0.0), (4741, 0.006711149511061668), (4742, 0.0151593011596132), (4743, 0.0057464239487932485), (4744, 0.0), (4745, 0.0060755541496264), (4746, 0.0), (4747, 0.034833407207644884), (4748, 0.0), (4749, 0.0), (4750, 0.0), (4751, 0.0), (4752, 0.004218629857643616), (4753, 0.0), (4754, 0.021091880338930127), (4755, 0.0), (4756, 0.0), (4757, 0.0), (4758, 0.0), (4759, 0.0)]\n"
          ]
        }
      ]
    },
    {
      "cell_type": "code",
      "source": [
        "len(Recommendation_Score)"
      ],
      "metadata": {
        "colab": {
          "base_uri": "https://localhost:8080/"
        },
        "id": "wsiVn_YYay1k",
        "outputId": "3fa6d539-7c25-41aa-9d91-1f8c75c6f48e"
      },
      "execution_count": 42,
      "outputs": [
        {
          "output_type": "execute_result",
          "data": {
            "text/plain": [
              "4760"
            ]
          },
          "metadata": {},
          "execution_count": 42
        }
      ]
    },
    {
      "cell_type": "code",
      "source": [
        "Sorted_Similar_Movies = sorted(Recommendation_Score, key = lambda x:x[1], reverse = True)\n",
        "print(Sorted_Similar_Movies)"
      ],
      "metadata": {
        "colab": {
          "base_uri": "https://localhost:8080/"
        },
        "id": "T9j14ApebEJE",
        "outputId": "8c478526-d330-4fa9-8dee-db80e91f9c4e"
      },
      "execution_count": 43,
      "outputs": [
        {
          "output_type": "stream",
          "name": "stdout",
          "text": [
            "[(151, 1.0), (150, 0.533194210393244), (152, 0.3913608624479806), (4091, 0.3196774484708393), (3323, 0.15365720538574879), (959, 0.15313853571295422), (1056, 0.13346666245178543), (2095, 0.11661730955849049), (4032, 0.11232821538251621), (1143, 0.11089922296297379), (258, 0.10826476499568848), (3427, 0.10793723822353399), (3991, 0.10655106663148887), (306, 0.10625477324617634), (2681, 0.10615007021771831), (3837, 0.1054718558910184), (4061, 0.10515025148727794), (4529, 0.10402309466725489), (1192, 0.10085983653936037), (2468, 0.10023841992960944), (378, 0.09996107945705332), (1146, 0.09709289206275559), (17, 0.09591718555259787), (36, 0.0951072814920941), (1697, 0.09487476513154328), (27, 0.09464737190244296), (477, 0.0940307034845923), (101, 0.0934187061159242), (350, 0.09339689198758261), (239, 0.09205251917014169), (1881, 0.0911089416040119), (276, 0.09076761669829975), (2287, 0.08932257032496091), (1413, 0.08910855179662934), (130, 0.08902310765677997), (1265, 0.08859089502445913), (4086, 0.08778766181718485), (84, 0.08737528299132014), (1412, 0.08684178429724532), (1441, 0.08613494090063759), (1087, 0.0858112307814923), (50, 0.08557691457262315), (1282, 0.08542075633492227), (4370, 0.08533535519016408), (1083, 0.08522674557179255), (2136, 0.08493452503442343), (9, 0.08355950236047355), (3351, 0.0833914862250239), (2623, 0.08305000479151003), (4125, 0.08298719249617717), (749, 0.08257931241574229), (1489, 0.08243306306719059), (3469, 0.08241302478718501), (2694, 0.08178471507911872), (1958, 0.08155688819919604), (1322, 0.08133716314512868), (283, 0.08118251184537878), (1060, 0.08115097589544175), (2142, 0.08111480366037423), (872, 0.08070399038358875), (601, 0.07987555320181669), (257, 0.07955122083860604), (2182, 0.0792667171146169), (3271, 0.07926641294484613), (1409, 0.07848317798202274), (2838, 0.07846445514193184), (2168, 0.07832771776859025), (2111, 0.07826656016192271), (1805, 0.07806948098019778), (3453, 0.0779191446161612), (2713, 0.07763581571950887), (1618, 0.07736735343305659), (194, 0.07723610781021088), (608, 0.07651139849481313), (2574, 0.07638911393225815), (347, 0.07587822851626896), (1001, 0.07585149020610835), (3160, 0.0754361270355704), (1798, 0.07512328096680068), (1685, 0.07358464317688018), (915, 0.07221941108823224), (2005, 0.0718462914373661), (3094, 0.07183999813194905), (1842, 0.07177805273618507), (401, 0.07155329500302739), (1422, 0.07142816551286851), (2320, 0.07137585168124781), (261, 0.07121371759800285), (1662, 0.07114288953567455), (3698, 0.0711228180267941), (1266, 0.07092864073627796), (35, 0.07057806765156327), (4482, 0.07002172723380813), (37, 0.06982523392392306), (862, 0.06960834428137241), (936, 0.0695657235651629), (4035, 0.06952299823178401), (3194, 0.06924319369464284), (348, 0.06884830875638384), (253, 0.06869751486983061), (4605, 0.06819913175559301), (3743, 0.06692588202206975), (1633, 0.06552537361182106), (118, 0.0653737944062121), (547, 0.06461613894544188), (3886, 0.06454844558083739), (3493, 0.06426206347054425), (2925, 0.06415239031947174), (934, 0.06338614094922576), (314, 0.06319318827907487), (1768, 0.0631251376981668), (4432, 0.06286256086181109), (4328, 0.06285859848106663), (280, 0.06266947814562676), (3026, 0.061615924708793866), (4135, 0.06148241392171916), (320, 0.06133349147609451), (4576, 0.06102923238360168), (1477, 0.060501228808451796), (4535, 0.05992444278977849), (4401, 0.05981731151866662), (387, 0.0592596457169932), (2247, 0.05903671622092014), (1515, 0.05892923217318787), (4609, 0.058490992690457044), (4085, 0.05843646552313728), (399, 0.05822206153794514), (574, 0.0582071019674978), (3881, 0.05819305555263773), (3825, 0.058044576477708644), (818, 0.05800250638938206), (953, 0.05796527220792733), (567, 0.057952110653738675), (154, 0.05763122116719764), (3528, 0.05748232116305065), (2186, 0.05725879909036272), (895, 0.05720142451079994), (3320, 0.05670440766846746), (3968, 0.056697153180354926), (2021, 0.05641076912802173), (2539, 0.05579853378331602), (1253, 0.055436502027479254), (3124, 0.05533302106705075), (184, 0.05533038056787462), (2443, 0.054738975252157096), (1341, 0.05461365246786734), (875, 0.054505399697729925), (4104, 0.05442195328520513), (1015, 0.0544012675147418), (839, 0.054347223082131225), (2927, 0.05388518103799369), (3569, 0.05387203927027909), (1262, 0.053846784686013255), (249, 0.05384519441734383), (1656, 0.053537494079946124), (394, 0.053336573507307), (600, 0.05298648625573511), (266, 0.052877836802283903), (2586, 0.05287083926977078), (2039, 0.05285367332674733), (3238, 0.05283752687379749), (841, 0.05281841935066882), (310, 0.0527178040932825), (1925, 0.05251424305514248), (2981, 0.0524484294701579), (3334, 0.05222370421175352), (1250, 0.0520075851109579), (700, 0.05177034758742726), (3751, 0.05164460369066627), (1111, 0.05145790779098237), (2329, 0.05120286271950767), (3133, 0.05074780985473302), (468, 0.050735377727431315), (1102, 0.05058484177438287), (1295, 0.05052624172667988), (1151, 0.05049272256981579), (1600, 0.0496817812219327), (613, 0.049634522289201746), (94, 0.0495809386002923), (856, 0.04957636882783965), (80, 0.049470038829700885), (718, 0.049453603716778614), (992, 0.04945277690318774), (2782, 0.04919980891005142), (1460, 0.04889406188648385), (1590, 0.048852112029367414), (3515, 0.04880851437629474), (74, 0.04868173887594656), (1384, 0.04863431503254656), (3234, 0.04857194099144062), (475, 0.048503418077449435), (486, 0.04807205341438518), (977, 0.04778888619969711), (2627, 0.04768740290185504), (681, 0.047477378747888536), (1734, 0.04747699677952011), (1011, 0.0473597702370853), (4334, 0.047309278257083115), (858, 0.0469597887434477), (1555, 0.046855108835491224), (2312, 0.04660518074548861), (2895, 0.04657769902057302), (1328, 0.04657466932141764), (2843, 0.046567978545761085), (1926, 0.04651158441060498), (4310, 0.046499798818620874), (1354, 0.04645280604389057), (573, 0.04641697792156122), (3233, 0.04618398949184244), (1258, 0.0460091283859553), (2707, 0.045670537137178696), (2815, 0.04557793199960219), (1294, 0.04537250461625225), (4391, 0.04536867453521716), (191, 0.045309212044084154), (364, 0.04530222977734363), (2232, 0.045160612750948396), (2960, 0.045046149542296354), (876, 0.04499581740970715), (2178, 0.04496233605516031), (554, 0.04484024362553455), (4240, 0.0447913701473122), (2341, 0.04462399345426119), (219, 0.04452559856865437), (79, 0.04432779164920071), (1776, 0.04432618558055145), (3520, 0.04427206350902678), (1875, 0.0441727192155431), (599, 0.04411793831542976), (192, 0.043872043168155926), (299, 0.04375466481071669), (911, 0.04360454193563792), (2087, 0.043462342449475444), (1007, 0.04341631059782783), (4613, 0.043179676692692195), (1788, 0.04306572279746238), (797, 0.04301357999111109), (1205, 0.04291804550092897), (1802, 0.04288976319103886), (2932, 0.042800255299527315), (412, 0.042631361064046955), (2922, 0.042380920615325265), (2762, 0.042362131260995126), (363, 0.04182570939869406), (3744, 0.04158560004870149), (2466, 0.041572473131476655), (4010, 0.041534691436644955), (3506, 0.04151614515630682), (2177, 0.04135283181845917), (3759, 0.04121229384977963), (1351, 0.041163375270920254), (747, 0.04091797259699109), (3001, 0.040671172596818246), (802, 0.040157762100811845), (3578, 0.040032302880373793), (491, 0.03994707406950775), (716, 0.0398822130479617), (4238, 0.03987373726185985), (3597, 0.03982480700605631), (3207, 0.03955694406754241), (3532, 0.039341896713006884), (2045, 0.03931371884648192), (1381, 0.03921223191212266), (1966, 0.039193928012633945), (3972, 0.03913745741094353), (1686, 0.03913200174340575), (2086, 0.03908863910142562), (4054, 0.03891594431120698), (3054, 0.03889741776313963), (537, 0.03889543554391284), (3048, 0.03887718518275635), (315, 0.03880295898831482), (661, 0.038687600294819685), (2263, 0.038633553841746764), (555, 0.03859224368089814), (2790, 0.038588136090060884), (3781, 0.03856839520478133), (1137, 0.03852283713179208), (666, 0.03845103766836775), (2817, 0.03838311155392848), (2090, 0.03830376490759894), (2038, 0.03819554364438739), (1758, 0.038186995443670116), (2479, 0.038156838263528475), (3953, 0.038110104428789295), (1385, 0.03808026674610895), (539, 0.03807831931810505), (1615, 0.03806425360153058), (193, 0.03805856417520339), (4260, 0.03804593681260513), (3777, 0.03804304577165066), (1296, 0.037992619122610524), (31, 0.03793471044886047), (3845, 0.03793384241688775), (2419, 0.03782827096273309), (418, 0.03779350193697387), (4181, 0.037664864448197166), (2066, 0.037658172052355054), (4077, 0.03765074475390055), (1374, 0.03763315779360407), (1554, 0.03762141489856334), (591, 0.037525432408055615), (69, 0.03751890974241548), (2233, 0.03749846665296814), (3869, 0.03745762113957425), (3787, 0.03740906008497013), (1091, 0.03740864599034255), (2532, 0.03728146966844272), (2898, 0.03723688904169026), (2715, 0.03723065456609751), (3294, 0.037203056573930166), (4676, 0.037089649042060586), (2860, 0.0370732403071211), (4493, 0.03700587957453278), (1525, 0.03690704669291669), (3977, 0.03690487705137647), (1150, 0.03685550271056416), (756, 0.036824211959159706), (6, 0.036764539111503965), (2421, 0.03672673703035881), (3047, 0.03662830349579009), (3834, 0.036560796088679945), (3131, 0.03655754765476001), (439, 0.036485037529288986), (2729, 0.03645475311896968), (1280, 0.03638593677703726), (603, 0.03634411831650389), (3132, 0.036227823603357884), (1904, 0.03613645509294073), (2330, 0.036128012836566414), (3747, 0.03609001573676414), (2340, 0.036085481577046344), (1095, 0.03604703640165348), (1097, 0.03599299970377263), (1747, 0.03589892205748236), (316, 0.03585213458555375), (2413, 0.03584256294177819), (65, 0.03574547281342581), (1396, 0.03573440600465318), (3134, 0.035663825672302245), (2691, 0.035550044445919714), (3907, 0.03545134505013398), (3798, 0.03544374282137654), (189, 0.0353845916347816), (2944, 0.03536836764156706), (918, 0.03536173057907745), (78, 0.035250408007389336), (3463, 0.03524858813868642), (95, 0.03514945373712896), (3355, 0.0351020340639745), (1591, 0.03505369827741123), (902, 0.035051836345778825), (1815, 0.03503674484932236), (572, 0.03502956718989545), (3840, 0.03502886310999528), (3690, 0.034920196343109125), (2955, 0.03489374337189716), (1108, 0.03486510195460482), (1924, 0.03485720564880412), (1030, 0.03484410223532653), (4747, 0.034833407207644884), (19, 0.034778215269621264), (2277, 0.03463784850516834), (3467, 0.034606931546501345), (4041, 0.03456123102210932), (3726, 0.034525081611542545), (4581, 0.03448841523285181), (3208, 0.03447394372135627), (4022, 0.03447210332133138), (2094, 0.03444576663525839), (1791, 0.034380192511197886), (2521, 0.03437653686314189), (2501, 0.03433448915492469), (39, 0.0343103969018659), (484, 0.034273810367923645), (3367, 0.03422388964287213), (264, 0.03421717287807642), (1566, 0.034197579267763525), (4704, 0.03419288314154461), (3300, 0.03417695073146035), (4070, 0.03417643221554939), (3982, 0.03416157567418605), (751, 0.03412668841027864), (1269, 0.03411503876365027), (4128, 0.03404536369059821), (2850, 0.033961198061565834), (368, 0.03394646800073312), (674, 0.03387207574465029), (425, 0.03385257646544659), (3937, 0.03372345752345831), (1358, 0.033676629951549464), (1934, 0.033578375255152774), (3560, 0.03352862779306849), (2674, 0.033507615022378645), (1281, 0.03346267914366909), (1708, 0.03345403508146295), (3773, 0.03342016803374014), (90, 0.0334139787145038), (48, 0.03334971889767861), (2603, 0.03329370813913889), (1315, 0.03323685471178714), (41, 0.03320420319573639), (590, 0.03317648825138092), (1592, 0.03313996206021517), (2499, 0.03311699347265218), (1263, 0.033011243125101696), (3464, 0.0330109063193835), (1645, 0.033010385974123375), (3346, 0.032935781093218985), (390, 0.032887837769859866), (93, 0.032727804450555), (352, 0.0327163423624799), (1198, 0.032688926345540124), (1154, 0.03267827448796545), (3965, 0.03263394028066013), (2950, 0.032472039061163804), (3434, 0.03245976692464971), (171, 0.03243549372984345), (260, 0.032410074887482106), (3361, 0.03234619433893962), (1894, 0.03233634037086916), (263, 0.03233608666990244), (2657, 0.03233548272961762), (2763, 0.032250779012848396), (4725, 0.03223311816315185), (3783, 0.03222803998691777), (3710, 0.03217732951053698), (1579, 0.03211887155625802), (3193, 0.0320985813025232), (564, 0.03196494999498264), (3100, 0.03191855082307159), (565, 0.0319151516906645), (4558, 0.031865533400376816), (3438, 0.031856613111908225), (1649, 0.03184529733282086), (2453, 0.03183283422626708), (2442, 0.03177897592578449), (46, 0.03175932330373949), (208, 0.03168061405388232), (1069, 0.03164161697533728), (3114, 0.031588771114794204), (379, 0.03146819955396117), (2139, 0.031417835825112796), (3923, 0.031396976538899606), (1711, 0.03138711696482457), (2308, 0.031323194354176076), (4490, 0.03131399062447648), (1982, 0.0312980184233218), (686, 0.03125613249439417), (2125, 0.031251562418059466), (397, 0.031242558189500964), (4146, 0.031240600943295206), (3010, 0.03121578682266222), (892, 0.03118433218843029), (848, 0.031181441650697826), (2081, 0.03118051488157395), (2857, 0.031178332815813607), (4153, 0.031138599005118003), (3616, 0.03112475010534273), (2270, 0.03110145354429134), (2749, 0.031098208515452204), (4285, 0.030986459252000192), (67, 0.030985222799940378), (3393, 0.03095877650210961), (4236, 0.030958724714872633), (811, 0.030932973608562567), (1134, 0.03080072052773613), (1244, 0.03077998037939602), (3022, 0.030718364165859532), (4246, 0.030650262178673074), (1014, 0.030591580758397425), (4715, 0.030589839111184403), (4276, 0.030584276003869003), (1, 0.03052069059354419), (3213, 0.030512763166667668), (402, 0.030512042664154807), (2221, 0.030511015427686264), (4076, 0.030467055999402692), (497, 0.03040764643377543), (451, 0.030397756138881148), (2451, 0.03037394518741386), (1386, 0.03033766210875223), (2013, 0.030302184554762655), (614, 0.03029556895725566), (1468, 0.030288000951618765), (2180, 0.03018311746345087), (2283, 0.030138062562347856), (3521, 0.03003204752644605), (3430, 0.02996217952041922), (1044, 0.029951470772429642), (2337, 0.02994155172268695), (1013, 0.029882388431267046), (3741, 0.02986456976552344), (3161, 0.02985892166726397), (3675, 0.029835822684693265), (3412, 0.02975704832582958), (4584, 0.02969463080615269), (711, 0.029668700058764864), (1772, 0.029651615271707753), (1748, 0.02957209797292227), (2605, 0.02952203514760708), (1976, 0.029496806244786573), (4478, 0.02949294225435959), (4514, 0.0294864163427082), (4453, 0.02948194083092539), (2570, 0.029458528162169095), (4466, 0.029448447599838605), (467, 0.029415517700917892), (1650, 0.029410173552095013), (234, 0.02940849833131961), (1911, 0.02936871128090631), (1195, 0.029315053840459918), (1651, 0.02930502510764193), (128, 0.029292612224617674), (2644, 0.02928104464533359), (3051, 0.029263783364895133), (1745, 0.02924698209654642), (3865, 0.02924652309061012), (4467, 0.02921260230144189), (3454, 0.029189834402251588), (2884, 0.029157571690148463), (3693, 0.0291545631487655), (2434, 0.029142969039025676), (472, 0.02911509055761924), (2865, 0.029101070474427643), (3096, 0.029099149731307346), (1486, 0.029079183522722256), (3405, 0.029042448182843378), (4046, 0.02894671777581576), (4168, 0.028923747110791112), (1799, 0.028919601782793708), (3802, 0.028912663455931437), (102, 0.028847508258686174), (2903, 0.028831984065217874), (3661, 0.028806807198815565), (3181, 0.028773156881303347), (3516, 0.028716981094234238), (303, 0.028652786586864733), (4570, 0.028630991678710586), (2500, 0.028623325102807313), (2702, 0.028606539185935018), (1165, 0.028574964862835568), (1184, 0.028553994613141887), (3468, 0.02845760021975528), (1899, 0.028443846967923854), (1908, 0.028431022615816176), (3692, 0.028430118463677302), (4312, 0.028368854788885275), (1665, 0.028339273065410488), (1458, 0.028332683897343364), (1057, 0.028332437596932575), (4364, 0.028307584248501765), (2804, 0.02828937440697207), (3059, 0.028287312976960164), (1148, 0.028259563070264546), (436, 0.02825953426144982), (1383, 0.028253614841092036), (240, 0.02824115749969777), (3850, 0.028218304072316944), (966, 0.02817476129186028), (1022, 0.028151377028326305), (3997, 0.028110278920687907), (1031, 0.02807409700992563), (913, 0.028008325315264072), (3724, 0.027997668785958676), (2689, 0.02799045486046492), (1530, 0.027983415312258453), (1548, 0.027942875175190496), (220, 0.027915688428010378), (602, 0.027898758383659607), (967, 0.027886408910938104), (1502, 0.027883754621149347), (1766, 0.0278725117817832), (2209, 0.02786478577059233), (891, 0.027813930319396794), (4300, 0.027801597484862623), (3685, 0.027744483720925705), (656, 0.027740429226142872), (417, 0.027718010253277116), (2629, 0.027672583071623652), (3513, 0.02766491955406896), (2217, 0.027642548921706426), (4626, 0.02762627977381653), (478, 0.027589211738755108), (4100, 0.02758227278339477), (3709, 0.02756453522412456), (516, 0.02752330904847001), (1536, 0.027457709560923606), (2963, 0.027451176664850398), (517, 0.02743990117314011), (2484, 0.027430367234353607), (724, 0.02739574607084684), (4588, 0.027388946286640396), (1469, 0.02733529001900322), (4106, 0.027316223793540307), (3641, 0.027312930958651713), (546, 0.02728643640304942), (3141, 0.02724654454376292), (3623, 0.027238698047984573), (3191, 0.027183657454184537), (4043, 0.02717164795363072), (2661, 0.027114684859179738), (1923, 0.027073626028812883), (3225, 0.027058175408331865), (803, 0.027051811983919816), (4064, 0.02704301514280219), (1810, 0.027037883531757977), (3105, 0.027005129438022225), (4152, 0.02698210197812117), (4055, 0.026914978643351843), (3987, 0.02690171005114254), (4167, 0.026849451929703724), (45, 0.026840474064922234), (2956, 0.026808135083635668), (1664, 0.026784482875404574), (2091, 0.026772241023703278), (3908, 0.026752157396225256), (2061, 0.026744029068073633), (3332, 0.02672092662152776), (1452, 0.026697555241898804), (70, 0.026663132880752134), (2878, 0.026625447649148218), (3969, 0.026534569937830745), (4546, 0.026518169175064537), (179, 0.02651568007556325), (903, 0.026509447193632185), (1074, 0.026485830839884244), (1193, 0.02646731516086922), (2055, 0.02645173335777722), (4027, 0.026429371792142553), (1129, 0.026414694090005044), (4523, 0.02638894679634597), (135, 0.026382015808498978), (3269, 0.026369497267047584), (3955, 0.026350156576452205), (3162, 0.026338161661490316), (3445, 0.026330307639740022), (2450, 0.026290167938297), (619, 0.026282348279169098), (1103, 0.026268827621626883), (259, 0.02625353570926698), (1306, 0.0262407771306104), (3270, 0.02623303605133459), (3718, 0.026224089803723396), (2286, 0.02621771081585485), (2701, 0.026195812632225795), (745, 0.0261477581890348), (1765, 0.026123585885923895), (375, 0.026095240023454692), (708, 0.02605964356062525), (4264, 0.026020431977284653), (2431, 0.02599573572613807), (1082, 0.025932724573093778), (1696, 0.02589243890544029), (3384, 0.025880207949655735), (692, 0.025791040849676025), (4302, 0.025783923954443195), (3368, 0.02577942904481425), (2030, 0.02577644515278586), (1653, 0.02574907557147776), (850, 0.025713704355102805), (1731, 0.0256783941439722), (1105, 0.02563318735807409), (474, 0.025614751929756974), (1678, 0.025563081554751142), (3283, 0.025494038359997088), (3720, 0.025481217442513405), (2432, 0.025451428983926702), (4338, 0.025445248365303416), (3998, 0.02543846568181753), (1851, 0.025379143463545552), (1230, 0.025344213630043723), (297, 0.02533911619457735), (3231, 0.025325138432801195), (2680, 0.025310445470863824), (4640, 0.025304861574543588), (4660, 0.02529787351453249), (1285, 0.025279592449810498), (3595, 0.025263176009505603), (272, 0.025250598787722296), (3605, 0.02524226466838626), (3480, 0.02523228810794933), (4291, 0.02522274031858756), (2492, 0.025185796760215717), (1638, 0.025160185468077793), (2711, 0.025124578875107488), (1804, 0.0251051149860253), (2476, 0.025101082970562665), (137, 0.025098059584704308), (665, 0.02508501730852446), (252, 0.025050608238522544), (91, 0.02503683188826702), (3123, 0.025023637655051216), (298, 0.025019586113713396), (763, 0.02492780100289824), (133, 0.024927273220934777), (3089, 0.024925944507426367), (3734, 0.024904251988925902), (2999, 0.024887220319737682), (1932, 0.024870365121067675), (545, 0.024843601121996274), (3502, 0.024831459424466157), (2899, 0.024821508820325612), (3512, 0.0248193932310363), (2295, 0.024765177315943597), (4004, 0.024722236363410102), (3363, 0.024719388202237402), (2205, 0.024715970639171768), (2837, 0.02471521753600614), (2756, 0.024696898690308326), (963, 0.02468198124176189), (469, 0.024660639774280558), (492, 0.024652492443722227), (2682, 0.024635327190842625), (2524, 0.024585722394037657), (2854, 0.024516566136441674), (2284, 0.02450912732543772), (4674, 0.02450558594269887), (73, 0.024484134055181652), (4730, 0.02443863898832744), (1267, 0.024417041135035872), (1066, 0.024318833150091642), (1889, 0.024316308397089873), (1481, 0.02422478391969886), (160, 0.024202444557739445), (2184, 0.02415107793362936), (2056, 0.024119040107891045), (798, 0.024103865472877854), (3925, 0.02409201396169644), (3664, 0.024058340513081557), (3228, 0.024053699958051684), (2121, 0.024046147975451043), (772, 0.02401146519437031), (2992, 0.023972173846270532), (2069, 0.023951400668341977), (842, 0.02389773642537158), (3247, 0.0238809940884044), (1032, 0.02385649068490458), (1657, 0.023847585019547885), (2409, 0.023838315394420405), (2058, 0.02382809052509011), (4352, 0.0238201008648123), (2269, 0.023810354948570072), (4346, 0.02380115128552891), (2202, 0.023795285619703368), (981, 0.023771566412173206), (75, 0.023753348232696835), (997, 0.023747516220332405), (3408, 0.02372440337351533), (1886, 0.023717920636447683), (4547, 0.02366666951180122), (72, 0.023642144540255892), (116, 0.023622607728260525), (939, 0.023607822843326826), (4038, 0.023600179636379795), (2525, 0.023568539897100768), (380, 0.023568077514658066), (2311, 0.023544497888322493), (990, 0.023530547781803097), (4714, 0.0234873270123977), (333, 0.02348649038676185), (710, 0.02346487437152325), (85, 0.02345153831998617), (2044, 0.023448332058068407), (3487, 0.023438259007987017), (2938, 0.023431153943670416), (1948, 0.023414028266614893), (1291, 0.023396592375763352), (3459, 0.0233616082510245), (2982, 0.02334717361701595), (4447, 0.023325373115173572), (2357, 0.02329009335915974), (2482, 0.023281754589219217), (2406, 0.023281648813313707), (2845, 0.023247894696800518), (454, 0.02322933538198243), (3321, 0.0231583403397502), (3244, 0.023137878895605056), (1630, 0.023130675744286986), (649, 0.023103404090035813), (3839, 0.023086087739842352), (2133, 0.023057670940526145), (1568, 0.02304955075243331), (3241, 0.023030076504674823), (1716, 0.02300775209108748), (1513, 0.022995733057698066), (3158, 0.02299367241297113), (3385, 0.022993095994931805), (1360, 0.0229879393391951), (3811, 0.022981078461975824), (2316, 0.02294367191094463), (2636, 0.022906633735440312), (762, 0.02288706051598798), (4486, 0.022881219671466137), (958, 0.022877096843671216), (3080, 0.022867012152531414), (2649, 0.022862976496095668), (2594, 0.02283332272177902), (3180, 0.022824064461997067), (279, 0.022821302297820808), (284, 0.022804853007923023), (663, 0.022801174475798557), (1212, 0.022779071162268398), (1836, 0.022778300428489846), (1735, 0.022765346485647795), (3688, 0.022731873067635338), (1546, 0.022715394518832865), (3797, 0.022702136859986233), (2785, 0.022693442960013206), (3009, 0.022664040307456414), (2591, 0.02266044328320839), (3550, 0.022644233136171227), (4018, 0.022538331556030265), (1337, 0.022527813151021682), (3566, 0.02249810555997679), (1046, 0.022427182390121064), (3714, 0.022423909514657527), (604, 0.022419858268224784), (2622, 0.02240211301849485), (3266, 0.02239010242664728), (207, 0.0223876300361486), (1138, 0.022330545394399992), (1628, 0.022305385538929867), (4087, 0.02230164180492146), (3889, 0.022249173977790592), (2114, 0.022229624201502214), (2294, 0.02221084823572946), (1535, 0.022203239606664402), (3119, 0.02218971287972998), (952, 0.022176807330911742), (2599, 0.022173210814810645), (1251, 0.022148173477055125), (430, 0.022081188359163093), (405, 0.021993381556254153), (563, 0.021981793207848686), (1140, 0.02196624101226123), (1575, 0.02196604035661276), (3873, 0.021936652502874195), (413, 0.021906771113074493), (1252, 0.02187123250763925), (218, 0.021866282039973664), (2976, 0.021837580556266868), (1754, 0.021834132559381113), (3045, 0.02180522770729988), (4015, 0.021781361656268435), (4622, 0.021776629968716515), (4405, 0.02176754322965705), (3897, 0.021751288701818337), (1292, 0.02170811175275526), (4406, 0.021699888256974022), (2549, 0.021694950625669333), (2439, 0.021678640725363865), (1492, 0.02165998486770821), (2573, 0.02164421197353568), (3305, 0.02161850607493607), (1527, 0.021604321251584898), (4484, 0.021580147650711607), (76, 0.021544828463336947), (1233, 0.02149530074362569), (1164, 0.021470337233640165), (3919, 0.021445912204903227), (1405, 0.021431543225257747), (440, 0.02139199548104329), (1707, 0.0213844879596545), (4250, 0.021379676977295727), (4090, 0.02135791857266938), (1613, 0.021339121267088455), (2918, 0.021267679335070108), (4495, 0.02123002955662006), (606, 0.021184587665358176), (778, 0.021112735855587577), (2876, 0.02109520644236085), (4754, 0.021091880338930127), (964, 0.02105635184057825), (509, 0.021038852895335924), (2147, 0.021038206458839876), (2565, 0.021025781836890346), (3429, 0.02102160819983161), (4610, 0.021006148341867054), (2078, 0.020999860474241863), (3542, 0.020990219577560483), (1003, 0.02096962795966042), (2708, 0.020911244364126176), (750, 0.020900489624641038), (1400, 0.02089305770559731), (1571, 0.020882507766852708), (1101, 0.02085251639296985), (1361, 0.020839349775968928), (3576, 0.020836225376921768), (28, 0.0208293607532813), (2278, 0.020812763520239794), (1991, 0.020811687329326443), (1336, 0.02081156309419944), (1467, 0.020772396323634593), (4014, 0.02075737916455241), (1439, 0.02075290420881356), (3437, 0.02074950832597864), (4677, 0.020735450468244727), (580, 0.020711677518226456), (1749, 0.020704585419512873), (4266, 0.02070136448571285), (2531, 0.020656579299637486), (3255, 0.02061854219310188), (3276, 0.020612522574480624), (4383, 0.020586960404445246), (4683, 0.020584397099532473), (1505, 0.020574691133038683), (2194, 0.020556902750998557), (4340, 0.020499507158337482), (2998, 0.020499467579743143), (196, 0.02047573645960835), (4047, 0.020457796020792673), (2126, 0.02044068088132346), (3594, 0.020434258332288808), (389, 0.020424155763924406), (460, 0.02041994818500787), (730, 0.02040868134823607), (22, 0.020370062426916), (1624, 0.020367408817303236), (3989, 0.020348071977201728), (2280, 0.02032247158567078), (3888, 0.020298837201036875), (2471, 0.020279813458357228), (3632, 0.020259346819984873), (769, 0.0202467406534061), (3306, 0.02023807914867494), (4469, 0.020223018894388257), (4487, 0.020211916051581666), (3606, 0.02020907761795711), (3653, 0.0202044059852323), (4612, 0.02014969331472916), (3060, 0.02014747310142941), (553, 0.0201119181431899), (3739, 0.02003845751804524), (1930, 0.020036583957073386), (1769, 0.02002941671726388), (2824, 0.019986958441352155), (628, 0.01998352587566794), (3625, 0.019970614705472543), (3994, 0.019936575666214113), (4360, 0.019926292161195198), (515, 0.01989825143951765), (1245, 0.0198862163521882), (4373, 0.01987717051873332), (2062, 0.019864714673578535), (4472, 0.01983116898523379), (2828, 0.019830218532934474), (2571, 0.01982078082620589), (3298, 0.019817285085686257), (4139, 0.01981072941477472), (1378, 0.01980371887900925), (2773, 0.019788007619515505), (2488, 0.01978073056745777), (3330, 0.01975305233754304), (2584, 0.019750755451401803), (1864, 0.01973201591748768), (3900, 0.019727351593654727), (427, 0.01967792553504742), (834, 0.01965917910314038), (367, 0.019653188426907515), (4670, 0.019651669255526975), (1059, 0.0196198670749979), (2937, 0.01960777921620213), (4261, 0.019590210316887083), (2618, 0.01953872729019413), (561, 0.019470947214056365), (2995, 0.019443391537620827), (3413, 0.019440985542590796), (4157, 0.01942311809777896), (1882, 0.01941990789097113), (459, 0.019417964092027708), (812, 0.01939796238627784), (3288, 0.01939293123030263), (3645, 0.019378723953415215), (1256, 0.0193702213731368), (3021, 0.019361884916129616), (3758, 0.019358360310995533), (1756, 0.019346053703273813), (799, 0.01932201631420827), (1783, 0.019303152005301565), (4701, 0.019290716460827625), (2008, 0.019275375219711403), (307, 0.01924325214371843), (273, 0.019234041828891667), (702, 0.019193981284789153), (1903, 0.01919103692894915), (2496, 0.01918540050848348), (2578, 0.019176074189379243), (82, 0.0191672309612296), (3535, 0.019166027423081957), (3966, 0.019133342892117572), (3452, 0.019130104742245486), (4717, 0.019111828578106393), (923, 0.019087633802081814), (1433, 0.019086222147792733), (4697, 0.01906975076210245), (4063, 0.01893294330637739), (15, 0.018922626109418705), (2779, 0.018921026719032404), (4165, 0.0189188726871823), (1877, 0.018913602115792006), (950, 0.018910487509351512), (3079, 0.018906992245010214), (2107, 0.018879687133361637), (3389, 0.01886808773925617), (3256, 0.018867682501326487), (2666, 0.018859118489709507), (1984, 0.018855799431914396), (1123, 0.01883726534385512), (2892, 0.018814502732457935), (4071, 0.018753738156360326), (835, 0.018740309738274775), (4339, 0.018740023627671805), (408, 0.018739409249961664), (1584, 0.018735489825300315), (1055, 0.018732619027233516), (776, 0.018724503969375937), (4638, 0.01871409428677957), (511, 0.01868406871539554), (1663, 0.01867240316040534), (679, 0.0186536705375799), (570, 0.018650576993842215), (742, 0.0186312707212671), (2265, 0.01862421349246569), (1723, 0.018606685082208873), (1171, 0.018583490670839205), (1793, 0.01857711780918863), (847, 0.018560692220004504), (2510, 0.018553998841801804), (833, 0.018549570943779157), (4585, 0.018546417080748532), (4154, 0.018537895069634575), (3651, 0.01851582160101868), (3630, 0.018487854861580787), (739, 0.018469371282988954), (3635, 0.018461449701100453), (1820, 0.01843221675815885), (2051, 0.01838958224631041), (2671, 0.018383482524902038), (3186, 0.018352418302453655), (1610, 0.018350997945513616), (932, 0.018339176505856314), (1750, 0.018334361383037043), (2936, 0.018322364128752093), (3201, 0.018286231514456196), (1543, 0.018260963430711263), (2724, 0.018229852891083146), (3068, 0.01822978137476059), (2550, 0.01822907035050547), (801, 0.018156045856371494), (1241, 0.018147475112237552), (2579, 0.01814256485607077), (3063, 0.018142421021125718), (1939, 0.018121529761226107), (1608, 0.018108516352391444), (3008, 0.018094747625910214), (319, 0.018087663124660276), (4365, 0.01806998036285534), (912, 0.018039823477620752), (187, 0.017994954319335264), (4337, 0.01797177015328438), (2559, 0.0179502045487342), (4468, 0.01791228799006305), (2075, 0.017891931775275816), (4290, 0.017889086165625456), (2031, 0.017885704001665115), (3742, 0.017852157144269104), (3417, 0.01782668842501829), (376, 0.017820961221425742), (2493, 0.017820861708631522), (1249, 0.017786000276571515), (664, 0.017766960059336187), (733, 0.01775040011987834), (625, 0.01765462041542196), (2527, 0.01764472741277335), (4344, 0.017536791937176582), (2047, 0.01751472453156542), (820, 0.01750825963380145), (1874, 0.01749210148236166), (1120, 0.01749066686250489), (2740, 0.01748671864661417), (4024, 0.01747893194126665), (4142, 0.017457757462520585), (1359, 0.017392384860682987), (2723, 0.017358823745364675), (2530, 0.01735518504839697), (3634, 0.01734558486104638), (873, 0.01733233963952094), (1712, 0.017300899585546738), (3817, 0.017276628995166368), (3655, 0.017249291559548498), (3973, 0.017232848438659316), (2646, 0.0172112228708287), (3559, 0.01719555636863285), (64, 0.017182391103167632), (3618, 0.017156650439260908), (2355, 0.017103518766768133), (3331, 0.017101369299240096), (483, 0.01708943167682903), (3484, 0.017061101077844365), (2789, 0.017052654430557302), (2385, 0.017047631082266385), (781, 0.017045690626483024), (4158, 0.017018509120840505), (2611, 0.017004254829917534), (3029, 0.016968594371227927), (2770, 0.016964814068178614), (2070, 0.01695343223070781), (4199, 0.01693974080225557), (211, 0.01691812534528427), (4196, 0.01691083237792989), (3957, 0.0169097180292612), (2544, 0.016889910926241924), (4136, 0.016861211981983062), (2541, 0.016819773530568547), (4559, 0.016801046235484163), (2148, 0.0167764025220046), (1356, 0.016775881113212814), (438, 0.016771424022391776), (1365, 0.016737318626848956), (2018, 0.016733480594446664), (4287, 0.01672186721387976), (2919, 0.016720698588263343), (377, 0.016676828623166384), (1494, 0.016674380735295556), (176, 0.01663149838152236), (2092, 0.01662708784530197), (4251, 0.01659422277238004), (1431, 0.016573920406999464), (3448, 0.016564594876553113), (1435, 0.016547717031786424), (3206, 0.01652096252401289), (544, 0.0164251227228477), (2430, 0.016421665733236133), (877, 0.01640615835719077), (2300, 0.01625310097098373), (2567, 0.016203767962390446), (1701, 0.016199822122593563), (684, 0.016198430919607106), (2026, 0.016172853957150908), (2259, 0.016145436094721917), (1677, 0.016140185458769718), (109, 0.016136681017897416), (2326, 0.01610922922677667), (153, 0.01604875606896191), (1159, 0.016018165020061523), (1831, 0.016003632982695803), (3237, 0.015986759375290163), (4589, 0.01598241955891761), (61, 0.01597986548351808), (1028, 0.015974446151986087), (1466, 0.01591834083152003), (1547, 0.01590366926145111), (3172, 0.015899727313743336), (2980, 0.015874068759054373), (2427, 0.015861046171420826), (2802, 0.015826766631188833), (3447, 0.015816029915524325), (1398, 0.0158070709768696), (557, 0.01577258069047422), (3419, 0.015758114431051226), (1321, 0.015715281113343936), (369, 0.015700874086971343), (49, 0.01568865170459158), (453, 0.015687383003555776), (339, 0.0156631235156389), (1969, 0.015620047065678848), (2653, 0.015619002632829277), (521, 0.015583620789884005), (2472, 0.015580117784489027), (2198, 0.015560425518910933), (2131, 0.01554864722040646), (2555, 0.015527777137468517), (3246, 0.0155166702569274), (1713, 0.015505448253626715), (424, 0.015504160665728042), (1437, 0.015472783173112056), (77, 0.01546180245126597), (2620, 0.015444891224245891), (29, 0.01541344926662464), (3036, 0.015388445765723034), (2068, 0.015380221511582963), (247, 0.015356114024654111), (2710, 0.015353133684378606), (373, 0.01533955700572576), (1988, 0.015338182477958547), (2672, 0.015304893777833242), (422, 0.015292854732197807), (2164, 0.015283789283776062), (2356, 0.015264584310603645), (2381, 0.015224223938479914), (694, 0.015220600839883115), (4011, 0.015200844638000928), (3941, 0.01516770058537278), (4742, 0.0151593011596132), (3062, 0.015138586287039827), (1240, 0.015133307321043479), (1408, 0.01512593778655149), (2327, 0.015090665162261289), (550, 0.015082429014352432), (372, 0.015080953945432504), (944, 0.015079912540275832), (2428, 0.015069280658634842), (715, 0.01506800080681072), (3697, 0.015043093315183447), (2528, 0.01503092167451907), (96, 0.014980284051753435), (1920, 0.014965534911386054), (956, 0.014960543348364306), (3628, 0.014932029032367674), (4130, 0.014924649651970993), (635, 0.014908047562146417), (121, 0.014876044043267181), (3163, 0.014862400779571633), (4491, 0.014857592521127522), (3202, 0.014846334253304101), (354, 0.014812033517776314), (1700, 0.014801375769135485), (2888, 0.014791398160425032), (2835, 0.014791391011783811), (713, 0.014786211851429303), (1990, 0.0147461137080403), (7, 0.014737421942981782), (2036, 0.014733981399825822), (3278, 0.014717416757559389), (232, 0.014701824011223781), (3586, 0.014695293279762715), (337, 0.01469046783402997), (4703, 0.014635101909823641), (3782, 0.0146263581799366), (1705, 0.014622073410214844), (2940, 0.014594836815043293), (1812, 0.014586655430797364), (1324, 0.014565687178342054), (826, 0.014562763191630263), (2522, 0.014552949065761083), (2248, 0.014551306604576049), (3846, 0.014551291634359314), (4289, 0.014533461416680759), (1572, 0.014529352302773153), (1206, 0.01451844387101053), (4080, 0.01451256795204293), (3979, 0.014497392209553928), (4270, 0.014488795498867906), (4557, 0.014484451191303913), (1099, 0.01447924354031448), (2208, 0.014472465593834902), (1436, 0.014447763182157803), (3342, 0.014421669995415609), (1225, 0.014405070664317302), (1380, 0.014400840625259991), (1392, 0.014390713891063368), (1185, 0.014386020485838941), (657, 0.014373253070746498), (1570, 0.014360414670309182), (1603, 0.0143297026197097), (231, 0.014318810411652248), (33, 0.014304048955204193), (2640, 0.014287200240144179), (3870, 0.014275329747871272), (55, 0.014267853185125506), (2015, 0.014258298807324625), (201, 0.014246517126224626), (4419, 0.014235182759790606), (1841, 0.014202069582489063), (3894, 0.014195227045531496), (3849, 0.014182518772515845), (793, 0.014181035763446436), (1529, 0.014179715358261997), (2016, 0.014175433848686626), (2805, 0.014153686437837758), (615, 0.014144818763186233), (1470, 0.014133808331068221), (59, 0.014068472652781109), (4456, 0.014062340383415473), (2353, 0.014058801530945651), (631, 0.014039750147298892), (1045, 0.014001697605389971), (1254, 0.013994631906559519), (1901, 0.01399431269236431), (4294, 0.013985219339183275), (2285, 0.013974974817424997), (1936, 0.013955828649677985), (1931, 0.013951382208440978), (3486, 0.0139419736681734), (2444, 0.013928443346515166), (4283, 0.013918976353775855), (528, 0.013903667163659022), (56, 0.0139025524778739), (1587, 0.013899456220618195), (3404, 0.01389275813184431), (2447, 0.013882072287534663), (919, 0.013876481456789491), (592, 0.013868790113082216), (54, 0.013867119925659706), (1440, 0.013865635019823349), (4210, 0.013850170084206123), (4476, 0.013850149826960027), (129, 0.013840685486627393), (2647, 0.013830005309170348), (945, 0.013826369812495408), (714, 0.013816356915536279), (1611, 0.013799486044808641), (3360, 0.013795622499163433), (1522, 0.013788786612980292), (1743, 0.013777118890363255), (2554, 0.013775105551390922), (1577, 0.013774037980924077), (1945, 0.013758490199410424), (2067, 0.013736932759562193), (1346, 0.013732845043133768), (2153, 0.013729470878548831), (4103, 0.01372872703289908), (2826, 0.013727748717090303), (2506, 0.013699173795602353), (1179, 0.013652942412858958), (4099, 0.013651229479137508), (849, 0.013645829160389183), (305, 0.013641583979240058), (965, 0.013624975793161732), (13, 0.013607233492318497), (946, 0.013588296460696802), (2014, 0.013581058389397969), (4056, 0.013581050546675758), (566, 0.01357918785228309), (610, 0.013576375496099882), (1506, 0.013573372665602221), (4188, 0.013567405353929066), (3963, 0.013552622653019722), (1509, 0.01354038946805845), (1604, 0.013538426781840406), (1012, 0.013526945414585283), (4509, 0.013516390295812163), (2847, 0.01348162344476608), (2298, 0.013474545483881613), (322, 0.013446092256822105), (1459, 0.013440760185659824), (4211, 0.013403938987119633), (119, 0.013396631949706049), (4224, 0.013354190152222337), (2616, 0.013351052430969606), (3629, 0.013338093317869497), (4112, 0.013328399108227166), (1846, 0.013301909848568712), (1350, 0.013301002123297968), (740, 0.013296435024504902), (2103, 0.013296081130777737), (1415, 0.013261096937888078), (321, 0.013253487373561513), (292, 0.013248132879709499), (4550, 0.013237540329187517), (3555, 0.013234215788179455), (2150, 0.013223104455098507), (1063, 0.01319331074071275), (1113, 0.01318185916019578), (1368, 0.013174725888168332), (2642, 0.013155846308388851), (3582, 0.013154385972772355), (3156, 0.013151665093039552), (4564, 0.013147709081660377), (3917, 0.013135266468970036), (1293, 0.013124658086611429), (3786, 0.013101703250834481), (2117, 0.013097900947018265), (3568, 0.01309547263514501), (2641, 0.01308482269619467), (687, 0.013068193134032579), (1552, 0.013055390321579045), (1207, 0.013045081710972958), (3410, 0.013024785858381287), (498, 0.01301778761933739), (1273, 0.012995554705777661), (3700, 0.012970110271346872), (4272, 0.012954180382927718), (1895, 0.012863114639651067), (548, 0.012804745379346024), (3135, 0.012789319446942254), (426, 0.012771899676583685), (1898, 0.01276805459345786), (3136, 0.012735510905462556), (3301, 0.01267477255260134), (1135, 0.012671273047527834), (568, 0.012664456062985953), (2093, 0.012628726378552486), (4094, 0.012623407534960515), (2124, 0.012623264541130918), (1789, 0.012609060722657417), (540, 0.012602512470747545), (382, 0.012559261823748539), (4439, 0.012549998750468685), (1987, 0.012534206970819181), (569, 0.012511491976213778), (821, 0.012505604046574862), (1675, 0.012439514899158977), (2803, 0.012426462199465775), (2760, 0.012423187936434226), (4193, 0.012417931731481794), (1567, 0.012369234742967264), (2781, 0.012361825756126031), (1173, 0.012357135104585996), (1809, 0.012340534819187456), (2118, 0.012327071198614746), (1387, 0.01232680006273501), (1310, 0.012324182322111712), (1366, 0.01231726144767671), (3600, 0.012312860284818872), (2426, 0.012307657795567308), (2065, 0.012267784800452586), (501, 0.012261691889061965), (327, 0.012249171021012402), (2185, 0.012232702956454115), (3795, 0.012214633250215984), (323, 0.012214323490595012), (954, 0.012203895591044494), (2389, 0.012180087509980082), (3099, 0.012145638705656409), (519, 0.012056497341044772), (4739, 0.012009756229366973), (1283, 0.012008256817841564), (2237, 0.011981902622487748), (32, 0.0119744732617472), (1797, 0.01197113107360444), (2433, 0.011957658126380942), (3232, 0.01193868990067198), (1301, 0.01192953595311341), (3574, 0.011928072498731205), (2718, 0.011916186817923296), (1764, 0.011836173159203319), (1379, 0.01183539246217251), (165, 0.01180407881293102), (2822, 0.011784478957090007), (3129, 0.011731635555732683), (1309, 0.011686522191357905), (496, 0.011657812754355954), (725, 0.011615885597383274), (1352, 0.011598935769801432), (3065, 0.011598350243262117), (288, 0.011596221422737418), (639, 0.01153038975167089), (3657, 0.011523111377065243), (455, 0.01148541984418053), (2296, 0.011470509516867983), (2127, 0.011463150842153422), (640, 0.01143120680882159), (3215, 0.011419738044523987), (824, 0.01127120636875192), (2034, 0.011249851909324413), (1326, 0.011146891208376263), (290, 0.011142571288626137), (295, 0.01113570047436712), (3458, 0.011088915819597634), (1709, 0.01104222246990385), (1115, 0.01097193253734394), (289, 0.010959368911137104), (3980, 0.010954285331265964), (2774, 0.010911312119159182), (294, 0.010872281175719879), (63, 0.010867428994717765), (2010, 0.010783421353527889), (2365, 0.010557129361540426), (627, 0.0105150202212254), (672, 0.010503201016626886), (3526, 0.010497583618373997), (1418, 0.010495962628615824), (452, 0.010284391674877751), (4418, 0.010198769344705039), (3205, 0.010157010771836172), (3439, 0.010072123426732804), (2324, 0.010019186119847057), (1210, 0.009929235832002031), (3638, 0.00968171288532692), (914, 0.00961484672555756), (4194, 0.009511181875500034), (1051, 0.009497046084406038), (4455, 0.009344911595662189), (4341, 0.009211458715692851), (461, 0.009195928838042414), (3115, 0.00916836415220045), (3377, 0.0090868704981098), (4031, 0.009077643984794815), (3328, 0.008975135509644658), (4454, 0.008958823703463674), (3223, 0.008945701900698568), (3185, 0.008936363794783192), (4516, 0.008904605044781752), (3903, 0.00889464474877606), (4526, 0.008857097082033003), (3703, 0.008790569916556636), (1999, 0.008771819517403944), (3587, 0.008747511253374219), (419, 0.008745904314276933), (4160, 0.008706499527752145), (1474, 0.008660084815135971), (3877, 0.008645961463617948), (2830, 0.008642435828206407), (2218, 0.008633047262024206), (365, 0.008623414963846547), (4034, 0.008615105556035146), (2806, 0.00860002652550391), (3735, 0.008593005901214734), (1725, 0.008584883555205241), (3387, 0.008575231529822862), (362, 0.008573684104563294), (3444, 0.00855981010774739), (1844, 0.008525562257506739), (677, 0.00851027217608136), (3695, 0.00849379235730264), (2575, 0.008487478653293783), (2659, 0.008483386051756456), (4705, 0.008420341400693998), (2171, 0.008389081068195017), (1640, 0.008387159914803849), (4118, 0.008374048442633838), (2768, 0.008371760625463985), (340, 0.008343448281363184), (4492, 0.008341851324710943), (2637, 0.008337299289941907), (1228, 0.008333105384616502), (4269, 0.008329452390513513), (4351, 0.00832760960375536), (996, 0.008310525021173706), (4347, 0.008309752559166333), (2725, 0.008304848423704542), (2609, 0.008282763152741141), (1333, 0.008280972880844556), (3461, 0.008277428845126427), (361, 0.008243118778800988), (4202, 0.008235088714642595), (301, 0.008214342807015532), (2755, 0.008211250743087158), (2989, 0.008206392591993177), (1401, 0.00819989928207772), (4323, 0.008179477819232287), (1389, 0.008177221588411415), (1955, 0.008156795762920332), (4354, 0.008123455163046606), (2249, 0.008120926735594612), (1965, 0.008111125660265405), (3871, 0.008104986858797148), (1475, 0.008095307792735179), (586, 0.00808903105482001), (3287, 0.00802778286689565), (2667, 0.00802516268181221), (4709, 0.008005205525179734), (2332, 0.008002344280609081), (1961, 0.007999803638892413), (2048, 0.007992595939322973), (4643, 0.007987754692947466), (871, 0.007978822334642297), (2275, 0.007975534756907255), (4666, 0.00797327647595322), (2172, 0.007952361918703396), (4533, 0.007947479771832829), (4663, 0.00794602281174826), (947, 0.007944415998956983), (2990, 0.007928187730628413), (1085, 0.007916494086095969), (3272, 0.007903445373923087), (4288, 0.007900500137645188), (1495, 0.00790038469869013), (2551, 0.007890198231882717), (4221, 0.007874147705935893), (2887, 0.00786839606342564), (2130, 0.007849644183673567), (909, 0.00784855715783268), (4501, 0.007845485840170108), (1175, 0.007836858230579155), (1706, 0.007836143463198135), (2414, 0.007827652039878459), (182, 0.007827339245204824), (3482, 0.007812960983014516), (1388, 0.007799230547920592), (4195, 0.0077606989059577376), (3492, 0.007755862495638028), (2547, 0.007755441590591537), (241, 0.007746341003791534), (4016, 0.007744038274891983), (3805, 0.007742834094741939), (4457, 0.007736794987534881), (4444, 0.007714813859739631), (1238, 0.007712481854281369), (2019, 0.007712155253089953), (2512, 0.007709695669265142), (3058, 0.0076958486221007085), (2569, 0.007673160661587002), (2948, 0.007669534938832909), (1126, 0.007668023931090437), (1598, 0.007665591279829202), (1272, 0.007651254559170363), (3715, 0.007599622109477663), (4218, 0.007595829599203675), (4036, 0.0075875121839219), (2504, 0.007581796414125467), (2645, 0.0075794012897647065), (1607, 0.007562221519014891), (3286, 0.007539287871975658), (4440, 0.007531743399795068), (345, 0.007526165322855744), (1373, 0.007523124766055082), (4646, 0.00750900891750189), (3366, 0.007499694866538933), (1287, 0.00748164211681101), (720, 0.007468559447316777), (2100, 0.007467099758408009), (3826, 0.007465476985060294), (3472, 0.0074612975612782404), (1118, 0.007461232475506227), (4303, 0.007456863863476852), (4606, 0.007455988618915178), (1231, 0.007441227723525427), (3567, 0.007439981104310876), (2795, 0.007437568789977044), (1912, 0.007434690582720193), (2600, 0.007430267624406851), (852, 0.007428209184136812), (1490, 0.007419527755856973), (948, 0.007415496116523393), (1067, 0.007406364278943744), (2050, 0.007404529306583382), (300, 0.007398133157789768), (2473, 0.007395540855515542), (1755, 0.007389466043013847), (1327, 0.00738433776984369), (4428, 0.0073736655815185926), (1738, 0.007371916089992904), (2581, 0.007359536860797656), (53, 0.007358433875193563), (185, 0.00734142549381972), (4292, 0.007316416563089579), (4122, 0.007314233613401725), (1307, 0.007307731829216929), (4569, 0.007289552636452789), (2363, 0.00727810600658804), (650, 0.007270622127973347), (1855, 0.007263314370249096), (670, 0.007258039664352294), (3121, 0.00725211430880301), (3588, 0.007235996098324062), (2590, 0.007228837681353011), (921, 0.00722714789619235), (3426, 0.007223705454404956), (935, 0.007222819687809871), (4443, 0.007214667459567711), (2615, 0.007213538857150198), (2183, 0.007201001951377399), (4723, 0.007200799740586491), (4653, 0.007200598669306028), (2188, 0.007187559701619883), (1514, 0.007186643855383546), (2077, 0.00718249827553643), (4009, 0.007175126746430086), (2459, 0.007168383902242884), (1114, 0.007152438525109043), (4631, 0.007151876965621159), (409, 0.007149326564326192), (2415, 0.007146396311496036), (1079, 0.007141028117693972), (3395, 0.0071336625525648244), (3554, 0.00712928056388601), (920, 0.00712877988331814), (457, 0.007127178883462247), (1308, 0.007124464785530392), (2778, 0.007121334336529176), (4698, 0.00710558278923255), (2920, 0.007105065686755077), (1242, 0.007103875240012598), (1288, 0.007065461619370677), (1941, 0.007048921205658526), (1503, 0.007040652752797817), (428, 0.007010887575563655), (512, 0.006999900741626862), (2741, 0.006991894121011802), (4074, 0.006988330681886546), (699, 0.006983325693824406), (2772, 0.006976461598002434), (1016, 0.006975221340803203), (3397, 0.006968993391323851), (1219, 0.0069663895905563026), (3327, 0.00696531044778204), (795, 0.006960929908497151), (4642, 0.006950260910089769), (594, 0.006940863268031169), (904, 0.006932733620106727), (2378, 0.006930956203203769), (1968, 0.006916342914088201), (2720, 0.006902536081080215), (1601, 0.0068928036787355386), (882, 0.006883537121131983), (3275, 0.006883533725421362), (4477, 0.006880524823753557), (1540, 0.006879845053165572), (3598, 0.0068741357235448065), (3785, 0.0068633524616355185), (3440, 0.006842778418748651), (3312, 0.006840436485423424), (3450, 0.006839958897873406), (753, 0.006827029044388742), (277, 0.006825940214524421), (4597, 0.006823717074949193), (905, 0.006812790139678845), (1090, 0.006812660493659925), (3947, 0.006805842880392092), (3708, 0.0067999461484467335), (3803, 0.0067941757923112925), (1194, 0.006784661247383572), (2012, 0.006772958088124996), (3394, 0.006772216403685199), (2625, 0.006766404791822426), (3165, 0.006764447471312714), (2676, 0.006753330840057944), (4244, 0.006747033809437447), (125, 0.006742273084230782), (38, 0.006730471242199678), (242, 0.006723328526977977), (1397, 0.006715259796448356), (4741, 0.006711149511061668), (1521, 0.006706725468248511), (4121, 0.006698432048680614), (1850, 0.006697893420504177), (3253, 0.006697337642100061), (2864, 0.006694486635741611), (2181, 0.006684924294448617), (2881, 0.006670147348462451), (3383, 0.006668651552318099), (286, 0.006663651939057581), (2576, 0.006662700748330295), (2688, 0.006662190888292602), (3680, 0.006659781748345357), (4462, 0.006655480639941449), (2470, 0.006651643558623703), (1833, 0.006649433165883789), (683, 0.006648720684686362), (4393, 0.0066437750513992895), (1560, 0.006636656418421209), (2352, 0.006636536721906626), (3168, 0.006631682091522906), (3373, 0.006628662954953511), (533, 0.006624115072435154), (682, 0.006623662352376266), (2006, 0.0066224981850492425), (1023, 0.006620110666823044), (1050, 0.006615551965601402), (139, 0.006607793482680662), (40, 0.006606470322129493), (4630, 0.006604571439589998), (4185, 0.006604352586862767), (2810, 0.006600526109109263), (3221, 0.006587069422648544), (3593, 0.0065743627549471875), (4293, 0.00657187248346241), (458, 0.006571446854569638), (2840, 0.006568567890586234), (729, 0.0065673652961009375), (1332, 0.006561814990969078), (951, 0.006555472514067215), (2383, 0.006548407046059625), (4119, 0.006545769401129582), (4549, 0.006533333756548688), (4144, 0.0065292995471350835), (688, 0.006524122289310573), (58, 0.006511206665390654), (2040, 0.006506418855604113), (3192, 0.006506225583527637), (3091, 0.006499766615506449), (4619, 0.00649799888497858), (3097, 0.0064941204484648745), (726, 0.006493092134656285), (595, 0.006477131541513043), (1454, 0.006468757850873092), (3604, 0.006468670806138196), (162, 0.006468568158755781), (1681, 0.006465836910254204), (2626, 0.006463656757833962), (1221, 0.006455983304171422), (3424, 0.006452595880032506), (2811, 0.006449459474025178), (123, 0.00644347587054606), (673, 0.006426896411338461), (1162, 0.006425281417625135), (4116, 0.006420803872822362), (3044, 0.006419731081546035), (3263, 0.006416009921316199), (3064, 0.006408394794793522), (57, 0.006404366350466821), (1883, 0.0064021550868058425), (513, 0.0064021462302508055), (2979, 0.0063984991850941815), (1511, 0.006395220429735103), (2082, 0.006389168518112498), (514, 0.006386822466701493), (3642, 0.006386423403302063), (3771, 0.006378976039692254), (4659, 0.006355376315365931), (728, 0.006352124114278693), (4656, 0.006350714207129251), (4436, 0.006350651257025179), (2880, 0.0063475094924304015), (210, 0.006347313805078701), (381, 0.006342442904584537), (4726, 0.006333387875364125), (3112, 0.00633295538347758), (1770, 0.006332693741078117), (4727, 0.006326785583540409), (2243, 0.006317129128177004), (3451, 0.006312488410521493), (2028, 0.006307383998671097), (1537, 0.006305393260517779), (2670, 0.0063038928366957155), (4131, 0.006302428448221944), (237, 0.0062999164421496156), (1732, 0.00629455674495039), (1141, 0.006293857180143298), (180, 0.006293447315849843), (4005, 0.006293022259604119), (1659, 0.006277436106213403), (10, 0.006276216686962748), (3297, 0.006257934729511383), (2361, 0.006246907761076653), (68, 0.006246030518836838), (1687, 0.006244358615585223), (2364, 0.006243548568456344), (2819, 0.0062389010112070134), (4384, 0.006237889987595255), (4233, 0.0062378228702652805), (1989, 0.006237080953455666), (1853, 0.0062338697409483265), (2714, 0.006232981342792313), (4519, 0.006229900131334731), (1484, 0.0062298242565573345), (4045, 0.006221940148231235), (1822, 0.0062169952053933), (4033, 0.006213161568896876), (470, 0.006211475472467623), (3259, 0.006211087853547031), (654, 0.006207257237979233), (4392, 0.006201546165387071), (2959, 0.006199931845310681), (4410, 0.00619790252388411), (1393, 0.006183947359211825), (143, 0.0061781144104069135), (2754, 0.006174464073248036), (2088, 0.006170382246969866), (4430, 0.006166174173274955), (845, 0.006165676418567713), (1736, 0.006165392696473871), (2083, 0.00616336367969855), (3862, 0.006150880580453146), (1229, 0.006148522406745963), (3514, 0.006148353002831359), (3591, 0.006146721797660905), (928, 0.006145915057347192), (3310, 0.00614391079474281), (4629, 0.006143786189540717), (2085, 0.006136040451548237), (1432, 0.006134718544538827), (1024, 0.00613401838333263), (4586, 0.006132588829994486), (386, 0.006132540473210511), (2241, 0.00612425017669588), (1727, 0.006123383942245131), (4390, 0.00612001004654183), (1949, 0.006105680663699093), (3507, 0.0061052396254724), (4716, 0.006103887564422126), (4379, 0.006101997647801628), (2238, 0.00609915099804745), (2780, 0.006098025474690589), (1847, 0.006080628536130514), (4249, 0.006076651164316327), (1443, 0.0060762594572567035), (4745, 0.0060755541496264), (1516, 0.006065288559283316), (2668, 0.006059775080646035), (3152, 0.00605974817015858), (926, 0.0060566677620702706), (2867, 0.0060559433261994115), (2276, 0.0060495327455687324), (809, 0.006046264760529455), (869, 0.006038387886385181), (4376, 0.006038121138094979), (3169, 0.0060375986447695545), (4098, 0.0060369151296410664), (2947, 0.006036353632333908), (4088, 0.006035464260181567), (1564, 0.006031750815227267), (3522, 0.006027571877719864), (4093, 0.006024428764491095), (1174, 0.0060207547734652455), (908, 0.006016570968618803), (4684, 0.006010072687109733), (1740, 0.00600780413449075), (421, 0.0060056812039001005), (3603, 0.006001818180993504), (1122, 0.005995957760358693), (2788, 0.0059957945087957725), (3707, 0.005994089491178056), (2210, 0.0059879415817415205), (994, 0.005985070624878636), (4068, 0.005983219022909715), (353, 0.005981447541246133), (1302, 0.005973281824799104), (4255, 0.0059702334671662294), (1599, 0.005962910359177612), (1751, 0.005958634106456564), (2474, 0.005957760397513354), (3002, 0.005951706070963302), (3676, 0.005951573405851419), (1985, 0.0059510887902755934), (1335, 0.005948060121188632), (1510, 0.0059455822542688105), (775, 0.005940814401564235), (3210, 0.005940590214827766), (4503, 0.005939648972922995), (3227, 0.0059382246743970414), (1512, 0.005927780838984732), (1876, 0.0059232511647408885), (4435, 0.005917514893798383), (494, 0.005916453240049582), (560, 0.005907229488566506), (4001, 0.005899332830721641), (1172, 0.005896575736888131), (1419, 0.005896435975473807), (986, 0.005884922691396143), (3416, 0.005883906724928687), (3343, 0.005883461441510152), (1455, 0.005882261816379864), (2212, 0.005876650958876561), (3174, 0.005873695130136831), (1581, 0.005872280553758219), (2943, 0.005868251619390069), (4148, 0.005866373058482371), (3807, 0.005858538575012268), (4248, 0.005854541851756816), (181, 0.005850215065847327), (2562, 0.005846791569404951), (3432, 0.00584627640181924), (3374, 0.00584478410057927), (4708, 0.005844434398281437), (1483, 0.005843738028001746), (3441, 0.005841046129655737), (3340, 0.005838040211640097), (1504, 0.005833012385513604), (1442, 0.005830604304439007), (1226, 0.0058301233845285075), (1692, 0.005827140202066627), (4241, 0.005824592576446414), (2825, 0.005818039879208996), (534, 0.005816762456360369), (233, 0.005812650039481733), (3443, 0.005808998333771928), (1257, 0.005803484190540983), (1127, 0.005796638240814403), (3546, 0.005793596981939013), (1314, 0.005793522908036283), (3814, 0.0057928162931215835), (1338, 0.005792512720844702), (3602, 0.005790833227772938), (727, 0.005786241395600063), (1937, 0.005784928178254992), (4020, 0.005777786741188242), (2910, 0.005762313132294607), (244, 0.005761431661856989), (1406, 0.005755954030191966), (3706, 0.00574765520394656), (4743, 0.0057464239487932485), (2239, 0.005744835497228705), (500, 0.005742531868952013), (4039, 0.005741066645779142), (217, 0.005740329501840507), (230, 0.0057354047003760926), (1096, 0.00572959598556753), (4534, 0.005728002326497702), (1017, 0.005724398041161838), (1035, 0.005721423998387473), (328, 0.005719886924231645), (4682, 0.005714691458870401), (3531, 0.005712310723971118), (825, 0.005711950161741038), (4573, 0.005709296416299758), (4673, 0.005704176798331294), (651, 0.005685946632816996), (3660, 0.005679370636688034), (1076, 0.0056770567789450775), (4543, 0.005672701379990564), (223, 0.005671213915550548), (1544, 0.00565350932277405), (1545, 0.005647571030317799), (3126, 0.005640104582391824), (1478, 0.00563968591432382), (2024, 0.005639678844373816), (2206, 0.00562934909094478), (4481, 0.005627023337917599), (3085, 0.005626238433707182), (854, 0.005620585966061786), (3978, 0.005617449583947925), (2540, 0.005613071115629618), (2962, 0.005604391130106175), (2787, 0.00560014755315178), (2706, 0.005599050832009785), (144, 0.005596802992960511), (644, 0.005594695361123798), (3465, 0.005594004665238219), (1274, 0.005593086005792961), (2224, 0.0055885124033145175), (827, 0.005587127374864792), (4345, 0.005586374910035972), (2751, 0.005584916144564077), (1818, 0.005580954321093451), (4037, 0.0055791575411764886), (3794, 0.005578210646532644), (336, 0.005569257435751974), (878, 0.00556263147297418), (1054, 0.005561175374382154), (641, 0.005560801189981745), (4012, 0.005558357080500138), (3723, 0.00555806512018519), (2166, 0.005546552093435059), (3466, 0.005544344835203722), (1973, 0.0055402624931822336), (3609, 0.0055377626877552745), (4690, 0.005523108135033308), (2885, 0.005521162854158114), (974, 0.005513246027973621), (1721, 0.005511007919390043), (4568, 0.005504781261280893), (2634, 0.005502973354106653), (2052, 0.005492455985946653), (2862, 0.00548862733523043), (2958, 0.005486726109738099), (690, 0.005479552564402506), (4591, 0.005477478765407513), (866, 0.005475053691034121), (3143, 0.005469767095769952), (532, 0.0054688129297988395), (868, 0.0054680957518334706), (2742, 0.005468055714314662), (1183, 0.005466553803145195), (4325, 0.005462633758480324), (2513, 0.005462176344104681), (2429, 0.005459333722177234), (2777, 0.005449442700673807), (1823, 0.005449033868783897), (3993, 0.005441406468574094), (2399, 0.005436392930096307), (2315, 0.005428405924695556), (1357, 0.005427376789679566), (122, 0.00542521622908139), (2274, 0.00541897425612219), (669, 0.005418927900633579), (4649, 0.005408608583585307), (411, 0.0054057080163200065), (2791, 0.005401213456540778), (4274, 0.005400273502180967), (4186, 0.005391144963430381), (4600, 0.00538964794052694), (3738, 0.005386868719129511), (1714, 0.005384557809879331), (1259, 0.005382938108315614), (1065, 0.005382901606331782), (1796, 0.00537354738388783), (3130, 0.005372808482046076), (2033, 0.005357069185180424), (1680, 0.00534874882166004), (148, 0.0053444362975552), (3267, 0.005343908771694639), (4044, 0.005343710474558937), (3860, 0.0053397704676337795), (2424, 0.005338185139624425), (170, 0.005336158591540791), (3311, 0.005327470162834569), (4647, 0.005325566257879054), (632, 0.005322792000464255), (3336, 0.0053009389532689966), (334, 0.005299436605730822), (1000, 0.005297176185300555), (804, 0.005297072232464513), (4143, 0.005293955995851806), (800, 0.005293601662593386), (4590, 0.0052736341853347616), (3556, 0.005265911387500666), (1870, 0.005263840186000238), (3070, 0.005260876100760921), (1977, 0.0052436534305724735), (2935, 0.005230563048164547), (4608, 0.005226295006880464), (4450, 0.0052206996451932795), (4661, 0.005220468045670341), (1290, 0.0052176141377403), (495, 0.005208967568962928), (92, 0.005182917259279309), (851, 0.005159343971636128), (2820, 0.005151276837605416), (3637, 0.0051504020875775035), (4553, 0.0051497033848883576), (1348, 0.005129969401523649), (2971, 0.005124439998461248), (653, 0.0051241086184009845), (3525, 0.00512011832328135), (4353, 0.0051145356240455625), (2412, 0.005113805000164587), (4429, 0.005113541219542989), (4114, 0.005111352012140595), (3684, 0.005111184613053674), (2842, 0.005091911109095901), (1828, 0.005081757462445716), (3339, 0.005068327951165161), (269, 0.005053519201956834), (3958, 0.0050505151625980255), (3776, 0.005043931129638499), (779, 0.0050343249302510175), (1627, 0.005034321185076643), (2020, 0.005023636033639996), (1781, 0.005011095381332916), (4095, 0.004998096866751564), (1971, 0.004991860068901337), (723, 0.004985669389357409), (3668, 0.00498492667576368), (621, 0.004982959807040716), (1010, 0.004981214304335829), (2197, 0.004981164625299581), (3658, 0.00494892124963441), (1214, 0.004938387189066912), (4733, 0.004914056321639793), (1092, 0.004908849446382167), (44, 0.004902517780110793), (2227, 0.004893803360138151), (2969, 0.004884616308582473), (442, 0.0048833463904864784), (3024, 0.00487190638607615), (2844, 0.004864128868085586), (2025, 0.004858264795974088), (88, 0.00485754578140436), (738, 0.004851695786615973), (2913, 0.0048306433551038004), (2697, 0.0048214288852296335), (1369, 0.004820313874707601), (435, 0.004775565071374016), (1377, 0.004750813507336708), (2908, 0.004732766703394226), (719, 0.004731433026758966), (1576, 0.004717270249470427), (668, 0.004659345144519493), (1320, 0.0046232031426834495), (159, 0.004609354024050382), (2113, 0.004608668003407339), (1417, 0.004597249650351503), (2767, 0.00459476292872042), (3946, 0.004567183003869027), (1728, 0.004549494278047878), (271, 0.00451352887278622), (1005, 0.004501561458028632), (4445, 0.0044212427900901284), (296, 0.004413993313905336), (332, 0.004409800328007411), (1276, 0.004392798443642747), (1471, 0.004367362134708174), (929, 0.004248418424628853), (4752, 0.004218629857643616), (3365, 0.0041532399451073634), (542, 0.004129932201642808), (1153, 0.004129301571221384), (0, 0.0), (2, 0.0), (3, 0.0), (4, 0.0), (5, 0.0), (8, 0.0), (11, 0.0), (12, 0.0), (14, 0.0), (16, 0.0), (18, 0.0), (20, 0.0), (21, 0.0), (23, 0.0), (24, 0.0), (25, 0.0), (26, 0.0), (30, 0.0), (34, 0.0), (42, 0.0), (43, 0.0), (47, 0.0), (51, 0.0), (52, 0.0), (60, 0.0), (62, 0.0), (66, 0.0), (71, 0.0), (81, 0.0), (83, 0.0), (86, 0.0), (87, 0.0), (89, 0.0), (97, 0.0), (98, 0.0), (99, 0.0), (100, 0.0), (103, 0.0), (104, 0.0), (105, 0.0), (106, 0.0), (107, 0.0), (108, 0.0), (110, 0.0), (111, 0.0), (112, 0.0), (113, 0.0), (114, 0.0), (115, 0.0), (117, 0.0), (120, 0.0), (124, 0.0), (126, 0.0), (127, 0.0), (131, 0.0), (132, 0.0), (134, 0.0), (136, 0.0), (138, 0.0), (140, 0.0), (141, 0.0), (142, 0.0), (145, 0.0), (146, 0.0), (147, 0.0), (149, 0.0), (155, 0.0), (156, 0.0), (157, 0.0), (158, 0.0), (161, 0.0), (163, 0.0), (164, 0.0), (166, 0.0), (167, 0.0), (168, 0.0), (169, 0.0), (172, 0.0), (173, 0.0), (174, 0.0), (175, 0.0), (177, 0.0), (178, 0.0), (183, 0.0), (186, 0.0), (188, 0.0), (190, 0.0), (195, 0.0), (197, 0.0), (198, 0.0), (199, 0.0), (200, 0.0), (202, 0.0), (203, 0.0), (204, 0.0), (205, 0.0), (206, 0.0), (209, 0.0), (212, 0.0), (213, 0.0), (214, 0.0), (215, 0.0), (216, 0.0), (221, 0.0), (222, 0.0), (224, 0.0), (225, 0.0), (226, 0.0), (227, 0.0), (228, 0.0), (229, 0.0), (235, 0.0), (236, 0.0), (238, 0.0), (243, 0.0), (245, 0.0), (246, 0.0), (248, 0.0), (250, 0.0), (251, 0.0), (254, 0.0), (255, 0.0), (256, 0.0), (262, 0.0), (265, 0.0), (267, 0.0), (268, 0.0), (270, 0.0), (274, 0.0), (275, 0.0), (278, 0.0), (281, 0.0), (282, 0.0), (285, 0.0), (287, 0.0), (291, 0.0), (293, 0.0), (302, 0.0), (304, 0.0), (308, 0.0), (309, 0.0), (311, 0.0), (312, 0.0), (313, 0.0), (317, 0.0), (318, 0.0), (324, 0.0), (325, 0.0), (326, 0.0), (329, 0.0), (330, 0.0), (331, 0.0), (335, 0.0), (338, 0.0), (341, 0.0), (342, 0.0), (343, 0.0), (344, 0.0), (346, 0.0), (349, 0.0), (351, 0.0), (355, 0.0), (356, 0.0), (357, 0.0), (358, 0.0), (359, 0.0), (360, 0.0), (366, 0.0), (370, 0.0), (371, 0.0), (374, 0.0), (383, 0.0), (384, 0.0), (385, 0.0), (388, 0.0), (391, 0.0), (392, 0.0), (393, 0.0), (395, 0.0), (396, 0.0), (398, 0.0), (400, 0.0), (403, 0.0), (404, 0.0), (406, 0.0), (407, 0.0), (410, 0.0), (414, 0.0), (415, 0.0), (416, 0.0), (420, 0.0), (423, 0.0), (429, 0.0), (431, 0.0), (432, 0.0), (433, 0.0), (434, 0.0), (437, 0.0), (441, 0.0), (443, 0.0), (444, 0.0), (445, 0.0), (446, 0.0), (447, 0.0), (448, 0.0), (449, 0.0), (450, 0.0), (456, 0.0), (462, 0.0), (463, 0.0), (464, 0.0), (465, 0.0), (466, 0.0), (471, 0.0), (473, 0.0), (476, 0.0), (479, 0.0), (480, 0.0), (481, 0.0), (482, 0.0), (485, 0.0), (487, 0.0), (488, 0.0), (489, 0.0), (490, 0.0), (493, 0.0), (499, 0.0), (502, 0.0), (503, 0.0), (504, 0.0), (505, 0.0), (506, 0.0), (507, 0.0), (508, 0.0), (510, 0.0), (518, 0.0), (520, 0.0), (522, 0.0), (523, 0.0), (524, 0.0), (525, 0.0), (526, 0.0), (527, 0.0), (529, 0.0), (530, 0.0), (531, 0.0), (535, 0.0), (536, 0.0), (538, 0.0), (541, 0.0), (543, 0.0), (549, 0.0), (551, 0.0), (552, 0.0), (556, 0.0), (558, 0.0), (559, 0.0), (562, 0.0), (571, 0.0), (575, 0.0), (576, 0.0), (577, 0.0), (578, 0.0), (579, 0.0), (581, 0.0), (582, 0.0), (583, 0.0), (584, 0.0), (585, 0.0), (587, 0.0), (588, 0.0), (589, 0.0), (593, 0.0), (596, 0.0), (597, 0.0), (598, 0.0), (605, 0.0), (607, 0.0), (609, 0.0), (611, 0.0), (612, 0.0), (616, 0.0), (617, 0.0), (618, 0.0), (620, 0.0), (622, 0.0), (623, 0.0), (624, 0.0), (626, 0.0), (629, 0.0), (630, 0.0), (633, 0.0), (634, 0.0), (636, 0.0), (637, 0.0), (638, 0.0), (642, 0.0), (643, 0.0), (645, 0.0), (646, 0.0), (647, 0.0), (648, 0.0), (652, 0.0), (655, 0.0), (658, 0.0), (659, 0.0), (660, 0.0), (662, 0.0), (667, 0.0), (671, 0.0), (675, 0.0), (676, 0.0), (678, 0.0), (680, 0.0), (685, 0.0), (689, 0.0), (691, 0.0), (693, 0.0), (695, 0.0), (696, 0.0), (697, 0.0), (698, 0.0), (701, 0.0), (703, 0.0), (704, 0.0), (705, 0.0), (706, 0.0), (707, 0.0), (709, 0.0), (712, 0.0), (717, 0.0), (721, 0.0), (722, 0.0), (731, 0.0), (732, 0.0), (734, 0.0), (735, 0.0), (736, 0.0), (737, 0.0), (741, 0.0), (743, 0.0), (744, 0.0), (746, 0.0), (748, 0.0), (752, 0.0), (754, 0.0), (755, 0.0), (757, 0.0), (758, 0.0), (759, 0.0), (760, 0.0), (761, 0.0), (764, 0.0), (765, 0.0), (766, 0.0), (767, 0.0), (768, 0.0), (770, 0.0), (771, 0.0), (773, 0.0), (774, 0.0), (777, 0.0), (780, 0.0), (782, 0.0), (783, 0.0), (784, 0.0), (785, 0.0), (786, 0.0), (787, 0.0), (788, 0.0), (789, 0.0), (790, 0.0), (791, 0.0), (792, 0.0), (794, 0.0), (796, 0.0), (805, 0.0), (806, 0.0), (807, 0.0), (808, 0.0), (810, 0.0), (813, 0.0), (814, 0.0), (815, 0.0), (816, 0.0), (817, 0.0), (819, 0.0), (822, 0.0), (823, 0.0), (828, 0.0), (829, 0.0), (830, 0.0), (831, 0.0), (832, 0.0), (836, 0.0), (837, 0.0), (838, 0.0), (840, 0.0), (843, 0.0), (844, 0.0), (846, 0.0), (853, 0.0), (855, 0.0), (857, 0.0), (859, 0.0), (860, 0.0), (861, 0.0), (863, 0.0), (864, 0.0), (865, 0.0), (867, 0.0), (870, 0.0), (874, 0.0), (879, 0.0), (880, 0.0), (881, 0.0), (883, 0.0), (884, 0.0), (885, 0.0), (886, 0.0), (887, 0.0), (888, 0.0), (889, 0.0), (890, 0.0), (893, 0.0), (894, 0.0), (896, 0.0), (897, 0.0), (898, 0.0), (899, 0.0), (900, 0.0), (901, 0.0), (906, 0.0), (907, 0.0), (910, 0.0), (916, 0.0), (917, 0.0), (922, 0.0), (924, 0.0), (925, 0.0), (927, 0.0), (930, 0.0), (931, 0.0), (933, 0.0), (937, 0.0), (938, 0.0), (940, 0.0), (941, 0.0), (942, 0.0), (943, 0.0), (949, 0.0), (955, 0.0), (957, 0.0), (960, 0.0), (961, 0.0), (962, 0.0), (968, 0.0), (969, 0.0), (970, 0.0), (971, 0.0), (972, 0.0), (973, 0.0), (975, 0.0), (976, 0.0), (978, 0.0), (979, 0.0), (980, 0.0), (982, 0.0), (983, 0.0), (984, 0.0), (985, 0.0), (987, 0.0), (988, 0.0), (989, 0.0), (991, 0.0), (993, 0.0), (995, 0.0), (998, 0.0), (999, 0.0), (1002, 0.0), (1004, 0.0), (1006, 0.0), (1008, 0.0), (1009, 0.0), (1018, 0.0), (1019, 0.0), (1020, 0.0), (1021, 0.0), (1025, 0.0), (1026, 0.0), (1027, 0.0), (1029, 0.0), (1033, 0.0), (1034, 0.0), (1036, 0.0), (1037, 0.0), (1038, 0.0), (1039, 0.0), (1040, 0.0), (1041, 0.0), (1042, 0.0), (1043, 0.0), (1047, 0.0), (1048, 0.0), (1049, 0.0), (1052, 0.0), (1053, 0.0), (1058, 0.0), (1061, 0.0), (1062, 0.0), (1064, 0.0), (1068, 0.0), (1070, 0.0), (1071, 0.0), (1072, 0.0), (1073, 0.0), (1075, 0.0), (1077, 0.0), (1078, 0.0), (1080, 0.0), (1081, 0.0), (1084, 0.0), (1086, 0.0), (1088, 0.0), (1089, 0.0), (1093, 0.0), (1094, 0.0), (1098, 0.0), (1100, 0.0), (1104, 0.0), (1106, 0.0), (1107, 0.0), (1109, 0.0), (1110, 0.0), (1112, 0.0), (1116, 0.0), (1117, 0.0), (1119, 0.0), (1121, 0.0), (1124, 0.0), (1125, 0.0), (1128, 0.0), (1130, 0.0), (1131, 0.0), (1132, 0.0), (1133, 0.0), (1136, 0.0), (1139, 0.0), (1142, 0.0), (1144, 0.0), (1145, 0.0), (1147, 0.0), (1149, 0.0), (1152, 0.0), (1155, 0.0), (1156, 0.0), (1157, 0.0), (1158, 0.0), (1160, 0.0), (1161, 0.0), (1163, 0.0), (1166, 0.0), (1167, 0.0), (1168, 0.0), (1169, 0.0), (1170, 0.0), (1176, 0.0), (1177, 0.0), (1178, 0.0), (1180, 0.0), (1181, 0.0), (1182, 0.0), (1186, 0.0), (1187, 0.0), (1188, 0.0), (1189, 0.0), (1190, 0.0), (1191, 0.0), (1196, 0.0), (1197, 0.0), (1199, 0.0), (1200, 0.0), (1201, 0.0), (1202, 0.0), (1203, 0.0), (1204, 0.0), (1208, 0.0), (1209, 0.0), (1211, 0.0), (1213, 0.0), (1215, 0.0), (1216, 0.0), (1217, 0.0), (1218, 0.0), (1220, 0.0), (1222, 0.0), (1223, 0.0), (1224, 0.0), (1227, 0.0), (1232, 0.0), (1234, 0.0), (1235, 0.0), (1236, 0.0), (1237, 0.0), (1239, 0.0), (1243, 0.0), (1246, 0.0), (1247, 0.0), (1248, 0.0), (1255, 0.0), (1260, 0.0), (1261, 0.0), (1264, 0.0), (1268, 0.0), (1270, 0.0), (1271, 0.0), (1275, 0.0), (1277, 0.0), (1278, 0.0), (1279, 0.0), (1284, 0.0), (1286, 0.0), (1289, 0.0), (1297, 0.0), (1298, 0.0), (1299, 0.0), (1300, 0.0), (1303, 0.0), (1304, 0.0), (1305, 0.0), (1311, 0.0), (1312, 0.0), (1313, 0.0), (1316, 0.0), (1317, 0.0), (1318, 0.0), (1319, 0.0), (1323, 0.0), (1325, 0.0), (1329, 0.0), (1330, 0.0), (1331, 0.0), (1334, 0.0), (1339, 0.0), (1340, 0.0), (1342, 0.0), (1343, 0.0), (1344, 0.0), (1345, 0.0), (1347, 0.0), (1349, 0.0), (1353, 0.0), (1355, 0.0), (1362, 0.0), (1363, 0.0), (1364, 0.0), (1367, 0.0), (1370, 0.0), (1371, 0.0), (1372, 0.0), (1375, 0.0), (1376, 0.0), (1382, 0.0), (1390, 0.0), (1391, 0.0), (1394, 0.0), (1395, 0.0), (1399, 0.0), (1402, 0.0), (1403, 0.0), (1404, 0.0), (1407, 0.0), (1410, 0.0), (1411, 0.0), (1414, 0.0), (1416, 0.0), (1420, 0.0), (1421, 0.0), (1423, 0.0), (1424, 0.0), (1425, 0.0), (1426, 0.0), (1427, 0.0), (1428, 0.0), (1429, 0.0), (1430, 0.0), (1434, 0.0), (1438, 0.0), (1444, 0.0), (1445, 0.0), (1446, 0.0), (1447, 0.0), (1448, 0.0), (1449, 0.0), (1450, 0.0), (1451, 0.0), (1453, 0.0), (1456, 0.0), (1457, 0.0), (1461, 0.0), (1462, 0.0), (1463, 0.0), (1464, 0.0), (1465, 0.0), (1472, 0.0), (1473, 0.0), (1476, 0.0), (1479, 0.0), (1480, 0.0), (1482, 0.0), (1485, 0.0), (1487, 0.0), (1488, 0.0), (1491, 0.0), (1493, 0.0), (1496, 0.0), (1497, 0.0), (1498, 0.0), (1499, 0.0), (1500, 0.0), (1501, 0.0), (1507, 0.0), (1508, 0.0), (1517, 0.0), (1518, 0.0), (1519, 0.0), (1520, 0.0), (1523, 0.0), (1524, 0.0), (1526, 0.0), (1528, 0.0), (1531, 0.0), (1532, 0.0), (1533, 0.0), (1534, 0.0), (1538, 0.0), (1539, 0.0), (1541, 0.0), (1542, 0.0), (1549, 0.0), (1550, 0.0), (1551, 0.0), (1553, 0.0), (1556, 0.0), (1557, 0.0), (1558, 0.0), (1559, 0.0), (1561, 0.0), (1562, 0.0), (1563, 0.0), (1565, 0.0), (1569, 0.0), (1573, 0.0), (1574, 0.0), (1578, 0.0), (1580, 0.0), (1582, 0.0), (1583, 0.0), (1585, 0.0), (1586, 0.0), (1588, 0.0), (1589, 0.0), (1593, 0.0), (1594, 0.0), (1595, 0.0), (1596, 0.0), (1597, 0.0), (1602, 0.0), (1605, 0.0), (1606, 0.0), (1609, 0.0), (1612, 0.0), (1614, 0.0), (1616, 0.0), (1617, 0.0), (1619, 0.0), (1620, 0.0), (1621, 0.0), (1622, 0.0), (1623, 0.0), (1625, 0.0), (1626, 0.0), (1629, 0.0), (1631, 0.0), (1632, 0.0), (1634, 0.0), (1635, 0.0), (1636, 0.0), (1637, 0.0), (1639, 0.0), (1641, 0.0), (1642, 0.0), (1643, 0.0), (1644, 0.0), (1646, 0.0), (1647, 0.0), (1648, 0.0), (1652, 0.0), (1654, 0.0), (1655, 0.0), (1658, 0.0), (1660, 0.0), (1661, 0.0), (1666, 0.0), (1667, 0.0), (1668, 0.0), (1669, 0.0), (1670, 0.0), (1671, 0.0), (1672, 0.0), (1673, 0.0), (1674, 0.0), (1676, 0.0), (1679, 0.0), (1682, 0.0), (1683, 0.0), (1684, 0.0), (1688, 0.0), (1689, 0.0), (1690, 0.0), (1691, 0.0), (1693, 0.0), (1694, 0.0), (1695, 0.0), (1698, 0.0), (1699, 0.0), (1702, 0.0), (1703, 0.0), (1704, 0.0), (1710, 0.0), (1715, 0.0), (1717, 0.0), (1718, 0.0), (1719, 0.0), (1720, 0.0), (1722, 0.0), (1724, 0.0), (1726, 0.0), (1729, 0.0), (1730, 0.0), (1733, 0.0), (1737, 0.0), (1739, 0.0), (1741, 0.0), (1742, 0.0), (1744, 0.0), (1746, 0.0), (1752, 0.0), (1753, 0.0), (1757, 0.0), (1759, 0.0), (1760, 0.0), (1761, 0.0), (1762, 0.0), (1763, 0.0), (1767, 0.0), (1771, 0.0), (1773, 0.0), (1774, 0.0), (1775, 0.0), (1777, 0.0), (1778, 0.0), (1779, 0.0), (1780, 0.0), (1782, 0.0), (1784, 0.0), (1785, 0.0), (1786, 0.0), (1787, 0.0), (1790, 0.0), (1792, 0.0), (1794, 0.0), (1795, 0.0), (1800, 0.0), (1801, 0.0), (1803, 0.0), (1806, 0.0), (1807, 0.0), (1808, 0.0), (1811, 0.0), (1813, 0.0), (1814, 0.0), (1816, 0.0), (1817, 0.0), (1819, 0.0), (1821, 0.0), (1824, 0.0), (1825, 0.0), (1826, 0.0), (1827, 0.0), (1829, 0.0), (1830, 0.0), (1832, 0.0), (1834, 0.0), (1835, 0.0), (1837, 0.0), (1838, 0.0), (1839, 0.0), (1840, 0.0), (1843, 0.0), (1845, 0.0), (1848, 0.0), (1849, 0.0), (1852, 0.0), (1854, 0.0), (1856, 0.0), (1857, 0.0), (1858, 0.0), (1859, 0.0), (1860, 0.0), (1861, 0.0), (1862, 0.0), (1863, 0.0), (1865, 0.0), (1866, 0.0), (1867, 0.0), (1868, 0.0), (1869, 0.0), (1871, 0.0), (1872, 0.0), (1873, 0.0), (1878, 0.0), (1879, 0.0), (1880, 0.0), (1884, 0.0), (1885, 0.0), (1887, 0.0), (1888, 0.0), (1890, 0.0), (1891, 0.0), (1892, 0.0), (1893, 0.0), (1896, 0.0), (1897, 0.0), (1900, 0.0), (1902, 0.0), (1905, 0.0), (1906, 0.0), (1907, 0.0), (1909, 0.0), (1910, 0.0), (1913, 0.0), (1914, 0.0), (1915, 0.0), (1916, 0.0), (1917, 0.0), (1918, 0.0), (1919, 0.0), (1921, 0.0), (1922, 0.0), (1927, 0.0), (1928, 0.0), (1929, 0.0), (1933, 0.0), (1935, 0.0), (1938, 0.0), (1940, 0.0), (1942, 0.0), (1943, 0.0), (1944, 0.0), (1946, 0.0), (1947, 0.0), (1950, 0.0), (1951, 0.0), (1952, 0.0), (1953, 0.0), (1954, 0.0), (1956, 0.0), (1957, 0.0), (1959, 0.0), (1960, 0.0), (1962, 0.0), (1963, 0.0), (1964, 0.0), (1967, 0.0), (1970, 0.0), (1972, 0.0), (1974, 0.0), (1975, 0.0), (1978, 0.0), (1979, 0.0), (1980, 0.0), (1981, 0.0), (1983, 0.0), (1986, 0.0), (1992, 0.0), (1993, 0.0), (1994, 0.0), (1995, 0.0), (1996, 0.0), (1997, 0.0), (1998, 0.0), (2000, 0.0), (2001, 0.0), (2002, 0.0), (2003, 0.0), (2004, 0.0), (2007, 0.0), (2009, 0.0), (2011, 0.0), (2017, 0.0), (2022, 0.0), (2023, 0.0), (2027, 0.0), (2029, 0.0), (2032, 0.0), (2035, 0.0), (2037, 0.0), (2041, 0.0), (2042, 0.0), (2043, 0.0), (2046, 0.0), (2049, 0.0), (2053, 0.0), (2054, 0.0), (2057, 0.0), (2059, 0.0), (2060, 0.0), (2063, 0.0), (2064, 0.0), (2071, 0.0), (2072, 0.0), (2073, 0.0), (2074, 0.0), (2076, 0.0), (2079, 0.0), (2080, 0.0), (2084, 0.0), (2089, 0.0), (2096, 0.0), (2097, 0.0), (2098, 0.0), (2099, 0.0), (2101, 0.0), (2102, 0.0), (2104, 0.0), (2105, 0.0), (2106, 0.0), (2108, 0.0), (2109, 0.0), (2110, 0.0), (2112, 0.0), (2115, 0.0), (2116, 0.0), (2119, 0.0), (2120, 0.0), (2122, 0.0), (2123, 0.0), (2128, 0.0), (2129, 0.0), (2132, 0.0), (2134, 0.0), (2135, 0.0), (2137, 0.0), (2138, 0.0), (2140, 0.0), (2141, 0.0), (2143, 0.0), (2144, 0.0), (2145, 0.0), (2146, 0.0), (2149, 0.0), (2151, 0.0), (2152, 0.0), (2154, 0.0), (2155, 0.0), (2156, 0.0), (2157, 0.0), (2158, 0.0), (2159, 0.0), (2160, 0.0), (2161, 0.0), (2162, 0.0), (2163, 0.0), (2165, 0.0), (2167, 0.0), (2169, 0.0), (2170, 0.0), (2173, 0.0), (2174, 0.0), (2175, 0.0), (2176, 0.0), (2179, 0.0), (2187, 0.0), (2189, 0.0), (2190, 0.0), (2191, 0.0), (2192, 0.0), (2193, 0.0), (2195, 0.0), (2196, 0.0), (2199, 0.0), (2200, 0.0), (2201, 0.0), (2203, 0.0), (2204, 0.0), (2207, 0.0), (2211, 0.0), (2213, 0.0), (2214, 0.0), (2215, 0.0), (2216, 0.0), (2219, 0.0), (2220, 0.0), (2222, 0.0), (2223, 0.0), (2225, 0.0), (2226, 0.0), (2228, 0.0), (2229, 0.0), (2230, 0.0), (2231, 0.0), (2234, 0.0), (2235, 0.0), (2236, 0.0), (2240, 0.0), (2242, 0.0), (2244, 0.0), (2245, 0.0), (2246, 0.0), (2250, 0.0), (2251, 0.0), (2252, 0.0), (2253, 0.0), (2254, 0.0), (2255, 0.0), (2256, 0.0), (2257, 0.0), (2258, 0.0), (2260, 0.0), (2261, 0.0), (2262, 0.0), (2264, 0.0), (2266, 0.0), (2267, 0.0), (2268, 0.0), (2271, 0.0), (2272, 0.0), (2273, 0.0), (2279, 0.0), (2281, 0.0), (2282, 0.0), (2288, 0.0), (2289, 0.0), (2290, 0.0), (2291, 0.0), (2292, 0.0), (2293, 0.0), (2297, 0.0), (2299, 0.0), (2301, 0.0), (2302, 0.0), (2303, 0.0), (2304, 0.0), (2305, 0.0), (2306, 0.0), (2307, 0.0), (2309, 0.0), (2310, 0.0), (2313, 0.0), (2314, 0.0), (2317, 0.0), (2318, 0.0), (2319, 0.0), (2321, 0.0), (2322, 0.0), (2323, 0.0), (2325, 0.0), (2328, 0.0), (2331, 0.0), (2333, 0.0), (2334, 0.0), (2335, 0.0), (2336, 0.0), (2338, 0.0), (2339, 0.0), (2342, 0.0), (2343, 0.0), (2344, 0.0), (2345, 0.0), (2346, 0.0), (2347, 0.0), (2348, 0.0), (2349, 0.0), (2350, 0.0), (2351, 0.0), (2354, 0.0), (2358, 0.0), (2359, 0.0), (2360, 0.0), (2362, 0.0), (2366, 0.0), (2367, 0.0), (2368, 0.0), (2369, 0.0), (2370, 0.0), (2371, 0.0), (2372, 0.0), (2373, 0.0), (2374, 0.0), (2375, 0.0), (2376, 0.0), (2377, 0.0), (2379, 0.0), (2380, 0.0), (2382, 0.0), (2384, 0.0), (2386, 0.0), (2387, 0.0), (2388, 0.0), (2390, 0.0), (2391, 0.0), (2392, 0.0), (2393, 0.0), (2394, 0.0), (2395, 0.0), (2396, 0.0), (2397, 0.0), (2398, 0.0), (2400, 0.0), (2401, 0.0), (2402, 0.0), (2403, 0.0), (2404, 0.0), (2405, 0.0), (2407, 0.0), (2408, 0.0), (2410, 0.0), (2411, 0.0), (2416, 0.0), (2417, 0.0), (2418, 0.0), (2420, 0.0), (2422, 0.0), (2423, 0.0), (2425, 0.0), (2435, 0.0), (2436, 0.0), (2437, 0.0), (2438, 0.0), (2440, 0.0), (2441, 0.0), (2445, 0.0), (2446, 0.0), (2448, 0.0), (2449, 0.0), (2452, 0.0), (2454, 0.0), (2455, 0.0), (2456, 0.0), (2457, 0.0), (2458, 0.0), (2460, 0.0), (2461, 0.0), (2462, 0.0), (2463, 0.0), (2464, 0.0), (2465, 0.0), (2467, 0.0), (2469, 0.0), (2475, 0.0), (2477, 0.0), (2478, 0.0), (2480, 0.0), (2481, 0.0), (2483, 0.0), (2485, 0.0), (2486, 0.0), (2487, 0.0), (2489, 0.0), (2490, 0.0), (2491, 0.0), (2494, 0.0), (2495, 0.0), (2497, 0.0), (2498, 0.0), (2502, 0.0), (2503, 0.0), (2505, 0.0), (2507, 0.0), (2508, 0.0), (2509, 0.0), (2511, 0.0), (2514, 0.0), (2515, 0.0), (2516, 0.0), (2517, 0.0), (2518, 0.0), (2519, 0.0), (2520, 0.0), (2523, 0.0), (2526, 0.0), (2529, 0.0), (2533, 0.0), (2534, 0.0), (2535, 0.0), (2536, 0.0), (2537, 0.0), (2538, 0.0), (2542, 0.0), (2543, 0.0), (2545, 0.0), (2546, 0.0), (2548, 0.0), (2552, 0.0), (2553, 0.0), (2556, 0.0), (2557, 0.0), (2558, 0.0), (2560, 0.0), (2561, 0.0), (2563, 0.0), (2564, 0.0), (2566, 0.0), (2568, 0.0), (2572, 0.0), (2577, 0.0), (2580, 0.0), (2582, 0.0), (2583, 0.0), (2585, 0.0), (2587, 0.0), (2588, 0.0), (2589, 0.0), (2592, 0.0), (2593, 0.0), (2595, 0.0), (2596, 0.0), (2597, 0.0), (2598, 0.0), (2601, 0.0), (2602, 0.0), (2604, 0.0), (2606, 0.0), (2607, 0.0), (2608, 0.0), (2610, 0.0), (2612, 0.0), (2613, 0.0), (2614, 0.0), (2617, 0.0), (2619, 0.0), (2621, 0.0), (2624, 0.0), (2628, 0.0), (2630, 0.0), (2631, 0.0), (2632, 0.0), (2633, 0.0), (2635, 0.0), (2638, 0.0), (2639, 0.0), (2643, 0.0), (2648, 0.0), (2650, 0.0), (2651, 0.0), (2652, 0.0), (2654, 0.0), (2655, 0.0), (2656, 0.0), (2658, 0.0), (2660, 0.0), (2662, 0.0), (2663, 0.0), (2664, 0.0), (2665, 0.0), (2669, 0.0), (2673, 0.0), (2675, 0.0), (2677, 0.0), (2678, 0.0), (2679, 0.0), (2683, 0.0), (2684, 0.0), (2685, 0.0), (2686, 0.0), (2687, 0.0), (2690, 0.0), (2692, 0.0), (2693, 0.0), (2695, 0.0), (2696, 0.0), (2698, 0.0), (2699, 0.0), (2700, 0.0), (2703, 0.0), (2704, 0.0), (2705, 0.0), (2709, 0.0), (2712, 0.0), (2716, 0.0), (2717, 0.0), (2719, 0.0), (2721, 0.0), (2722, 0.0), (2726, 0.0), (2727, 0.0), (2728, 0.0), (2730, 0.0), (2731, 0.0), (2732, 0.0), (2733, 0.0), (2734, 0.0), (2735, 0.0), (2736, 0.0), (2737, 0.0), (2738, 0.0), (2739, 0.0), (2743, 0.0), (2744, 0.0), (2745, 0.0), (2746, 0.0), (2747, 0.0), (2748, 0.0), (2750, 0.0), (2752, 0.0), (2753, 0.0), (2757, 0.0), (2758, 0.0), (2759, 0.0), (2761, 0.0), (2764, 0.0), (2765, 0.0), (2766, 0.0), (2769, 0.0), (2771, 0.0), (2775, 0.0), (2776, 0.0), (2783, 0.0), (2784, 0.0), (2786, 0.0), (2792, 0.0), (2793, 0.0), (2794, 0.0), (2796, 0.0), (2797, 0.0), (2798, 0.0), (2799, 0.0), (2800, 0.0), (2801, 0.0), (2807, 0.0), (2808, 0.0), (2809, 0.0), (2812, 0.0), (2813, 0.0), (2814, 0.0), (2816, 0.0), (2818, 0.0), (2821, 0.0), (2823, 0.0), (2827, 0.0), (2829, 0.0), (2831, 0.0), (2832, 0.0), (2833, 0.0), (2834, 0.0), (2836, 0.0), (2839, 0.0), (2841, 0.0), (2846, 0.0), (2848, 0.0), (2849, 0.0), (2851, 0.0), (2852, 0.0), (2853, 0.0), (2855, 0.0), (2856, 0.0), (2858, 0.0), (2859, 0.0), (2861, 0.0), (2863, 0.0), (2866, 0.0), (2868, 0.0), (2869, 0.0), (2870, 0.0), (2871, 0.0), (2872, 0.0), (2873, 0.0), (2874, 0.0), (2875, 0.0), (2877, 0.0), (2879, 0.0), (2882, 0.0), (2883, 0.0), (2886, 0.0), (2889, 0.0), (2890, 0.0), (2891, 0.0), (2893, 0.0), (2894, 0.0), (2896, 0.0), (2897, 0.0), (2900, 0.0), (2901, 0.0), (2902, 0.0), (2904, 0.0), (2905, 0.0), (2906, 0.0), (2907, 0.0), (2909, 0.0), (2911, 0.0), (2912, 0.0), (2914, 0.0), (2915, 0.0), (2916, 0.0), (2917, 0.0), (2921, 0.0), (2923, 0.0), (2924, 0.0), (2926, 0.0), (2928, 0.0), (2929, 0.0), (2930, 0.0), (2931, 0.0), (2933, 0.0), (2934, 0.0), (2939, 0.0), (2941, 0.0), (2942, 0.0), (2945, 0.0), (2946, 0.0), (2949, 0.0), (2951, 0.0), (2952, 0.0), (2953, 0.0), (2954, 0.0), (2957, 0.0), (2961, 0.0), (2964, 0.0), (2965, 0.0), (2966, 0.0), (2967, 0.0), (2968, 0.0), (2970, 0.0), (2972, 0.0), (2973, 0.0), (2974, 0.0), (2975, 0.0), (2977, 0.0), (2978, 0.0), (2983, 0.0), (2984, 0.0), (2985, 0.0), (2986, 0.0), (2987, 0.0), (2988, 0.0), (2991, 0.0), (2993, 0.0), (2994, 0.0), (2996, 0.0), (2997, 0.0), (3000, 0.0), (3003, 0.0), (3004, 0.0), (3005, 0.0), (3006, 0.0), (3007, 0.0), (3011, 0.0), (3012, 0.0), (3013, 0.0), (3014, 0.0), (3015, 0.0), (3016, 0.0), (3017, 0.0), (3018, 0.0), (3019, 0.0), (3020, 0.0), (3023, 0.0), (3025, 0.0), (3027, 0.0), (3028, 0.0), (3030, 0.0), (3031, 0.0), (3032, 0.0), (3033, 0.0), (3034, 0.0), (3035, 0.0), (3037, 0.0), (3038, 0.0), (3039, 0.0), (3040, 0.0), (3041, 0.0), (3042, 0.0), (3043, 0.0), (3046, 0.0), (3049, 0.0), (3050, 0.0), (3052, 0.0), (3053, 0.0), (3055, 0.0), (3056, 0.0), (3057, 0.0), (3061, 0.0), (3066, 0.0), (3067, 0.0), (3069, 0.0), (3071, 0.0), (3072, 0.0), (3073, 0.0), (3074, 0.0), (3075, 0.0), (3076, 0.0), (3077, 0.0), (3078, 0.0), (3081, 0.0), (3082, 0.0), (3083, 0.0), (3084, 0.0), (3086, 0.0), (3087, 0.0), (3088, 0.0), (3090, 0.0), (3092, 0.0), (3093, 0.0), (3095, 0.0), (3098, 0.0), (3101, 0.0), (3102, 0.0), (3103, 0.0), (3104, 0.0), (3106, 0.0), (3107, 0.0), (3108, 0.0), (3109, 0.0), (3110, 0.0), (3111, 0.0), (3113, 0.0), (3116, 0.0), (3117, 0.0), (3118, 0.0), (3120, 0.0), (3122, 0.0), (3125, 0.0), (3127, 0.0), (3128, 0.0), (3137, 0.0), (3138, 0.0), (3139, 0.0), (3140, 0.0), (3142, 0.0), (3144, 0.0), (3145, 0.0), (3146, 0.0), (3147, 0.0), (3148, 0.0), (3149, 0.0), (3150, 0.0), (3151, 0.0), (3153, 0.0), (3154, 0.0), (3155, 0.0), (3157, 0.0), (3159, 0.0), (3164, 0.0), (3166, 0.0), (3167, 0.0), (3170, 0.0), (3171, 0.0), (3173, 0.0), (3175, 0.0), (3176, 0.0), (3177, 0.0), (3178, 0.0), (3179, 0.0), (3182, 0.0), (3183, 0.0), (3184, 0.0), (3187, 0.0), (3188, 0.0), (3189, 0.0), (3190, 0.0), (3195, 0.0), (3196, 0.0), (3197, 0.0), (3198, 0.0), (3199, 0.0), (3200, 0.0), (3203, 0.0), (3204, 0.0), (3209, 0.0), (3211, 0.0), (3212, 0.0), (3214, 0.0), (3216, 0.0), (3217, 0.0), (3218, 0.0), (3219, 0.0), (3220, 0.0), (3222, 0.0), (3224, 0.0), (3226, 0.0), (3229, 0.0), (3230, 0.0), (3235, 0.0), (3236, 0.0), (3239, 0.0), (3240, 0.0), (3242, 0.0), (3243, 0.0), (3245, 0.0), (3248, 0.0), (3249, 0.0), (3250, 0.0), (3251, 0.0), (3252, 0.0), (3254, 0.0), (3257, 0.0), (3258, 0.0), (3260, 0.0), (3261, 0.0), (3262, 0.0), (3264, 0.0), (3265, 0.0), (3268, 0.0), (3273, 0.0), (3274, 0.0), (3277, 0.0), (3279, 0.0), (3280, 0.0), (3281, 0.0), (3282, 0.0), (3284, 0.0), (3285, 0.0), (3289, 0.0), (3290, 0.0), (3291, 0.0), (3292, 0.0), (3293, 0.0), (3295, 0.0), (3296, 0.0), (3299, 0.0), (3302, 0.0), (3303, 0.0), (3304, 0.0), (3307, 0.0), (3308, 0.0), (3309, 0.0), (3313, 0.0), (3314, 0.0), (3315, 0.0), (3316, 0.0), (3317, 0.0), (3318, 0.0), (3319, 0.0), (3322, 0.0), (3324, 0.0), (3325, 0.0), (3326, 0.0), (3329, 0.0), (3333, 0.0), (3335, 0.0), (3337, 0.0), (3338, 0.0), (3341, 0.0), (3344, 0.0), (3345, 0.0), (3347, 0.0), (3348, 0.0), (3349, 0.0), (3350, 0.0), (3352, 0.0), (3353, 0.0), (3354, 0.0), (3356, 0.0), (3357, 0.0), (3358, 0.0), (3359, 0.0), (3362, 0.0), (3364, 0.0), (3369, 0.0), (3370, 0.0), (3371, 0.0), (3372, 0.0), (3375, 0.0), (3376, 0.0), (3378, 0.0), (3379, 0.0), (3380, 0.0), (3381, 0.0), (3382, 0.0), (3386, 0.0), (3388, 0.0), (3390, 0.0), (3391, 0.0), (3392, 0.0), (3396, 0.0), (3398, 0.0), (3399, 0.0), (3400, 0.0), (3401, 0.0), (3402, 0.0), (3403, 0.0), (3406, 0.0), (3407, 0.0), (3409, 0.0), (3411, 0.0), (3414, 0.0), (3415, 0.0), (3418, 0.0), (3420, 0.0), (3421, 0.0), (3422, 0.0), (3423, 0.0), (3425, 0.0), (3428, 0.0), (3431, 0.0), (3433, 0.0), (3435, 0.0), (3436, 0.0), (3442, 0.0), (3446, 0.0), (3449, 0.0), (3455, 0.0), (3456, 0.0), (3457, 0.0), (3460, 0.0), (3462, 0.0), (3470, 0.0), (3471, 0.0), (3473, 0.0), (3474, 0.0), (3475, 0.0), (3476, 0.0), (3477, 0.0), (3478, 0.0), (3479, 0.0), (3481, 0.0), (3483, 0.0), (3485, 0.0), (3488, 0.0), (3489, 0.0), (3490, 0.0), (3491, 0.0), (3494, 0.0), (3495, 0.0), (3496, 0.0), (3497, 0.0), (3498, 0.0), (3499, 0.0), (3500, 0.0), (3501, 0.0), (3503, 0.0), (3504, 0.0), (3505, 0.0), (3508, 0.0), (3509, 0.0), (3510, 0.0), (3511, 0.0), (3517, 0.0), (3518, 0.0), (3519, 0.0), (3523, 0.0), (3524, 0.0), (3527, 0.0), (3529, 0.0), (3530, 0.0), (3533, 0.0), (3534, 0.0), (3536, 0.0), (3537, 0.0), (3538, 0.0), (3539, 0.0), (3540, 0.0), (3541, 0.0), (3543, 0.0), (3544, 0.0), (3545, 0.0), (3547, 0.0), (3548, 0.0), (3549, 0.0), (3551, 0.0), (3552, 0.0), (3553, 0.0), (3557, 0.0), (3558, 0.0), (3561, 0.0), (3562, 0.0), (3563, 0.0), (3564, 0.0), (3565, 0.0), (3570, 0.0), (3571, 0.0), (3572, 0.0), (3573, 0.0), (3575, 0.0), (3577, 0.0), (3579, 0.0), (3580, 0.0), (3581, 0.0), (3583, 0.0), (3584, 0.0), (3585, 0.0), (3589, 0.0), (3590, 0.0), (3592, 0.0), (3596, 0.0), (3599, 0.0), (3601, 0.0), (3607, 0.0), (3608, 0.0), (3610, 0.0), (3611, 0.0), (3612, 0.0), (3613, 0.0), (3614, 0.0), (3615, 0.0), (3617, 0.0), (3619, 0.0), (3620, 0.0), (3621, 0.0), (3622, 0.0), (3624, 0.0), (3626, 0.0), (3627, 0.0), (3631, 0.0), (3633, 0.0), (3636, 0.0), (3639, 0.0), (3640, 0.0), (3643, 0.0), (3644, 0.0), (3646, 0.0), (3647, 0.0), (3648, 0.0), (3649, 0.0), (3650, 0.0), (3652, 0.0), (3654, 0.0), (3656, 0.0), (3659, 0.0), (3662, 0.0), (3663, 0.0), (3665, 0.0), (3666, 0.0), (3667, 0.0), (3669, 0.0), (3670, 0.0), (3671, 0.0), (3672, 0.0), (3673, 0.0), (3674, 0.0), (3677, 0.0), (3678, 0.0), (3679, 0.0), (3681, 0.0), (3682, 0.0), (3683, 0.0), (3686, 0.0), (3687, 0.0), (3689, 0.0), (3691, 0.0), (3694, 0.0), (3696, 0.0), (3699, 0.0), (3701, 0.0), (3702, 0.0), (3704, 0.0), (3705, 0.0), (3711, 0.0), (3712, 0.0), (3713, 0.0), (3716, 0.0), (3717, 0.0), (3719, 0.0), (3721, 0.0), (3722, 0.0), (3725, 0.0), (3727, 0.0), (3728, 0.0), (3729, 0.0), (3730, 0.0), (3731, 0.0), (3732, 0.0), (3733, 0.0), (3736, 0.0), (3737, 0.0), (3740, 0.0), (3745, 0.0), (3746, 0.0), (3748, 0.0), (3749, 0.0), (3750, 0.0), (3752, 0.0), (3753, 0.0), (3754, 0.0), (3755, 0.0), (3756, 0.0), (3757, 0.0), (3760, 0.0), (3761, 0.0), (3762, 0.0), (3763, 0.0), (3764, 0.0), (3765, 0.0), (3766, 0.0), (3767, 0.0), (3768, 0.0), (3769, 0.0), (3770, 0.0), (3772, 0.0), (3774, 0.0), (3775, 0.0), (3778, 0.0), (3779, 0.0), (3780, 0.0), (3784, 0.0), (3788, 0.0), (3789, 0.0), (3790, 0.0), (3791, 0.0), (3792, 0.0), (3793, 0.0), (3796, 0.0), (3799, 0.0), (3800, 0.0), (3801, 0.0), (3804, 0.0), (3806, 0.0), (3808, 0.0), (3809, 0.0), (3810, 0.0), (3812, 0.0), (3813, 0.0), (3815, 0.0), (3816, 0.0), (3818, 0.0), (3819, 0.0), (3820, 0.0), (3821, 0.0), (3822, 0.0), (3823, 0.0), (3824, 0.0), (3827, 0.0), (3828, 0.0), (3829, 0.0), (3830, 0.0), (3831, 0.0), (3832, 0.0), (3833, 0.0), (3835, 0.0), (3836, 0.0), (3838, 0.0), (3841, 0.0), (3842, 0.0), (3843, 0.0), (3844, 0.0), (3847, 0.0), (3848, 0.0), (3851, 0.0), (3852, 0.0), (3853, 0.0), (3854, 0.0), (3855, 0.0), (3856, 0.0), (3857, 0.0), (3858, 0.0), (3859, 0.0), (3861, 0.0), (3863, 0.0), (3864, 0.0), (3866, 0.0), (3867, 0.0), (3868, 0.0), (3872, 0.0), (3874, 0.0), (3875, 0.0), (3876, 0.0), (3878, 0.0), (3879, 0.0), (3880, 0.0), (3882, 0.0), (3883, 0.0), (3884, 0.0), (3885, 0.0), (3887, 0.0), (3890, 0.0), (3891, 0.0), (3892, 0.0), (3893, 0.0), (3895, 0.0), (3896, 0.0), (3898, 0.0), (3899, 0.0), (3901, 0.0), (3902, 0.0), (3904, 0.0), (3905, 0.0), (3906, 0.0), (3909, 0.0), (3910, 0.0), (3911, 0.0), (3912, 0.0), (3913, 0.0), (3914, 0.0), (3915, 0.0), (3916, 0.0), (3918, 0.0), (3920, 0.0), (3921, 0.0), (3922, 0.0), (3924, 0.0), (3926, 0.0), (3927, 0.0), (3928, 0.0), (3929, 0.0), (3930, 0.0), (3931, 0.0), (3932, 0.0), (3933, 0.0), (3934, 0.0), (3935, 0.0), (3936, 0.0), (3938, 0.0), (3939, 0.0), (3940, 0.0), (3942, 0.0), (3943, 0.0), (3944, 0.0), (3945, 0.0), (3948, 0.0), (3949, 0.0), (3950, 0.0), (3951, 0.0), (3952, 0.0), (3954, 0.0), (3956, 0.0), (3959, 0.0), (3960, 0.0), (3961, 0.0), (3962, 0.0), (3964, 0.0), (3967, 0.0), (3970, 0.0), (3971, 0.0), (3974, 0.0), (3975, 0.0), (3976, 0.0), (3981, 0.0), (3983, 0.0), (3984, 0.0), (3985, 0.0), (3986, 0.0), (3988, 0.0), (3990, 0.0), (3992, 0.0), (3995, 0.0), (3996, 0.0), (3999, 0.0), (4000, 0.0), (4002, 0.0), (4003, 0.0), (4006, 0.0), (4007, 0.0), (4008, 0.0), (4013, 0.0), (4017, 0.0), (4019, 0.0), (4021, 0.0), (4023, 0.0), (4025, 0.0), (4026, 0.0), (4028, 0.0), (4029, 0.0), (4030, 0.0), (4040, 0.0), (4042, 0.0), (4048, 0.0), (4049, 0.0), (4050, 0.0), (4051, 0.0), (4052, 0.0), (4053, 0.0), (4057, 0.0), (4058, 0.0), (4059, 0.0), (4060, 0.0), (4062, 0.0), (4065, 0.0), (4066, 0.0), (4067, 0.0), (4069, 0.0), (4072, 0.0), (4073, 0.0), (4075, 0.0), (4078, 0.0), (4079, 0.0), (4081, 0.0), (4082, 0.0), (4083, 0.0), (4084, 0.0), (4089, 0.0), (4092, 0.0), (4096, 0.0), (4097, 0.0), (4101, 0.0), (4102, 0.0), (4105, 0.0), (4107, 0.0), (4108, 0.0), (4109, 0.0), (4110, 0.0), (4111, 0.0), (4113, 0.0), (4115, 0.0), (4117, 0.0), (4120, 0.0), (4123, 0.0), (4124, 0.0), (4126, 0.0), (4127, 0.0), (4129, 0.0), (4132, 0.0), (4133, 0.0), (4134, 0.0), (4137, 0.0), (4138, 0.0), (4140, 0.0), (4141, 0.0), (4145, 0.0), (4147, 0.0), (4149, 0.0), (4150, 0.0), (4151, 0.0), (4155, 0.0), (4156, 0.0), (4159, 0.0), (4161, 0.0), (4162, 0.0), (4163, 0.0), (4164, 0.0), (4166, 0.0), (4169, 0.0), (4170, 0.0), (4171, 0.0), (4172, 0.0), (4173, 0.0), (4174, 0.0), (4175, 0.0), (4176, 0.0), (4177, 0.0), (4178, 0.0), (4179, 0.0), (4180, 0.0), (4182, 0.0), (4183, 0.0), (4184, 0.0), (4187, 0.0), (4189, 0.0), (4190, 0.0), (4191, 0.0), (4192, 0.0), (4197, 0.0), (4198, 0.0), (4200, 0.0), (4201, 0.0), (4203, 0.0), (4204, 0.0), (4205, 0.0), (4206, 0.0), (4207, 0.0), (4208, 0.0), (4209, 0.0), (4212, 0.0), (4213, 0.0), (4214, 0.0), (4215, 0.0), (4216, 0.0), (4217, 0.0), (4219, 0.0), (4220, 0.0), (4222, 0.0), (4223, 0.0), (4225, 0.0), (4226, 0.0), (4227, 0.0), (4228, 0.0), (4229, 0.0), (4230, 0.0), (4231, 0.0), (4232, 0.0), (4234, 0.0), (4235, 0.0), (4237, 0.0), (4239, 0.0), (4242, 0.0), (4243, 0.0), (4245, 0.0), (4247, 0.0), (4252, 0.0), (4253, 0.0), (4254, 0.0), (4256, 0.0), (4257, 0.0), (4258, 0.0), (4259, 0.0), (4262, 0.0), (4263, 0.0), (4265, 0.0), (4267, 0.0), (4268, 0.0), (4271, 0.0), (4273, 0.0), (4275, 0.0), (4277, 0.0), (4278, 0.0), (4279, 0.0), (4280, 0.0), (4281, 0.0), (4282, 0.0), (4284, 0.0), (4286, 0.0), (4295, 0.0), (4296, 0.0), (4297, 0.0), (4298, 0.0), (4299, 0.0), (4301, 0.0), (4304, 0.0), (4305, 0.0), (4306, 0.0), (4307, 0.0), (4308, 0.0), (4309, 0.0), (4311, 0.0), (4313, 0.0), (4314, 0.0), (4315, 0.0), (4316, 0.0), (4317, 0.0), (4318, 0.0), (4319, 0.0), (4320, 0.0), (4321, 0.0), (4322, 0.0), (4324, 0.0), (4326, 0.0), (4327, 0.0), (4329, 0.0), (4330, 0.0), (4331, 0.0), (4332, 0.0), (4333, 0.0), (4335, 0.0), (4336, 0.0), (4342, 0.0), (4343, 0.0), (4348, 0.0), (4349, 0.0), (4350, 0.0), (4355, 0.0), (4356, 0.0), (4357, 0.0), (4358, 0.0), (4359, 0.0), (4361, 0.0), (4362, 0.0), (4363, 0.0), (4366, 0.0), (4367, 0.0), (4368, 0.0), (4369, 0.0), (4371, 0.0), (4372, 0.0), (4374, 0.0), (4375, 0.0), (4377, 0.0), (4378, 0.0), (4380, 0.0), (4381, 0.0), (4382, 0.0), (4385, 0.0), (4386, 0.0), (4387, 0.0), (4388, 0.0), (4389, 0.0), (4394, 0.0), (4395, 0.0), (4396, 0.0), (4397, 0.0), (4398, 0.0), (4399, 0.0), (4400, 0.0), (4402, 0.0), (4403, 0.0), (4404, 0.0), (4407, 0.0), (4408, 0.0), (4409, 0.0), (4411, 0.0), (4412, 0.0), (4413, 0.0), (4414, 0.0), (4415, 0.0), (4416, 0.0), (4417, 0.0), (4420, 0.0), (4421, 0.0), (4422, 0.0), (4423, 0.0), (4424, 0.0), (4425, 0.0), (4426, 0.0), (4427, 0.0), (4431, 0.0), (4433, 0.0), (4434, 0.0), (4437, 0.0), (4438, 0.0), (4441, 0.0), (4442, 0.0), (4446, 0.0), (4448, 0.0), (4449, 0.0), (4451, 0.0), (4452, 0.0), (4458, 0.0), (4459, 0.0), (4460, 0.0), (4461, 0.0), (4463, 0.0), (4464, 0.0), (4465, 0.0), (4470, 0.0), (4471, 0.0), (4473, 0.0), (4474, 0.0), (4475, 0.0), (4479, 0.0), (4480, 0.0), (4483, 0.0), (4485, 0.0), (4488, 0.0), (4489, 0.0), (4494, 0.0), (4496, 0.0), (4497, 0.0), (4498, 0.0), (4499, 0.0), (4500, 0.0), (4502, 0.0), (4504, 0.0), (4505, 0.0), (4506, 0.0), (4507, 0.0), (4508, 0.0), (4510, 0.0), (4511, 0.0), (4512, 0.0), (4513, 0.0), (4515, 0.0), (4517, 0.0), (4518, 0.0), (4520, 0.0), (4521, 0.0), (4522, 0.0), (4524, 0.0), (4525, 0.0), (4527, 0.0), (4528, 0.0), (4530, 0.0), (4531, 0.0), (4532, 0.0), (4536, 0.0), (4537, 0.0), (4538, 0.0), (4539, 0.0), (4540, 0.0), (4541, 0.0), (4542, 0.0), (4544, 0.0), (4545, 0.0), (4548, 0.0), (4551, 0.0), (4552, 0.0), (4554, 0.0), (4555, 0.0), (4556, 0.0), (4560, 0.0), (4561, 0.0), (4562, 0.0), (4563, 0.0), (4565, 0.0), (4566, 0.0), (4567, 0.0), (4571, 0.0), (4572, 0.0), (4574, 0.0), (4575, 0.0), (4577, 0.0), (4578, 0.0), (4579, 0.0), (4580, 0.0), (4582, 0.0), (4583, 0.0), (4587, 0.0), (4592, 0.0), (4593, 0.0), (4594, 0.0), (4595, 0.0), (4596, 0.0), (4598, 0.0), (4599, 0.0), (4601, 0.0), (4602, 0.0), (4603, 0.0), (4604, 0.0), (4607, 0.0), (4611, 0.0), (4614, 0.0), (4615, 0.0), (4616, 0.0), (4617, 0.0), (4618, 0.0), (4620, 0.0), (4621, 0.0), (4623, 0.0), (4624, 0.0), (4625, 0.0), (4627, 0.0), (4628, 0.0), (4632, 0.0), (4633, 0.0), (4634, 0.0), (4635, 0.0), (4636, 0.0), (4637, 0.0), (4639, 0.0), (4641, 0.0), (4644, 0.0), (4645, 0.0), (4648, 0.0), (4650, 0.0), (4651, 0.0), (4652, 0.0), (4654, 0.0), (4655, 0.0), (4657, 0.0), (4658, 0.0), (4662, 0.0), (4664, 0.0), (4665, 0.0), (4667, 0.0), (4668, 0.0), (4669, 0.0), (4671, 0.0), (4672, 0.0), (4675, 0.0), (4678, 0.0), (4679, 0.0), (4680, 0.0), (4681, 0.0), (4685, 0.0), (4686, 0.0), (4687, 0.0), (4688, 0.0), (4689, 0.0), (4691, 0.0), (4692, 0.0), (4693, 0.0), (4694, 0.0), (4695, 0.0), (4696, 0.0), (4699, 0.0), (4700, 0.0), (4702, 0.0), (4706, 0.0), (4707, 0.0), (4710, 0.0), (4711, 0.0), (4712, 0.0), (4713, 0.0), (4718, 0.0), (4719, 0.0), (4720, 0.0), (4721, 0.0), (4722, 0.0), (4724, 0.0), (4728, 0.0), (4729, 0.0), (4731, 0.0), (4732, 0.0), (4734, 0.0), (4735, 0.0), (4736, 0.0), (4737, 0.0), (4738, 0.0), (4740, 0.0), (4744, 0.0), (4746, 0.0), (4748, 0.0), (4749, 0.0), (4750, 0.0), (4751, 0.0), (4753, 0.0), (4755, 0.0), (4756, 0.0), (4757, 0.0), (4758, 0.0), (4759, 0.0)]\n"
          ]
        }
      ]
    },
    {
      "cell_type": "code",
      "source": [
        "print('Top 30 Movies Suggested for You : \\n')\n",
        "\n",
        "i=1\n",
        "\n",
        "for movie in Sorted_Similar_Movies:\n",
        "  index = movie[0]\n",
        "  title_from_index = df[df.index==index]['Movie_Title'].values[0]\n",
        "  if(i<31):\n",
        "    print(i, '.', title_from_index)\n",
        "    i+=1"
      ],
      "metadata": {
        "colab": {
          "base_uri": "https://localhost:8080/"
        },
        "id": "9YP0m6DbbXsv",
        "outputId": "6974c95f-6430-4e3b-f093-180a03cfd55f"
      },
      "execution_count": 47,
      "outputs": [
        {
          "output_type": "stream",
          "name": "stdout",
          "text": [
            "Top 30 Movies Suggested for You : \n",
            "\n",
            "1 . The Lost World: Jurassic Park\n",
            "2 . Jurassic Park\n",
            "3 . Jurassic Park III\n",
            "4 . Jurassic World\n",
            "5 . The Helix... Loaded\n",
            "6 . The Shipping News\n",
            "7 . Alien³\n",
            "8 . The Land Before Time\n",
            "9 . Valley of the Heart's Delight\n",
            "10 . DragonHeart\n",
            "11 . Independence Day\n",
            "12 . Independence Day: Resurgence\n",
            "13 . The Good Dinosaur\n",
            "14 . The Man with the Golden Gun\n",
            "15 . Couples Retreat\n",
            "16 . The Watch\n",
            "17 . Among Giants\n",
            "18 . Still Alice\n",
            "19 . Dark Water\n",
            "20 . Made\n",
            "21 . Close Encounters of the Third Kind\n",
            "22 . The Cell\n",
            "23 . Pirates of the Caribbean: Dead Man's Chest\n",
            "24 . Indiana Jones and the Temple of Doom\n",
            "25 . Nim's Island\n",
            "26 . War of the Worlds\n",
            "27 . Cutthroat Island\n",
            "28 . Indiana Jones and the Kingdom of the Crystal Skull\n",
            "29 . Mr. & Mrs. Smith\n",
            "30 . Jaws\n"
          ]
        }
      ]
    },
    {
      "cell_type": "markdown",
      "source": [
        "**Top 10 Movie Recommendation System**\n",
        "\n",
        "\n"
      ],
      "metadata": {
        "id": "0oP2maXGcNnt"
      }
    },
    {
      "cell_type": "code",
      "source": [
        "Movie_Name = input('Enter your favourite movie name: ')\n",
        "list_of_all_titles = df['Movie_Title'].tolist()\n",
        "Find_Close_Match = difflib.get_close_matches(Movie_Name, list_of_all_titles)\n",
        "Close_Match = Find_Close_Match[0]\n",
        "Index_of_Movie = df[df.Movie_Title == Close_Match]['Movie_ID'].values[0]\n",
        "Recommendation_Score = list(enumerate(Similarity_Score[Index_of_Movie]))\n",
        "sorted_similar_movies = sorted(Recommendation_Score, key = lambda x:x[1], reverse = True)\n",
        "print('Top 10 Movies suggested for you : \\n')\n",
        "i=1\n",
        "\n",
        "for movie in sorted_similar_movies:\n",
        "  index = movie[0]\n",
        "  title_from_index = df[df.Movie_ID == index]['Movie_Title'].values\n",
        "  if(i<11):\n",
        "    print(i, '.', title_from_index)\n",
        "    i+=1\n",
        "\n"
      ],
      "metadata": {
        "colab": {
          "base_uri": "https://localhost:8080/"
        },
        "id": "8jBTDbkfcZmP",
        "outputId": "3cf4c833-f6d9-4ebc-c37f-2e1ad64d5899"
      },
      "execution_count": 52,
      "outputs": [
        {
          "output_type": "stream",
          "name": "stdout",
          "text": [
            "Enter your favourite movie name: avataar\n",
            "Top 10 Movies suggested for you : \n",
            "\n",
            "1 . ['Avatar']\n",
            "2 . ['The Girl on the Train']\n",
            "3 . ['Act of Valor']\n",
            "4 . ['Donnie Darko']\n",
            "5 . ['Precious']\n",
            "6 . ['Freaky Friday']\n",
            "7 . ['The Opposite Sex']\n",
            "8 . ['Heaven is for Real']\n",
            "9 . ['Run Lola Run']\n",
            "10 . ['Elizabethtown']\n"
          ]
        }
      ]
    },
    {
      "cell_type": "code",
      "source": [],
      "metadata": {
        "id": "6AGl4ei1cvxV"
      },
      "execution_count": null,
      "outputs": []
    }
  ]
}